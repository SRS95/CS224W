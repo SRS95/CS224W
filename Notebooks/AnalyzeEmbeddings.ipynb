{
 "cells": [
  {
   "cell_type": "code",
   "execution_count": 6,
   "metadata": {},
   "outputs": [],
   "source": [
    "import numpy as np\n",
    "from gensim.models import Word2Vec\n",
    "import snap\n",
    "import operator\n",
    "import snap"
   ]
  },
  {
   "cell_type": "code",
   "execution_count": 130,
   "metadata": {},
   "outputs": [],
   "source": [
    "def getNumAcquired(sim_rankings, acquired_companies_in_graph_by_id, k):\n",
    "    top_rankings = sim_rankings[:k]\n",
    "    result = 0\n",
    "    \n",
    "    for tup in top_rankings:\n",
    "        company_id = int(tup[0])\n",
    "        if company_id in acquired_companies_in_graph_by_id: result += 1\n",
    "    \n",
    "    return result"
   ]
  },
  {
   "cell_type": "code",
   "execution_count": 129,
   "metadata": {},
   "outputs": [],
   "source": [
    "def getAcquiredToNumAcquired(k, node_to_sorted_L2_similarities, acquired_companies_in_graph_by_id):\n",
    "    acquired_to_num_acquired = {}\n",
    "\n",
    "    for company_id in acquired_companies_in_graph_by_id:\n",
    "        sim_rankings = node_to_sorted_L2_similarities[str(company_id)]\n",
    "        acquired_to_num_acquired[company_id] = getNumAcquired(sim_rankings, acquired_companies_in_graph_by_id, k)\n",
    "                                     \n",
    "    return acquired_to_num_acquired"
   ]
  },
  {
   "cell_type": "code",
   "execution_count": 7,
   "metadata": {},
   "outputs": [],
   "source": [
    "# Returns a list sorted from the node with the least l2 distance to \n",
    "# reference node to the node with the greatest l2 distance\n",
    "def calculateSortedL2Similarity(reference_node, model):\n",
    "    reference_embeddings = model[reference_node]\n",
    "    l2_similarities = {}\n",
    "\n",
    "    for key in model.vocab:\n",
    "        if key != reference_node:\n",
    "            curr_l2 = np.linalg.norm(reference_embeddings - model[key])\n",
    "            l2_similarities[key] = curr_l2\n",
    "\n",
    "    sorted_l2_similarities = sorted(l2_similarities.items(), key=operator.itemgetter(1))\n",
    "    return sorted_l2_similarities"
   ]
  },
  {
   "cell_type": "code",
   "execution_count": 8,
   "metadata": {},
   "outputs": [],
   "source": [
    "def createSortedSimilaritesMap(model):\n",
    "    result = {}\n",
    "    for key in model.vocab:\n",
    "        result[key] = calculateSortedL2Similarity(key, model)\n",
    "    return result"
   ]
  },
  {
   "cell_type": "code",
   "execution_count": 9,
   "metadata": {},
   "outputs": [],
   "source": [
    "# Load the embeddings from memory\n",
    "BFS_model = Word2Vec.load_word2vec_format(\"../node2vec_embeddings/company_embeddings_p1_q100.emd\")\n",
    "neutral_model = Word2Vec.load_word2vec_format(\"../node2vec_embeddings/company_embeddings_p1_q1.emd\")\n",
    "DFS_model = Word2Vec.load_word2vec_format(\"../node2vec_embeddings/company_embeddings_p1_q0_01.emd\")"
   ]
  },
  {
   "cell_type": "code",
   "execution_count": 10,
   "metadata": {},
   "outputs": [
    {
     "name": "stdout",
     "output_type": "stream",
     "text": [
      "Completed BFS model\n",
      "Completed neutral model\n",
      "Completed DFS model\n"
     ]
    }
   ],
   "source": [
    "BFS_nodeToSortedL2Similarities = createSortedSimilaritesMap(BFS_model)\n",
    "print \"Completed BFS model\"\n",
    "neutral_nodeToSortedL2Similarities = createSortedSimilaritesMap(neutral_model)\n",
    "print \"Completed neutral model\"\n",
    "DFS_nodeToSortedL2Similarities = createSortedSimilaritesMap(DFS_model)\n",
    "print \"Completed DFS model\""
   ]
  },
  {
   "cell_type": "code",
   "execution_count": 15,
   "metadata": {},
   "outputs": [],
   "source": [
    "'''\n",
    "DO NOT RUN THIS AGAIN!\n",
    "\n",
    "np.save(\"../node2vec_embeddings/nodeToSortedL2Similarities_p1_q100\", BFS_nodeToSortedL2Similarities)\n",
    "np.save(\"../node2vec_embeddings/nodeToSortedL2Similarities_p1_q1\", neutral_nodeToSortedL2Similarities)\n",
    "np.save(\"../node2vec_embeddings/nodeToSortedL2Similarities_p1_q0_01\", DFS_nodeToSortedL2Similarities)\n",
    "'''"
   ]
  },
  {
   "cell_type": "code",
   "execution_count": 35,
   "metadata": {},
   "outputs": [
    {
     "name": "stdout",
     "output_type": "stream",
     "text": [
      "4563\n"
     ]
    }
   ],
   "source": [
    "# These are all of the acquired companies we know about\n",
    "acquired_companies = set(np.load(\"../acquired_companies.npy\"))"
   ]
  },
  {
   "cell_type": "code",
   "execution_count": 114,
   "metadata": {},
   "outputs": [],
   "source": [
    "# Now we find the overlap between companies in our graph and the set of acquired companies\n",
    "node_id_to_value = np.load(\"../../graphs/investors_to_companies_directed/node_id_to_value.npy\").item()\n",
    "FIn = snap.TFIn(\"../../graphs/investors_to_companies_directed/investors_to_companies_directed_folded_reverse_order.graph\")\n",
    "G = snap.TUNGraph.Load(FIn)\n",
    "\n",
    "companies_in_graph = set()\n",
    "for EI in G.Edges(): \n",
    "    curr_src_id = EI.GetSrcNId()\n",
    "    curr_dst_id = EI.GetDstNId()\n",
    "    companies_in_graph.add(node_id_to_value[curr_src_id])\n",
    "    companies_in_graph.add(node_id_to_value[curr_dst_id])\n",
    "    \n",
    "# These are the acquired companies in our folded graph\n",
    "acquired_companies_in_graph = companies_in_graph.intersection(acquired_companies)\n",
    "\n",
    "acquired_companies_in_graph_by_id = []\n",
    "value_to_node_id = {v: k for k, v in node_id_to_value.iteritems()}\n",
    "for company in acquired_companies_in_graph:\n",
    "    acquired_companies_in_graph_by_id.append(value_to_node_id[company])"
   ]
  },
  {
   "cell_type": "code",
   "execution_count": 133,
   "metadata": {},
   "outputs": [
    {
     "name": "stdout",
     "output_type": "stream",
     "text": [
      "{4098: 16, 3: 19, 2055: 22, 10248: 27, 343: 24, 8208: 15, 8212: 27, 2076: 24, 6055: 15, 30: 17, 6177: 27, 6178: 20, 6181: 19, 6185: 15, 10282: 27, 2093: 19, 10286: 27, 5469: 19, 10288: 19, 8243: 30, 15385: 24, 8247: 15, 4152: 17, 8249: 29, 8252: 21, 2059: 24, 16453: 30, 2120: 17, 3753: 14, 6219: 14, 6220: 18, 6444: 23, 10325: 13, 86: 22, 88: 25, 11620: 24, 12379: 13, 6238: 23, 2665: 14, 10344: 22, 8298: 25, 8299: 23, 8300: 18, 8301: 19, 8303: 20, 16497: 30, 10354: 19, 4212: 26, 2165: 23, 8310: 24, 4215: 15, 8312: 22, 6278: 13, 5141: 17, 4224: 17, 10369: 22, 10370: 18, 134: 11, 10381: 22, 4238: 23, 4239: 27, 11403: 25, 4241: 27, 5661: 21, 8339: 22, 8340: 21, 8341: 29, 4246: 28, 5145: 26, 4251: 29, 157: 19, 159: 20, 160: 23, 161: 21, 12451: 21, 4260: 21, 5830: 24, 2417: 25, 6172: 26, 10410: 24, 4268: 18, 173: 20, 4270: 24, 2223: 27, 2224: 25, 10417: 22, 178: 21, 9587: 16, 4276: 19, 4279: 16, 2232: 13, 4281: 21, 8379: 19, 10428: 19, 7882: 10, 4287: 26, 3670: 23, 6337: 23, 2242: 30, 9112: 13, 16580: 19, 4293: 21, 6343: 10, 4297: 26, 8394: 23, 4301: 17, 4303: 18, 8400: 22, 210: 23, 2259: 16, 4308: 22, 4310: 15, 6359: 27, 14552: 18, 6361: 15, 6363: 26, 6368: 24, 10465: 26, 8419: 22, 228: 26, 4325: 25, 4327: 16, 8427: 20, 6382: 14, 14576: 21, 12529: 18, 6526: 25, 247: 23, 12538: 20, 2090: 19, 2302: 19, 12549: 17, 10507: 12, 6413: 17, 12559: 25, 273: 20, 7885: 18, 12569: 13, 11057: 9, 10527: 14, 6435: 20, 6436: 17, 8486: 26, 6440: 15, 4393: 21, 5511: 11, 300: 26, 6447: 22, 8498: 21, 6452: 24, 1715: 15, 6454: 21, 6456: 18, 6457: 22, 12606: 16, 6464: 19, 2369: 37, 4419: 22, 3966: 26, 16712: 25, 4430: 24, 4434: 20, 8532: 18, 8533: 21, 342: 16, 8535: 17, 10309: 17, 2402: 24, 355: 19, 6501: 17, 6502: 15, 6503: 22, 361: 19, 3815: 21, 8556: 12, 10607: 24, 6513: 25, 4499: 16, 6516: 17, 6517: 28, 4473: 13, 3695: 24, 6524: 19, 6525: 18, 12670: 19, 11669: 20, 10625: 18, 10627: 27, 6532: 27, 6535: 25, 4490: 27, 2443: 17, 12684: 15, 4493: 20, 8595: 28, 4500: 14, 8598: 16, 14743: 26, 4504: 22, 8603: 24, 4509: 33, 4510: 22, 8607: 15, 4513: 15, 10665: 17, 427: 19, 3826: 24, 4526: 21, 12701: 23, 6577: 18, 4530: 22, 435: 18, 6580: 15, 6582: 15, 6583: 21, 443: 12, 6588: 18, 4546: 24, 8643: 20, 8651: 26, 6609: 20, 5539: 27, 10710: 18, 8663: 15, 2117: 16, 4312: 26, 4573: 25, 478: 16, 479: 23, 481: 28, 1789: 19, 4581: 10, 486: 22, 487: 25, 488: 24, 2537: 23, 493: 24, 494: 25, 495: 21, 12784: 24, 497: 16, 4594: 23, 2547: 16, 10741: 26, 4521: 14, 14840: 16, 507: 14, 12799: 21, 2562: 29, 10667: 27, 516: 18, 10418: 30, 14856: 22, 12809: 28, 2570: 20, 2571: 19, 8716: 28, 10765: 15, 6670: 15, 6675: 18, 10772: 17, 6574: 19, 10774: 26, 535: 24, 4634: 12, 12719: 22, 10780: 21, 12829: 21, 6686: 17, 6687: 26, 6690: 23, 554: 15, 8748: 21, 8749: 21, 8750: 19, 8753: 28, 5909: 28, 6710: 26, 10807: 12, 6713: 26, 8762: 22, 6702: 31, 3497: 28, 8771: 16, 10874: 12, 8774: 17, 6730: 20, 3020: 24, 12045: 25, 8787: 16, 12887: 22, 783: 25, 6748: 21, 12894: 19, 10850: 22, 4708: 21, 6760: 17, 8636: 21, 619: 6, 620: 14, 621: 22, 2672: 15, 8820: 22, 4726: 22, 14967: 29, 10872: 20, 2836: 19, 8826: 30, 789: 18, 6251: 23, 3521: 18, 6792: 26, 649: 24, 13079: 18, 8844: 28, 8845: 25, 6799: 20, 2704: 31, 4753: 15, 6802: 16, 2499: 20, 4756: 20, 663: 24, 6811: 15, 6813: 26, 6815: 8, 6910: 12, 12962: 17, 795: 27, 6821: 28, 12966: 15, 6825: 17, 6827: 15, 10924: 22, 6258: 30, 8879: 15, 6833: 28, 10525: 22, 4796: 18, 4802: 11, 8899: 28, 13430: 18, 4809: 26, 4810: 19, 8311: 20, 716: 19, 4815: 25, 8916: 20, 6872: 19, 8924: 26, 6877: 20, 6878: 26, 6879: 17, 6880: 15, 11046: 28, 6886: 17, 8936: 19, 11047: 16, 752: 10, 808: 21, 11390: 16, 2812: 26, 8957: 25, 766: 11, 17152: 24, 4866: 19, 15109: 19, 2822: 20, 4875: 29, 4879: 26, 13075: 19, 4884: 24, 2837: 13, 791: 23, 793: 15, 9116: 19, 797: 15, 799: 22, 11040: 14, 11785: 15, 11739: 23, 804: 26, 4901: 24, 806: 24, 4903: 18, 11048: 30, 11051: 21, 813: 24, 11054: 28, 816: 22, 817: 27, 4914: 24, 819: 26, 11062: 28, 6969: 20, 14553: 28, 4926: 16, 11071: 23, 4929: 20, 4931: 22, 836: 23, 822: 28, 9030: 11, 11745: 30, 13128: 19, 841: 26, 4940: 19, 2895: 23, 6286: 21, 7186: 21, 7007: 11, 7009: 15, 4666: 25, 871: 20, 11114: 20, 876: 21, 7024: 21, 4977: 28, 7027: 21, 9078: 13, 4983: 21, 4985: 26, 3903: 20, 9086: 21, 2943: 21, 6977: 22, 5001: 25, 5005: 10, 5554: 15, 2961: 27, 3907: 25, 13206: 22, 13208: 20, 13209: 14, 5019: 26, 5020: 20, 9117: 21, 5022: 16, 2975: 18, 5025: 11, 6373: 28, 2981: 22, 7078: 21, 7082: 30, 4935: 18, 7088: 24, 7089: 24, 7098: 27, 6303: 20, 9148: 19, 13245: 22, 11205: 18, 5067: 16, 15308: 15, 3021: 15, 3022: 18, 5071: 19, 3024: 18, 5073: 19, 3028: 11, 3030: 23, 3034: 30, 3039: 19, 7139: 25, 997: 18, 13287: 20, 5097: 18, 3053: 28, 3056: 13, 7849: 13, 3241: 22, 3648: 21, 7163: 15, 3068: 13, 3069: 15, 172: 27, 9226: 18, 514: 17, 5134: 20, 9234: 32, 9235: 21, 8366: 12, 7190: 18, 5144: 19, 9241: 14, 9242: 27, 3100: 13, 9245: 24, 13343: 10, 4272: 18, 7203: 17, 9252: 18, 15311: 25, 7209: 20, 2567: 15, 1068: 20, 7213: 22, 5981: 26, 11316: 19, 9269: 20, 11319: 23, 15416: 27, 11321: 14, 13378: 29, 13381: 17, 13384: 29, 6668: 19, 2231: 17, 7197: 17, 3149: 14, 11347: 19, 9300: 25, 5207: 16, 13403: 10, 5213: 18, 5214: 17, 5215: 20, 4283: 18, 9316: 17, 5221: 18, 5222: 23, 4284: 32, 515: 17, 788: 20, 1143: 14, 1556: 8, 7290: 26, 5243: 18, 11388: 10, 3946: 24, 19582: 34, 8725: 24, 6678: 19, 15256: 29, 10775: 19, 4290: 23, 13458: 11, 7316: 27, 9365: 12, 1062: 29, 3269: 23, 17265: 19, 4636: 7, 5768: 22, 9388: 16, 9389: 21, 10781: 23, 3553: 28, 9393: 21, 7348: 30, 7352: 21, 5306: 31, 13499: 17, 11455: 21, 11457: 19, 11461: 22, 6309: 23, 9427: 27, 1236: 19, 1238: 13, 9081: 20, 1240: 18, 1248: 18, 13540: 12, 8225: 20, 7402: 24, 5355: 20, 11502: 16, 5362: 16, 8403: 13, 3316: 32, 6014: 26, 3318: 21, 11499: 17, 11514: 19, 5371: 17, 5375: 18, 1281: 11, 11522: 17, 11523: 23, 11524: 27, 13527: 17, 11533: 24, 557: 17, 216: 13, 3349: 25, 11543: 18, 9496: 21, 5403: 9, 5404: 22, 6863: 17, 5408: 22, 7457: 26, 7458: 25, 180: 25, 7461: 28, 5415: 14, 3368: 18, 7474: 24, 7475: 24, 7476: 23, 5429: 28, 5430: 21, 7479: 20, 5432: 20, 7481: 16, 7482: 28, 7489: 16, 11588: 15, 7493: 23, 9542: 26, 7495: 22, 11594: 18, 7499: 19, 17740: 19, 7501: 19, 11599: 25, 7504: 21, 5460: 13, 5463: 18, 3416: 23, 10127: 18, 6714: 24, 11615: 23, 6797: 21, 7521: 26, 5476: 24, 11912: 19, 11635: 15, 9593: 18, 5499: 20, 11648: 17, 1600: 24, 6379: 15, 3460: 16, 1414: 26, 9607: 26, 11658: 16, 9613: 16, 11663: 26, 5521: 22, 4675: 22, 5524: 19, 16622: 25, 1435: 20, 13726: 13, 10416: 22, 13211: 21, 9641: 19, 1450: 25, 1266: 24, 1458: 18, 6186: 16, 15262: 25, 3510: 21, 185: 17, 7611: 10, 3517: 9, 7617: 18, 7625: 27, 5580: 20, 2368: 25, 11729: 19, 11029: 19, 3542: 26, 11737: 26, 3547: 21, 5370: 13, 11742: 23, 5600: 20, 9697: 26, 3555: 20, 11748: 22, 5605: 18, 5606: 22, 5608: 21, 9707: 19, 7661: 27, 7663: 24, 9718: 16, 9721: 11, 5626: 20, 7676: 25, 10144: 24, 5637: 20, 7689: 17, 5642: 22, 7694: 17, 13840: 16, 5649: 18, 5651: 25, 5652: 30, 5653: 17, 5657: 19, 5659: 21, 1626: 20, 12208: 25, 10843: 24, 5668: 15, 3623: 15, 5672: 8, 10844: 18, 5675: 18, 3634: 21, 1630: 14, 5687: 14, 5691: 25, 15933: 31, 5694: 16, 15936: 23, 3649: 19, 13892: 19, 1611: 21, 9804: 20, 9808: 27, 13905: 14, 7762: 21, 12804: 25, 1621: 22, 1622: 26, 3674: 24, 13242: 20, 5726: 18, 5734: 14, 3686: 24, 18024: 20, 13932: 19, 3694: 11, 18365: 28, 4712: 25, 1650: 8, 3699: 20, 6078: 21, 7798: 22, 7799: 15, 3707: 24, 9855: 22, 2667: 28, 8699: 17, 3717: 28, 3718: 22, 3720: 26, 13961: 17, 7819: 19, 1676: 17, 3727: 27, 3728: 21, 5400: 21, 3730: 23, 11925: 21, 3734: 25, 11927: 13, 7833: 20, 7834: 24, 1691: 28, 1692: 27, 1694: 21, 1704: 9, 9500: 23, 9898: 22, 3756: 7, 9901: 18, 3759: 19, 9904: 26, 3763: 14, 5406: 19, 6431: 22, 3773: 23, 5749: 29, 7456: 18, 14020: 20, 14022: 13, 5832: 27, 7881: 20, 9930: 32, 2679: 22, 17698: 14, 7886: 32, 7888: 16, 5411: 16, 5845: 20, 1753: 11, 7899: 11, 7901: 28, 7902: 21, 11999: 16, 7906: 25, 12003: 14, 2342: 29, 5862: 26, 9959: 13, 7913: 22, 7918: 23, 7922: 24, 7923: 25, 5876: 16, 5878: 16, 5880: 20, 9977: 14, 1786: 21, 1787: 20, 1788: 21, 7933: 14, 3839: 19, 6443: 21, 12036: 29, 1801: 19, 5899: 26, 3853: 24, 7951: 21, 14296: 24, 5906: 18, 5925: 19, 5911: 18, 5912: 21, 5916: 30, 3870: 18, 5919: 15, 12069: 21, 7976: 19, 5929: 22, 10026: 21, 1834: 23, 10028: 19, 10029: 17, 10031: 27, 1840: 23, 10033: 21, 7987: 21, 10036: 26, 7989: 22, 3901: 20, 9525: 14, 1856: 22, 14147: 27, 285: 15, 1864: 10, 3913: 18, 3915: 18, 3919: 22, 14648: 20, 16211: 19, 5974: 19, 8025: 20, 2703: 17, 8028: 11, 10077: 17, 14174: 20, 10082: 20, 3944: 21, 5994: 22, 3947: 25, 3951: 24, 6001: 21, 3954: 19, 3955: 24, 6007: 17, 6008: 23, 6011: 19, 6013: 26, 12158: 30, 3968: 19, 6017: 14, 3970: 18, 12163: 24, 3973: 24, 6022: 11, 3627: 21, 1931: 22, 1933: 18, 3983: 28, 4838: 30, 8086: 15, 1944: 16, 9540: 23, 8090: 19, 10139: 33, 1565: 11, 3738: 26, 10142: 37, 10143: 26, 1952: 18, 10146: 19, 1956: 27, 1957: 21, 2033: 11, 5930: 20, 6062: 20, 10909: 25, 6064: 15, 9886: 21, 12215: 12, 4027: 14, 12220: 17, 9546: 17, 10174: 23, 10175: 10, 10178: 21, 1990: 18, 10913: 18, 5452: 20, 10186: 25, 5453: 10, 2008: 23, 8156: 17, 8158: 20, 10208: 32, 5456: 28, 10214: 27, 14311: 26, 8171: 20, 11261: 20, 6128: 16, 8177: 9, 9897: 22, 7498: 15}\n"
     ]
    }
   ],
   "source": [
    "k = 100\n",
    "acquired_to_num_acquired_BFS = getAcquiredToNumAcquired(k, BFS_nodeToSortedL2Similarities, acquired_companies_in_graph_by_id)\n",
    "acquired_to_num_acquired_neutral = getAcquiredToNumAcquired(k, neutral_nodeToSortedL2Similarities, acquired_companies_in_graph_by_id)\n",
    "acquired_to_num_acquired_DFS = getAcquiredToNumAcquired(k, DFS_nodeToSortedL2Similarities, acquired_companies_in_graph_by_id)\n",
    "\n",
    "#null_model = getNullModel()"
   ]
  },
  {
   "cell_type": "code",
   "execution_count": null,
   "metadata": {},
   "outputs": [],
   "source": []
  },
  {
   "cell_type": "code",
   "execution_count": null,
   "metadata": {},
   "outputs": [],
   "source": []
  }
 ],
 "metadata": {
  "kernelspec": {
   "display_name": "Python 2",
   "language": "python",
   "name": "python2"
  },
  "language_info": {
   "codemirror_mode": {
    "name": "ipython",
    "version": 2
   },
   "file_extension": ".py",
   "mimetype": "text/x-python",
   "name": "python",
   "nbconvert_exporter": "python",
   "pygments_lexer": "ipython2",
   "version": "2.7.14"
  }
 },
 "nbformat": 4,
 "nbformat_minor": 2
}
