{
 "cells": [
  {
   "cell_type": "code",
   "execution_count": 39,
   "metadata": {},
   "outputs": [],
   "source": [
    "import numpy as np\n",
    "from gensim.models import Word2Vec\n",
    "import snap\n",
    "import operator\n",
    "import snap\n",
    "from scipy.stats import binom\n",
    "import matplotlib.pyplot as plt\n",
    "import scipy\n",
    "\n",
    "# Machine learning packages\n",
    "\n",
    "# Supervised learning\n",
    "from sklearn.linear_model import LogisticRegression\n",
    "from sklearn.neural_network import MLPClassifier\n",
    "from sklearn.neighbors import KNeighborsClassifier\n",
    "from sklearn.tree import DecisionTreeClassifier\n",
    "from sklearn.ensemble import RandomForestClassifier\n",
    "from sklearn.metrics import confusion_matrix\n",
    "\n",
    "# Unsupervised learning (i.e. clustering)\n",
    "from sklearn.cluster import KMeans\n",
    "from sklearn.cluster import AgglomerativeClustering\n",
    "\n",
    "# Clustering assessment metrics(for unknown ground truth)\n",
    "from sklearn.metrics import silhouette_score\n",
    "from sklearn.metrics import calinski_harabaz_score"
   ]
  },
  {
   "cell_type": "code",
   "execution_count": 40,
   "metadata": {},
   "outputs": [],
   "source": [
    "# Find how many of the k most similar companies to a given\n",
    "# node were acquired\n",
    "def getNumAcquired(sim_rankings, acquired_companies_in_graph_by_id, k):\n",
    "    top_rankings = sim_rankings[:k]\n",
    "    result = 0\n",
    "    \n",
    "    for tup in top_rankings:\n",
    "        company_id = int(tup[0])\n",
    "        if company_id in acquired_companies_in_graph_by_id: result += 1\n",
    "    \n",
    "    return result"
   ]
  },
  {
   "cell_type": "code",
   "execution_count": 41,
   "metadata": {},
   "outputs": [],
   "source": [
    "# For each company, find out how many of the k most similar companies\n",
    "# to the given company were acquired\n",
    "# IDEA: maybe companies more similar to acquired companies\n",
    "# were also acquired\n",
    "def getCompaniesToNumAcquired(k, node_to_sorted_L2_similarities, acquired_companies_in_graph_by_id, companies):\n",
    "    result = {}\n",
    "\n",
    "    for company_id in companies:\n",
    "        sim_rankings = node_to_sorted_L2_similarities[str(company_id)]\n",
    "        result[company_id] = getNumAcquired(sim_rankings, acquired_companies_in_graph_by_id, k)\n",
    "                                     \n",
    "    return result"
   ]
  },
  {
   "cell_type": "code",
   "execution_count": 42,
   "metadata": {},
   "outputs": [],
   "source": [
    "# Get the probabilities we would expect under the null\n",
    "def getNullProbs(companies_to_num_acquired, n, p):\n",
    "    result = {}\n",
    "    \n",
    "    for key in companies_to_num_acquired:\n",
    "        result[key] = binom.pmf(companies_to_num_acquired[key], n, p)\n",
    "        \n",
    "    return result"
   ]
  },
  {
   "cell_type": "code",
   "execution_count": 43,
   "metadata": {},
   "outputs": [],
   "source": [
    "# Returns a list sorted from the node with the least l2 distance to \n",
    "# reference node to the node with the greatest l2 distance\n",
    "def calculateSortedL2Similarity(reference_node, model):\n",
    "    reference_embeddings = model[reference_node]\n",
    "    l2_similarities = {}\n",
    "\n",
    "    for key in model.vocab:\n",
    "        if key != reference_node:\n",
    "            curr_l2 = np.linalg.norm(reference_embeddings - model[key])\n",
    "            l2_similarities[key] = curr_l2\n",
    "\n",
    "    sorted_l2_similarities = sorted(l2_similarities.items(), key=operator.itemgetter(1))\n",
    "    return sorted_l2_similarities"
   ]
  },
  {
   "cell_type": "code",
   "execution_count": 44,
   "metadata": {},
   "outputs": [],
   "source": [
    "def createSortedSimilaritesMap(model):\n",
    "    result = {}\n",
    "    for key in model.vocab:\n",
    "        result[key] = calculateSortedL2Similarity(key, model)\n",
    "    return result"
   ]
  },
  {
   "cell_type": "code",
   "execution_count": 45,
   "metadata": {},
   "outputs": [],
   "source": [
    "# Load the embeddings from memory\n",
    "BFS_model = Word2Vec.load_word2vec_format(\"../node2vec_embeddings/company_embeddings_p1_q100_50iters.emd\")\n",
    "neutral_model = Word2Vec.load_word2vec_format(\"../node2vec_embeddings/company_embeddings_p1_q1_50iters.emd\")\n",
    "DFS_model = Word2Vec.load_word2vec_format(\"../node2vec_embeddings/company_embeddings_p1_q0_01_50iters.emd\")"
   ]
  },
  {
   "cell_type": "code",
   "execution_count": 46,
   "metadata": {},
   "outputs": [],
   "source": [
    "'''\n",
    "BFS_nodeToSortedL2Similarities = createSortedSimilaritesMap(BFS_model)\n",
    "print \"Completed BFS model\"\n",
    "neutral_nodeToSortedL2Similarities = createSortedSimilaritesMap(neutral_model)\n",
    "print \"Completed neutral model\"\n",
    "DFS_nodeToSortedL2Similarities = createSortedSimilaritesMap(DFS_model)\n",
    "print \"Completed DFS model\"\n",
    "'''\n",
    "BFS_nodeToSortedL2Similarities = np.load(\"../node2vec_embeddings/nodeToSortedL2Similarities_p1_q100.npy\").item()\n",
    "neutral_nodeToSortedL2Similarities = np.load(\"../node2vec_embeddings/nodeToSortedL2Similarities_p1_q1.npy\").item()\n",
    "DFS_nodeToSortedL2Similarities = np.load(\"../node2vec_embeddings/nodeToSortedL2Similarities_p1_q0_01.npy\").item()"
   ]
  },
  {
   "cell_type": "code",
   "execution_count": 9,
   "metadata": {},
   "outputs": [
    {
     "data": {
      "text/plain": [
       "'\\nnp.save(\"../node2vec_embeddings/nodeToSortedL2Similarities_p1_q100\", BFS_nodeToSortedL2Similarities)\\nnp.save(\"../node2vec_embeddings/nodeToSortedL2Similarities_p1_q1\", neutral_nodeToSortedL2Similarities)\\nnp.save(\"../node2vec_embeddings/nodeToSortedL2Similarities_p1_q0_01\", DFS_nodeToSortedL2Similarities)\\n'"
      ]
     },
     "execution_count": 9,
     "metadata": {},
     "output_type": "execute_result"
    }
   ],
   "source": [
    "#DO NOT RUN THIS AGAIN!\n",
    "'''\n",
    "np.save(\"../node2vec_embeddings/nodeToSortedL2Similarities_p1_q100\", BFS_nodeToSortedL2Similarities)\n",
    "np.save(\"../node2vec_embeddings/nodeToSortedL2Similarities_p1_q1\", neutral_nodeToSortedL2Similarities)\n",
    "np.save(\"../node2vec_embeddings/nodeToSortedL2Similarities_p1_q0_01\", DFS_nodeToSortedL2Similarities)\n",
    "'''"
   ]
  },
  {
   "cell_type": "code",
   "execution_count": 9,
   "metadata": {},
   "outputs": [],
   "source": [
    "# These are all of the acquired companies we know about\n",
    "acquired_companies = set(np.load(\"../acquired_companies.npy\"))"
   ]
  },
  {
   "cell_type": "code",
   "execution_count": 12,
   "metadata": {},
   "outputs": [],
   "source": [
    "# Now we find the overlap between companies in our graph and the set of acquired companies\n",
    "node_id_to_value = np.load(\"../../graphs/investors_to_companies_directed/node_id_to_value.npy\").item()\n",
    "FIn = snap.TFIn(\"../../graphs/investors_to_companies_directed/investors_to_companies_directed_folded_reverse_order.graph\")\n",
    "G = snap.TUNGraph.Load(FIn)\n",
    "\n",
    "companies_in_graph = set()\n",
    "for EI in G.Edges(): \n",
    "    curr_src_id = EI.GetSrcNId()\n",
    "    curr_dst_id = EI.GetDstNId()\n",
    "    companies_in_graph.add(node_id_to_value[curr_src_id])\n",
    "    companies_in_graph.add(node_id_to_value[curr_dst_id])\n",
    "    \n",
    "# These are the acquired companies in our folded graph\n",
    "acquired_companies_in_graph = companies_in_graph.intersection(acquired_companies)\n",
    "\n",
    "acquired_companies_in_graph_by_id = []\n",
    "value_to_node_id = {v: k for k, v in node_id_to_value.iteritems()}\n",
    "for company in acquired_companies_in_graph:\n",
    "    acquired_companies_in_graph_by_id.append(value_to_node_id[company])\n",
    "    \n",
    "    \n",
    "not_acquired_companies_in_graph = companies_in_graph.difference(acquired_companies)\n",
    "not_acquired_companies_in_graph_by_id = []\n",
    "for company in not_acquired_companies_in_graph:\n",
    "    not_acquired_companies_in_graph_by_id.append(value_to_node_id[company])"
   ]
  },
  {
   "cell_type": "code",
   "execution_count": 13,
   "metadata": {},
   "outputs": [
    {
     "ename": "KeyError",
     "evalue": "'1259'",
     "output_type": "error",
     "traceback": [
      "\u001b[0;31m---------------------------------------------------------------------------\u001b[0m",
      "\u001b[0;31mKeyError\u001b[0m                                  Traceback (most recent call last)",
      "\u001b[0;32m<ipython-input-13-15885e28c547>\u001b[0m in \u001b[0;36m<module>\u001b[0;34m()\u001b[0m\n\u001b[1;32m      2\u001b[0m \u001b[0;34m\u001b[0m\u001b[0m\n\u001b[1;32m      3\u001b[0m \u001b[0mk\u001b[0m \u001b[0;34m=\u001b[0m \u001b[0;36m500\u001b[0m\u001b[0;34m\u001b[0m\u001b[0m\n\u001b[0;32m----> 4\u001b[0;31m \u001b[0macquired_to_num_acquired_BFS\u001b[0m \u001b[0;34m=\u001b[0m \u001b[0mgetCompaniesToNumAcquired\u001b[0m\u001b[0;34m(\u001b[0m\u001b[0mk\u001b[0m\u001b[0;34m,\u001b[0m \u001b[0mBFS_nodeToSortedL2Similarities\u001b[0m\u001b[0;34m,\u001b[0m \u001b[0macquired_companies_in_graph_by_id\u001b[0m\u001b[0;34m,\u001b[0m \u001b[0macquired_companies_in_graph_by_id\u001b[0m\u001b[0;34m)\u001b[0m\u001b[0;34m\u001b[0m\u001b[0m\n\u001b[0m\u001b[1;32m      5\u001b[0m \u001b[0macquired_to_num_acquired_neutral\u001b[0m \u001b[0;34m=\u001b[0m \u001b[0mgetCompaniesToNumAcquired\u001b[0m\u001b[0;34m(\u001b[0m\u001b[0mk\u001b[0m\u001b[0;34m,\u001b[0m \u001b[0mneutral_nodeToSortedL2Similarities\u001b[0m\u001b[0;34m,\u001b[0m \u001b[0macquired_companies_in_graph_by_id\u001b[0m\u001b[0;34m,\u001b[0m \u001b[0macquired_companies_in_graph_by_id\u001b[0m\u001b[0;34m)\u001b[0m\u001b[0;34m\u001b[0m\u001b[0m\n\u001b[1;32m      6\u001b[0m \u001b[0macquired_to_num_acquired_DFS\u001b[0m \u001b[0;34m=\u001b[0m \u001b[0mgetCompaniesToNumAcquired\u001b[0m\u001b[0;34m(\u001b[0m\u001b[0mk\u001b[0m\u001b[0;34m,\u001b[0m \u001b[0mDFS_nodeToSortedL2Similarities\u001b[0m\u001b[0;34m,\u001b[0m \u001b[0macquired_companies_in_graph_by_id\u001b[0m\u001b[0;34m,\u001b[0m \u001b[0macquired_companies_in_graph_by_id\u001b[0m\u001b[0;34m)\u001b[0m\u001b[0;34m\u001b[0m\u001b[0m\n",
      "\u001b[0;32m<ipython-input-3-4bae9c8d6f7f>\u001b[0m in \u001b[0;36mgetCompaniesToNumAcquired\u001b[0;34m(k, node_to_sorted_L2_similarities, acquired_companies_in_graph_by_id, companies)\u001b[0m\n\u001b[1;32m      7\u001b[0m \u001b[0;34m\u001b[0m\u001b[0m\n\u001b[1;32m      8\u001b[0m     \u001b[0;32mfor\u001b[0m \u001b[0mcompany_id\u001b[0m \u001b[0;32min\u001b[0m \u001b[0mcompanies\u001b[0m\u001b[0;34m:\u001b[0m\u001b[0;34m\u001b[0m\u001b[0m\n\u001b[0;32m----> 9\u001b[0;31m         \u001b[0msim_rankings\u001b[0m \u001b[0;34m=\u001b[0m \u001b[0mnode_to_sorted_L2_similarities\u001b[0m\u001b[0;34m[\u001b[0m\u001b[0mstr\u001b[0m\u001b[0;34m(\u001b[0m\u001b[0mcompany_id\u001b[0m\u001b[0;34m)\u001b[0m\u001b[0;34m]\u001b[0m\u001b[0;34m\u001b[0m\u001b[0m\n\u001b[0m\u001b[1;32m     10\u001b[0m         \u001b[0mresult\u001b[0m\u001b[0;34m[\u001b[0m\u001b[0mcompany_id\u001b[0m\u001b[0;34m]\u001b[0m \u001b[0;34m=\u001b[0m \u001b[0mgetNumAcquired\u001b[0m\u001b[0;34m(\u001b[0m\u001b[0msim_rankings\u001b[0m\u001b[0;34m,\u001b[0m \u001b[0macquired_companies_in_graph_by_id\u001b[0m\u001b[0;34m,\u001b[0m \u001b[0mk\u001b[0m\u001b[0;34m)\u001b[0m\u001b[0;34m\u001b[0m\u001b[0m\n\u001b[1;32m     11\u001b[0m \u001b[0;34m\u001b[0m\u001b[0m\n",
      "\u001b[0;31mKeyError\u001b[0m: '1259'"
     ]
    }
   ],
   "source": [
    "# Need to look at companies that are NOT acquired too\n",
    "\n",
    "k = 500\n",
    "acquired_to_num_acquired_BFS = getCompaniesToNumAcquired(k, BFS_nodeToSortedL2Similarities, acquired_companies_in_graph_by_id, acquired_companies_in_graph_by_id)\n",
    "acquired_to_num_acquired_neutral = getCompaniesToNumAcquired(k, neutral_nodeToSortedL2Similarities, acquired_companies_in_graph_by_id, acquired_companies_in_graph_by_id)\n",
    "acquired_to_num_acquired_DFS = getCompaniesToNumAcquired(k, DFS_nodeToSortedL2Similarities, acquired_companies_in_graph_by_id, acquired_companies_in_graph_by_id)\n",
    "# Make a plot for each of BFS, neutral, and DFS\n",
    "# x axis will be node id\n",
    "# y axis will be probability under null (binomial) model\n",
    "p = float(len(acquired_companies_in_graph_by_id)) / len(companies_in_graph)\n",
    "BFS_null_model_probabilities = getNullProbs(acquired_to_num_acquired_BFS, k, p)\n",
    "neutral_null_model_probabilities = getNullProbs(acquired_to_num_acquired_neutral, k, p)\n",
    "DFS_null_model_probabilities = getNullProbs(acquired_to_num_acquired_DFS, k, p)\n",
    "\n",
    "\n",
    "print np.mean(acquired_to_num_acquired_BFS.values())\n",
    "print np.mean(acquired_to_num_acquired_neutral.values())\n",
    "print np.mean(acquired_to_num_acquired_DFS.values())\n",
    "\n"
   ]
  },
  {
   "cell_type": "code",
   "execution_count": 13,
   "metadata": {},
   "outputs": [
    {
     "data": {
      "image/png": "[encoded data removed]",
      "text/plain": [
       "<matplotlib.figure.Figure at 0x102fd4dd0>"
      ]
     },
     "metadata": {},
     "output_type": "display_data"
    }
   ],
   "source": [
    "X = range(len(acquired_companies_in_graph_by_id))\n",
    "x_vals = sorted(acquired_companies_in_graph_by_id)\n",
    "\n",
    "y_vals = []\n",
    "outliers = []\n",
    "for val in x_vals:\n",
    "    y_val = acquired_to_num_acquired_DFS[val]\n",
    "    y_vals.append(y_val)\n",
    "    if y_val >= 20: \n",
    "        outliers.append(val)\n",
    "\n",
    "plt.xlabel(\"Node ID\")\n",
    "plt.ylabel(\"Number acquired companies in top \" + str(k))\n",
    "plt.title(\"Nodes vs. number acquired in top \" + str(k) + \" most similar embeddings (DFS)\")\n",
    "plt.scatter(X, y_vals)\n",
    "plt.show()"
   ]
  },
  {
   "cell_type": "code",
   "execution_count": 14,
   "metadata": {},
   "outputs": [
    {
     "name": "stdout",
     "output_type": "stream",
     "text": [
      "93.4686567164\n",
      "96.0723306544\n",
      "100.380482204\n"
     ]
    }
   ],
   "source": [
    "# Need to look at companies that are NOT acquired too\n",
    "\n",
    "k = 500\n",
    "not_acquired_to_num_acquired_BFS = getCompaniesToNumAcquired(k, BFS_nodeToSortedL2Similarities, acquired_companies_in_graph_by_id, not_acquired_companies_in_graph_by_id)\n",
    "not_acquired_to_num_acquired_neutral = getCompaniesToNumAcquired(k, neutral_nodeToSortedL2Similarities, acquired_companies_in_graph_by_id, not_acquired_companies_in_graph_by_id)\n",
    "not_acquired_to_num_acquired_DFS = getCompaniesToNumAcquired(k, DFS_nodeToSortedL2Similarities, acquired_companies_in_graph_by_id, not_acquired_companies_in_graph_by_id)\n",
    "# Make a plot for each of BFS, neutral, and DFS\n",
    "# x axis will be node id\n",
    "# y axis will be probability under null (binomial) model\n",
    "p = float(len(acquired_companies_in_graph_by_id)) / len(companies_in_graph)\n",
    "BFS_null_model_probabilities = getNullProbs(not_acquired_to_num_acquired_BFS, k, p)\n",
    "neutral_null_model_probabilities = getNullProbs(not_acquired_to_num_acquired_neutral, k, p)\n",
    "DFS_null_model_probabilities = getNullProbs(not_acquired_to_num_acquired_DFS, k, p)\n",
    "\n",
    "\n",
    "print np.mean(not_acquired_to_num_acquired_BFS.values())\n",
    "print np.mean(not_acquired_to_num_acquired_neutral.values())\n",
    "print np.mean(not_acquired_to_num_acquired_DFS.values())"
   ]
  },
  {
   "cell_type": "code",
   "execution_count": 17,
   "metadata": {},
   "outputs": [
    {
     "data": {
      "image/png": "[encoded data removed]",
      "text/plain": [
       "<matplotlib.figure.Figure at 0x1bf505da10>"
      ]
     },
     "metadata": {},
     "output_type": "display_data"
    }
   ],
   "source": [
    "X = range(len(not_acquired_companies_in_graph_by_id))\n",
    "x_vals = sorted(not_acquired_companies_in_graph_by_id)\n",
    "\n",
    "outliers = []\n",
    "y_vals = []\n",
    "for val in x_vals:\n",
    "    y_val = not_acquired_to_num_acquired_DFS[val]\n",
    "    y_vals.append(y_val)\n",
    "    if y_val >= 120: \n",
    "        outliers.append(val)\n",
    "\n",
    "plt.xlabel(\"Node ID\")\n",
    "plt.ylabel(\"Number acquired companies in top \" + str(k))\n",
    "plt.title(\"Nodes vs. number acquired in top \" + str(k) + \" most similar embeddings (DFS)\")\n",
    "plt.scatter(X, y_vals)\n",
    "plt.show()"
   ]
  },
  {
   "cell_type": "code",
   "execution_count": 37,
   "metadata": {},
   "outputs": [],
   "source": [
    "# Returns train and test sets with fraction train_frac \n",
    "# of the total number of datapoints in the train set\n",
    "def getData(model, train_frac):\n",
    "    \n",
    "    \n",
    "    \n",
    "    # Use node2vec and logistic regression to make predictions\n",
    "    node_2_vec_embedding_dimension = 128\n",
    "\n",
    "    train_companies = set([])\n",
    "    for company in companies_in_graph: \n",
    "        if np.random.rand() < train_frac: train_companies.add(company)\n",
    "              \n",
    "    test_companies = companies_in_graph.difference(train_companies)\n",
    "\n",
    "    train_X = np.zeros((len(train_companies), node_2_vec_embedding_dimension))\n",
    "    train_Y = np.zeros((len(train_companies),))\n",
    "\n",
    "    train_companies = list(train_companies)\n",
    "    for i in range(len(train_companies)):\n",
    "        company_id = value_to_node_id[train_companies[i]]\n",
    "        company_embedding = model[str(company_id)]\n",
    "        train_X[i] = company_embedding\n",
    "        if company_id in acquired_companies_in_graph_by_id:\n",
    "            train_Y[i] = 1\n",
    "        else:\n",
    "            train_Y[i] = 0\n",
    "\n",
    "    test_X = np.zeros((len(test_companies), node_2_vec_embedding_dimension))\n",
    "    test_Y = np.zeros((len(test_companies),))\n",
    "\n",
    "    test_companies = list(test_companies)\n",
    "    for i in range(len(test_companies)):\n",
    "        company_id = value_to_node_id[test_companies[i]]\n",
    "        company_embedding = model[str(company_id)]\n",
    "        test_X[i] = company_embedding\n",
    "        if company_id in acquired_companies_in_graph_by_id:\n",
    "            test_Y[i] = 1\n",
    "        else:\n",
    "            test_Y[i] = 0 \n",
    "            \n",
    "    return train_X, train_Y, test_X, test_Y"
   ]
  },
  {
   "cell_type": "markdown",
   "metadata": {},
   "source": [
    "SUPERVISED LEARNING:\n",
    "\n",
    "We'll now use the node2vec embeddings to make predictions"
   ]
  },
  {
   "cell_type": "code",
   "execution_count": 29,
   "metadata": {},
   "outputs": [],
   "source": [
    "def assess_supervised_classifier(train_X, train_Y, test_X, test_Y, fitted_model):\n",
    "    train_predictions = fitted_model.predict(train_X)\n",
    "    test_predictions = fitted_model.predict(test_X)\n",
    "    print \"Train confusion matrix (rows correspond to true labels)\"\n",
    "    print confusion_matrix(train_Y, train_predictions, labels=[0, 1])\n",
    "    print \"Test confusion matrix (rows correspond to true labels)\"\n",
    "    print confusion_matrix(test_Y, test_predictions, labels=[0, 1])\n",
    "\n",
    "    print \"Train score\"\n",
    "    print fitted_model.score(train_X, train_Y)\n",
    "    print \"Test score\"\n",
    "    print fitted_model.score(test_X, test_Y)\n",
    "    print \"\""
   ]
  },
  {
   "cell_type": "code",
   "execution_count": 30,
   "metadata": {},
   "outputs": [],
   "source": [
    "def logistic_regression(train_X, train_Y, test_X, test_Y, class_weight):\n",
    "    # Weight the less common class more heavily\n",
    "    # For the confustion matrix, rows correspond to true labels and columns to predicted labels\n",
    "    fitted_model = LogisticRegression(class_weight={0:1, 1:2}).fit(train_X, train_Y)\n",
    "    print \"Successfully fitted logistic regression classifier\"\n",
    "    assess_supervised_classifier(train_X, train_Y, test_X, test_Y, fitted_model)"
   ]
  },
  {
   "cell_type": "code",
   "execution_count": 31,
   "metadata": {},
   "outputs": [],
   "source": [
    "# Looks like logistic regression mostly predicts not acquired the vast majority of the time as expected\n",
    "# Let's see if a simple neural net can do any better\n",
    "def mlp_classifier(train_X, train_Y, test_X, test_Y):\n",
    "    fitted_model = MLPClassifier().fit(train_X, train_Y)\n",
    "    print \"Successfully fitted MLP classifier\"\n",
    "    assess_supervised_classifier(train_X, train_Y, test_X, test_Y, fitted_model)"
   ]
  },
  {
   "cell_type": "code",
   "execution_count": 32,
   "metadata": {},
   "outputs": [],
   "source": [
    "# No surprise that the neural net overfit\n",
    "# Let's now try using KNN\n",
    "def knn_classifier(train_X, train_Y, test_X, test_Y, k):\n",
    "    fitted_model = KNeighborsClassifier(n_neighbors=10).fit(train_X, train_Y)\n",
    "    print \"Successfully fitted KNN classifier\"\n",
    "    assess_supervised_classifier(train_X, train_Y, test_X, test_Y, fitted_model)"
   ]
  },
  {
   "cell_type": "code",
   "execution_count": 33,
   "metadata": {},
   "outputs": [],
   "source": [
    "# Now we'll try using a decision tree\n",
    "def decision_tree_classifier(train_X, train_Y, test_X, test_Y):\n",
    "    fitted_model = DecisionTreeClassifier().fit(train_X, train_Y)\n",
    "    print \"Successfully fitted decision tree classifier\"\n",
    "    assess_supervised_classifier(train_X, train_Y, test_X, test_Y, fitted_model)"
   ]
  },
  {
   "cell_type": "code",
   "execution_count": 34,
   "metadata": {},
   "outputs": [],
   "source": [
    "# Finally, we'll give the random forest a go\n",
    "# This model turns a bunch of weaker decision\n",
    "# models into a more powerful ensemble model\n",
    "def random_forest_classifier(train_X, train_Y, test_X, test_Y):\n",
    "    fitted_model = RandomForestClassifier().fit(train_X, train_Y)\n",
    "    print \"Successfully fitted random forest classifier\"\n",
    "    assess_supervised_classifier(train_X, train_Y, test_X, test_Y, fitted_model)"
   ]
  },
  {
   "cell_type": "code",
   "execution_count": 38,
   "metadata": {},
   "outputs": [
    {
     "ename": "AttributeError",
     "evalue": "'Word2Vec' object has no attribute 'keys'",
     "output_type": "error",
     "traceback": [
      "\u001b[0;31m---------------------------------------------------------------------------\u001b[0m",
      "\u001b[0;31mAttributeError\u001b[0m                            Traceback (most recent call last)",
      "\u001b[0;32m<ipython-input-38-af29f61f1f3c>\u001b[0m in \u001b[0;36m<module>\u001b[0;34m()\u001b[0m\n\u001b[0;32m----> 1\u001b[0;31m \u001b[0mtrain_X\u001b[0m\u001b[0;34m,\u001b[0m \u001b[0mtrain_Y\u001b[0m\u001b[0;34m,\u001b[0m \u001b[0mtest_X\u001b[0m\u001b[0;34m,\u001b[0m \u001b[0mtest_Y\u001b[0m \u001b[0;34m=\u001b[0m \u001b[0mgetData\u001b[0m\u001b[0;34m(\u001b[0m\u001b[0mBFS_model\u001b[0m\u001b[0;34m,\u001b[0m \u001b[0;36m0.8\u001b[0m\u001b[0;34m)\u001b[0m\u001b[0;34m\u001b[0m\u001b[0m\n\u001b[0m\u001b[1;32m      2\u001b[0m \u001b[0;34m\u001b[0m\u001b[0m\n\u001b[1;32m      3\u001b[0m \u001b[0mlogistic_regression\u001b[0m\u001b[0;34m(\u001b[0m\u001b[0mtrain_X\u001b[0m\u001b[0;34m,\u001b[0m \u001b[0mtrain_Y\u001b[0m\u001b[0;34m,\u001b[0m \u001b[0mtest_X\u001b[0m\u001b[0;34m,\u001b[0m \u001b[0mtest_Y\u001b[0m\u001b[0;34m,\u001b[0m \u001b[0;34m{\u001b[0m\u001b[0;36m0\u001b[0m\u001b[0;34m:\u001b[0m\u001b[0;36m1\u001b[0m\u001b[0;34m,\u001b[0m \u001b[0;36m1\u001b[0m\u001b[0;34m:\u001b[0m\u001b[0;36m2\u001b[0m\u001b[0;34m}\u001b[0m\u001b[0;34m)\u001b[0m\u001b[0;34m\u001b[0m\u001b[0m\n\u001b[1;32m      4\u001b[0m \u001b[0mmlp_classifier\u001b[0m\u001b[0;34m(\u001b[0m\u001b[0mtrain_X\u001b[0m\u001b[0;34m,\u001b[0m \u001b[0mtrain_Y\u001b[0m\u001b[0;34m,\u001b[0m \u001b[0mtest_X\u001b[0m\u001b[0;34m,\u001b[0m \u001b[0mtest_Y\u001b[0m\u001b[0;34m)\u001b[0m\u001b[0;34m\u001b[0m\u001b[0m\n\u001b[1;32m      5\u001b[0m \u001b[0mknn_classifier\u001b[0m\u001b[0;34m(\u001b[0m\u001b[0mtrain_X\u001b[0m\u001b[0;34m,\u001b[0m \u001b[0mtrain_Y\u001b[0m\u001b[0;34m,\u001b[0m \u001b[0mtest_X\u001b[0m\u001b[0;34m,\u001b[0m \u001b[0mtest_Y\u001b[0m\u001b[0;34m,\u001b[0m \u001b[0;36m10\u001b[0m\u001b[0;34m)\u001b[0m\u001b[0;34m\u001b[0m\u001b[0m\n",
      "\u001b[0;32m<ipython-input-37-7d7e678545c2>\u001b[0m in \u001b[0;36mgetData\u001b[0;34m(model, train_frac)\u001b[0m\n\u001b[1;32m      2\u001b[0m \u001b[0;31m# of the total number of datapoints in the train set\u001b[0m\u001b[0;34m\u001b[0m\u001b[0;34m\u001b[0m\u001b[0m\n\u001b[1;32m      3\u001b[0m \u001b[0;32mdef\u001b[0m \u001b[0mgetData\u001b[0m\u001b[0;34m(\u001b[0m\u001b[0mmodel\u001b[0m\u001b[0;34m,\u001b[0m \u001b[0mtrain_frac\u001b[0m\u001b[0;34m)\u001b[0m\u001b[0;34m:\u001b[0m\u001b[0;34m\u001b[0m\u001b[0m\n\u001b[0;32m----> 4\u001b[0;31m     \u001b[0;32mprint\u001b[0m \u001b[0mmodel\u001b[0m\u001b[0;34m.\u001b[0m\u001b[0mkeys\u001b[0m\u001b[0;34m(\u001b[0m\u001b[0;34m)\u001b[0m\u001b[0;34m\u001b[0m\u001b[0m\n\u001b[0m\u001b[1;32m      5\u001b[0m     \u001b[0;31m# Use node2vec and logistic regression to make predictions\u001b[0m\u001b[0;34m\u001b[0m\u001b[0;34m\u001b[0m\u001b[0m\n\u001b[1;32m      6\u001b[0m     \u001b[0mnode_2_vec_embedding_dimension\u001b[0m \u001b[0;34m=\u001b[0m \u001b[0;36m128\u001b[0m\u001b[0;34m\u001b[0m\u001b[0m\n",
      "\u001b[0;31mAttributeError\u001b[0m: 'Word2Vec' object has no attribute 'keys'"
     ]
    }
   ],
   "source": [
    "train_X, train_Y, test_X, test_Y = getData(BFS_model, 0.8)\n",
    "\n",
    "logistic_regression(train_X, train_Y, test_X, test_Y, {0:1, 1:2})\n",
    "mlp_classifier(train_X, train_Y, test_X, test_Y)\n",
    "knn_classifier(train_X, train_Y, test_X, test_Y, 10)\n",
    "decision_tree_classifier(train_X, train_Y, test_X, test_Y)\n",
    "random_forest_classifier(train_X, train_Y, test_X, test_Y)"
   ]
  },
  {
   "cell_type": "markdown",
   "metadata": {},
   "source": [
    "UNSUPERVISED LEARNING:\n",
    "\n",
    "We'll now use the node2vec embeddings to identify clusters within the graph"
   ]
  },
  {
   "cell_type": "code",
   "execution_count": 26,
   "metadata": {},
   "outputs": [],
   "source": [
    "def assess_clustering_model(fitted_model, train_X, test_X=None):\n",
    "    train_is_whole_dataset = True if test_X == None else False\n",
    "    \n",
    "    train_cluster_assignments = fitted_model.predict(train_X)\n",
    "    test_cluster_assignments = None if train_is_whole_dataset else fitted_model.predict(test_X)\n",
    "    \n",
    "    # Compute the mean silhoutte score across all samples\n",
    "    # For silhouette scores, the best value is 1 and the worst value is -1\n",
    "    # Values near 0 indicate overlapping clusters\n",
    "    train_silhouette_score = silhouette_score(train_X, train_cluster_assignments)\n",
    "    test_silhouette_score = None if train_is_whole_dataset else silhouette_score(test_X, test_cluster_assignments)\n",
    "    print \"Train silhouette score:\" \n",
    "    print train_silhouette_score\n",
    "    print \"Test silhouette score:\"\n",
    "    print test_silhouette_score\n",
    "\n",
    "    # Compute the mean Calinski-Harabasz index for all samples\n",
    "    # For Calinski-Harabasz, the higher the better\n",
    "    train_ch_score = calinski_harabaz_score(train_X, train_cluster_assignments)\n",
    "    test_ch_score = None if train_is_whole_dataset else calinski_harabaz_score(test_X, test_cluster_assignments)\n",
    "    print \"Train Calinski-Harabasz score:\"\n",
    "    print train_ch_score\n",
    "    print \"Test Calinski-Harabasz score:\"\n",
    "    print test_ch_score\n",
    "    print \"\"\n",
    "    return train_silhouette_score"
   ]
  },
  {
   "cell_type": "code",
   "execution_count": 27,
   "metadata": {},
   "outputs": [],
   "source": [
    "# Let's assume we don't know anything about the companies\n",
    "# We'll use k-means to cluster their node2vec embeddings\n",
    "def k_means(train_X, test_X, k):\n",
    "    fitted_model = KMeans(n_clusters=k).fit(train_X)\n",
    "    print \"Successfully fitted K Means\"\n",
    "    assess_clustering_model(fitted_model, train_X, test_X)"
   ]
  },
  {
   "cell_type": "code",
   "execution_count": 30,
   "metadata": {},
   "outputs": [],
   "source": [
    "# Now we try agglomerative clustering\n",
    "# Note that agglomerative clustering has no concept of training\n",
    "def agglomerative_clustering(train_X, test_X, k):\n",
    "    data = np.concatenate((train_X, test_X))\n",
    "    fitted_model = AgglomerativeClustering(n_clusters=k).fit_predict(data)\n",
    "    print \"Successfully fitted agglomerative clustering\"\n",
    "    assess_clustering_model(fitted_model, data)"
   ]
  },
  {
   "cell_type": "code",
   "execution_count": 31,
   "metadata": {},
   "outputs": [
    {
     "name": "stdout",
     "output_type": "stream",
     "text": [
      "Successfully fitted K Means\n"
     ]
    },
    {
     "name": "stderr",
     "output_type": "stream",
     "text": [
      "/anaconda3/envs/python2/lib/python2.7/site-packages/ipykernel_launcher.py:2: FutureWarning: comparison to `None` will result in an elementwise object comparison in the future.\n",
      "  \n"
     ]
    },
    {
     "name": "stdout",
     "output_type": "stream",
     "text": [
      "Train silhouette score:\n",
      "0.530177544643\n",
      "Test silhouette score:\n",
      "0.519283608347\n",
      "Train Calinski-Harabasz score:\n",
      "597.638918349\n",
      "Test Calinski-Harabasz score:\n",
      "155.49198662\n",
      "\n",
      "Successfully fitted agglomerative clustering\n"
     ]
    },
    {
     "ename": "AttributeError",
     "evalue": "'numpy.ndarray' object has no attribute 'predict'",
     "output_type": "error",
     "traceback": [
      "\u001b[0;31m---------------------------------------------------------------------------\u001b[0m",
      "\u001b[0;31mAttributeError\u001b[0m                            Traceback (most recent call last)",
      "\u001b[0;32m<ipython-input-31-273d76670af4>\u001b[0m in \u001b[0;36m<module>\u001b[0;34m()\u001b[0m\n\u001b[1;32m      3\u001b[0m \u001b[0;34m\u001b[0m\u001b[0m\n\u001b[1;32m      4\u001b[0m \u001b[0mk_means\u001b[0m\u001b[0;34m(\u001b[0m\u001b[0mtrain_X\u001b[0m\u001b[0;34m,\u001b[0m \u001b[0mtest_X\u001b[0m\u001b[0;34m,\u001b[0m \u001b[0;36m2\u001b[0m\u001b[0;34m)\u001b[0m\u001b[0;34m\u001b[0m\u001b[0m\n\u001b[0;32m----> 5\u001b[0;31m \u001b[0magglomerative_clustering\u001b[0m\u001b[0;34m(\u001b[0m\u001b[0mtrain_X\u001b[0m\u001b[0;34m,\u001b[0m \u001b[0mtest_X\u001b[0m\u001b[0;34m,\u001b[0m \u001b[0;36m2\u001b[0m\u001b[0;34m)\u001b[0m\u001b[0;34m\u001b[0m\u001b[0m\n\u001b[0m",
      "\u001b[0;32m<ipython-input-30-cf354de85cc4>\u001b[0m in \u001b[0;36magglomerative_clustering\u001b[0;34m(train_X, test_X, k)\u001b[0m\n\u001b[1;32m      5\u001b[0m     \u001b[0mfitted_model\u001b[0m \u001b[0;34m=\u001b[0m \u001b[0mAgglomerativeClustering\u001b[0m\u001b[0;34m(\u001b[0m\u001b[0mn_clusters\u001b[0m\u001b[0;34m=\u001b[0m\u001b[0mk\u001b[0m\u001b[0;34m)\u001b[0m\u001b[0;34m.\u001b[0m\u001b[0mfit_predict\u001b[0m\u001b[0;34m(\u001b[0m\u001b[0mdata\u001b[0m\u001b[0;34m)\u001b[0m\u001b[0;34m\u001b[0m\u001b[0m\n\u001b[1;32m      6\u001b[0m     \u001b[0;32mprint\u001b[0m \u001b[0;34m\"Successfully fitted agglomerative clustering\"\u001b[0m\u001b[0;34m\u001b[0m\u001b[0m\n\u001b[0;32m----> 7\u001b[0;31m     \u001b[0massess_clustering_model\u001b[0m\u001b[0;34m(\u001b[0m\u001b[0mfitted_model\u001b[0m\u001b[0;34m,\u001b[0m \u001b[0mdata\u001b[0m\u001b[0;34m)\u001b[0m\u001b[0;34m\u001b[0m\u001b[0m\n\u001b[0m",
      "\u001b[0;32m<ipython-input-26-3962b62ba310>\u001b[0m in \u001b[0;36massess_clustering_model\u001b[0;34m(fitted_model, train_X, test_X)\u001b[0m\n\u001b[1;32m      2\u001b[0m     \u001b[0mtrain_is_whole_dataset\u001b[0m \u001b[0;34m=\u001b[0m \u001b[0mTrue\u001b[0m \u001b[0;32mif\u001b[0m \u001b[0mtest_X\u001b[0m \u001b[0;34m==\u001b[0m \u001b[0mNone\u001b[0m \u001b[0;32melse\u001b[0m \u001b[0mFalse\u001b[0m\u001b[0;34m\u001b[0m\u001b[0m\n\u001b[1;32m      3\u001b[0m \u001b[0;34m\u001b[0m\u001b[0m\n\u001b[0;32m----> 4\u001b[0;31m     \u001b[0mtrain_cluster_assignments\u001b[0m \u001b[0;34m=\u001b[0m \u001b[0mfitted_model\u001b[0m\u001b[0;34m.\u001b[0m\u001b[0mpredict\u001b[0m\u001b[0;34m(\u001b[0m\u001b[0mtrain_X\u001b[0m\u001b[0;34m)\u001b[0m\u001b[0;34m\u001b[0m\u001b[0m\n\u001b[0m\u001b[1;32m      5\u001b[0m     \u001b[0mtest_cluster_assignments\u001b[0m \u001b[0;34m=\u001b[0m \u001b[0mNone\u001b[0m \u001b[0;32mif\u001b[0m \u001b[0mtrain_is_whole_dataset\u001b[0m \u001b[0;32melse\u001b[0m \u001b[0mfitted_model\u001b[0m\u001b[0;34m.\u001b[0m\u001b[0mpredict\u001b[0m\u001b[0;34m(\u001b[0m\u001b[0mtest_X\u001b[0m\u001b[0;34m)\u001b[0m\u001b[0;34m\u001b[0m\u001b[0m\n\u001b[1;32m      6\u001b[0m \u001b[0;34m\u001b[0m\u001b[0m\n",
      "\u001b[0;31mAttributeError\u001b[0m: 'numpy.ndarray' object has no attribute 'predict'"
     ]
    }
   ],
   "source": [
    "# DFS appears to be the best for clustering\n",
    "train_X, train_Y, test_X, test_Y = getData(DFS_model, 0.8)\n",
    "\n",
    "k_means(train_X, test_X, 2)\n",
    "agglomerative_clustering(train_X, test_X, 2)"
   ]
  },
  {
   "cell_type": "code",
   "execution_count": null,
   "metadata": {},
   "outputs": [],
   "source": []
  }
 ],
 "metadata": {
  "kernelspec": {
   "display_name": "Python 2",
   "language": "python",
   "name": "python2"
  },
  "language_info": {
   "codemirror_mode": {
    "name": "ipython",
    "version": 2
   },
   "file_extension": ".py",
   "mimetype": "text/x-python",
   "name": "python",
   "nbconvert_exporter": "python",
   "pygments_lexer": "ipython2",
   "version": "2.7.14"
  }
 },
 "nbformat": 4,
 "nbformat_minor": 2
}
