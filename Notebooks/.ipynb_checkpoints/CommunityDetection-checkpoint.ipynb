{
 "cells": [
  {
   "cell_type": "markdown",
   "metadata": {},
   "source": [
    "https://arxiv.org/pdf/1207.3603.pdf"
   ]
  },
  {
   "cell_type": "code",
   "execution_count": 1,
   "metadata": {},
   "outputs": [],
   "source": [
    "import numpy as np\n",
    "import snap\n",
    "import matplotlib.pyplot as plt\n",
    "from tqdm import tqdm"
   ]
  },
  {
   "cell_type": "code",
   "execution_count": 2,
   "metadata": {},
   "outputs": [],
   "source": [
    "graph_name = \"../../graphs/investors_to_companies_directed/investors_to_companies_directed_folded_reverse_order.graph\"\n",
    "FIn = snap.TFIn(graph_name)\n",
    "G = snap.TUNGraph.Load(FIn)"
   ]
  },
  {
   "cell_type": "code",
   "execution_count": null,
   "metadata": {},
   "outputs": [
    {
     "name": "stdout",
     "output_type": "stream",
     "text": [
      "test\n",
      "Found 6408 communities\n",
      "The modularity of the network is 0.474086\n"
     ]
    }
   ],
   "source": [
    "# Use the Clauset-Newman-Moore community detection method for large networks\n",
    "CNM_CmtyV = snap.TCnComV()\n",
    "CNM_modularity = snap.CommunityCNM(G, CNM_CmtyV)\n",
    "print \"Found \" + str(len(CNM_CmtyV)) + \" communities\"\n",
    "print \"The modularity of the network is %f\" % CNM_modularity"
   ]
  },
  {
   "cell_type": "code",
   "execution_count": null,
   "metadata": {},
   "outputs": [],
   "source": [
    "# Use the Girvan-Newman community detection algorithm based on betweenness centrality\n",
    "GN_CmtyV = snap.TCnComV()\n",
    "GN_modularity = snap.CommunityGirvanNewman(G, GN_CmtyV)\n",
    "print \"Found \" + str(len(GN_CmtyV)) + \" communities\"\n",
    "print \"The modularity of the network is %f\" % GN_modularity"
   ]
  },
  {
   "cell_type": "code",
   "execution_count": null,
   "metadata": {},
   "outputs": [],
   "source": [
    "# GetEdgesInOut snap function usage example\n",
    "\n",
    "Nodes = snap.TIntV()\n",
    "for nodeId in range(10):\n",
    "    Nodes.Add(nodeId)\n",
    "\n",
    "Graph = snap.GenRndGnm(snap.PNGraph, 100, 1000)\n",
    "results = snap.GetEdgesInOut(Graph, Nodes)\n",
    "print \"EdgesIn: %s EdgesOut: %s\" % (results[0], results[1])\n",
    "\n",
    "UGraph = snap.GenRndGnm(snap.PUNGraph, 100, 1000)\n",
    "results = snap.GetEdgesInOut(UGraph, Nodes)\n",
    "print \"EdgesIn: %s EdgesOut: %s\" % (results[0], results[1])\n",
    "\n",
    "Network = snap.GenRndGnm(snap.PNEANet, 100, 1000)\n",
    "results = snap.GetEdgesInOut(Network, Nodes)\n",
    "\n",
    "\n",
    "\n",
    "# GetModularity snap function usage example\n",
    "\n",
    "Nodes = snap.TIntV()\n",
    "for nodeId in range(10):\n",
    "    Nodes.Add(nodeId)\n",
    "\n",
    "Graph = snap.GenRndGnm(snap.PNGraph, 100, 1000)\n",
    "print snap.GetModularity(Graph, Nodes, 1000)\n",
    "\n",
    "UGraph = snap.GenRndGnm(snap.PUNGraph, 100, 1000)\n",
    "print snap.GetModularity(UGraph, Nodes, 1000)\n",
    "\n",
    "Network = snap.GenRndGnm(snap.PNEANet, 100, 1000)\n",
    "print snap.GetModularity(Network, Nodes, 1000)"
   ]
  },
  {
   "cell_type": "code",
   "execution_count": null,
   "metadata": {},
   "outputs": [],
   "source": [
    "def community_agg(G, community_assignments):\n",
    "    return G"
   ]
  },
  {
   "cell_type": "code",
   "execution_count": null,
   "metadata": {},
   "outputs": [],
   "source": [
    "def get_community_mod(G, comm, num_edges):\n",
    "    Nodes = snap.TIntV()\n",
    "    for node_id in curr_comm: Nodes.Add(node_id)\n",
    "    return snap.GetModularity(G, Nodes, num_edges)"
   ]
  },
  {
   "cell_type": "code",
   "execution_count": null,
   "metadata": {},
   "outputs": [],
   "source": [
    "def modularity_opt(G):\n",
    "    community_assignments = []\n",
    "    node_to_comm_idx = {}\n",
    "    \n",
    "    # Every node starts in its own community\n",
    "    for NI in G.Nodes(): \n",
    "        node_id = NI.GetId()\n",
    "        community_assignments.append(set([node_id]))\n",
    "        node_to_comm_idx[node_id] = len(community_assignments) - 1\n",
    "        \n",
    "    # Find the optimal communities in terms of modularity\n",
    "    num_edges = G.GetEdges()\n",
    "    for NI in G.Nodes():\n",
    "        curr_node_id = NI.GetId()\n",
    "        curr_comm = community_assignments[node_to_comm_idx[curr_node_id]]\n",
    "        curr_mod = get_community_mod(G, curr_comm, num_edges)\n",
    "        \n",
    "        for comm_idx in range(len(community_assignments)):\n",
    "            comm = community_assignments[comm_idx]\n",
    "            if curr_node_id in comm: continue\n",
    "            \n",
    "            other_mod = get_community_mod(G, comm, num_edges)\n",
    "            total_mod = curr_mod + other_mod\n",
    "            \n",
    "            curr_comm_updated = curr_comm.remove(curr_node_id)\n",
    "            comm_updated = comm.add(curr_node_id)\n",
    "            \n",
    "            curr_mod_updated = get_community_mod(G, curr_comm_updated, num_edges)\n",
    "            other_mod_updated = get_community_mod(G, comm_updated, num_edges)\n",
    "            \n",
    "            if (curr_mod_updated + other_mod_updated) > total_mod:\n",
    "                community_assignments[node_to_comm_idx[curr_node_id]] = curr_comm_updated\n",
    "                community_assignments[comm_idx] = comm_updated\n",
    "                curr_comm = curr_comm_updated\n",
    "            \n",
    "    return community_assignments"
   ]
  },
  {
   "cell_type": "code",
   "execution_count": null,
   "metadata": {},
   "outputs": [],
   "source": [
    "def louvain(G):\n",
    "    comunity_assignments = []\n",
    "    while True:\n",
    "        community_assignments = modularity_opt(G)\n",
    "        terminate = True\n",
    "        for comm in community_assignments:\n",
    "            if len(comm) > 1:\n",
    "                terminate = False\n",
    "                break\n",
    "        if terminate: break\n",
    "        G = community_agg(G, community_assignments)\n",
    "        \n",
    "    Nodes = snap.TIntV()\n",
    "    for NI in G.Nodes(): Nodes.Add(NI.GetId())\n",
    "    return community_assignments, snap.GetModularity(G, Nodes, G.GetEdges())"
   ]
  },
  {
   "cell_type": "code",
   "execution_count": null,
   "metadata": {},
   "outputs": [],
   "source": []
  }
 ],
 "metadata": {
  "kernelspec": {
   "display_name": "Python 2",
   "language": "python",
   "name": "python2"
  },
  "language_info": {
   "codemirror_mode": {
    "name": "ipython",
    "version": 2
   },
   "file_extension": ".py",
   "mimetype": "text/x-python",
   "name": "python",
   "nbconvert_exporter": "python",
   "pygments_lexer": "ipython2",
   "version": "2.7.14"
  }
 },
 "nbformat": 4,
 "nbformat_minor": 2
}
