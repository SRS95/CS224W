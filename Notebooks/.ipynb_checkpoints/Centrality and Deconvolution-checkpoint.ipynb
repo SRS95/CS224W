{
 "cells": [
  {
   "cell_type": "code",
   "execution_count": 1,
   "metadata": {},
   "outputs": [],
   "source": [
    "import numpy as np\n",
    "import snap\n",
    "from tqdm import tqdm"
   ]
  },
  {
   "cell_type": "markdown",
   "metadata": {},
   "source": [
    "We begin by loading in 4 folded graphs:\n",
    "\n",
    "(1) A graph of companies where in edges exist for common investors\n",
    "(2) A graph of investors where in edges exist for common companies/investments\n",
    "(3) A graph of companies where in edges exist for common region\n",
    "(4) A graph of companies where in edges exist for common industry\n",
    "\n",
    "Since a company can only belong to one region and one industry, we recognize that (3) and (4) just consist of giant cliques"
   ]
  },
  {
   "cell_type": "code",
   "execution_count": 2,
   "metadata": {},
   "outputs": [
    {
     "name": "stdout",
     "output_type": "stream",
     "text": [
      "Nodes: 11572\n",
      "Edges: 768063\n"
     ]
    }
   ],
   "source": [
    "graph_name = \"../../graphs/investors_to_companies_directed/investors_to_companies_directed_folded.graph\"\n",
    "FIn = snap.TFIn(graph_name)\n",
    "companies_folded_by_investors = snap.TUNGraph.Load(FIn)\n",
    "\n",
    "# Sanity check\n",
    "print \"Nodes: \" + str(companies_folded_by_investors.GetNodes())\n",
    "print \"Edges: \" + str(companies_folded_by_investors.GetEdges())"
   ]
  },
  {
   "cell_type": "code",
   "execution_count": 3,
   "metadata": {},
   "outputs": [
    {
     "name": "stdout",
     "output_type": "stream",
     "text": [
      "Nodes: 10465\n",
      "Edges: 33053\n"
     ]
    }
   ],
   "source": [
    "graph_name = \"../../graphs/investors_to_companies_directed/investors_to_companies_directed_folded_reverse_order.graph\"\n",
    "FIn = snap.TFIn(graph_name)\n",
    "investors_folded_by_companies = snap.TUNGraph.Load(FIn)\n",
    "\n",
    "# Sanity check\n",
    "print \"Nodes: \" + str(investors_folded_by_companies.GetNodes())\n",
    "print \"Edges: \" + str(investors_folded_by_companies.GetEdges())"
   ]
  },
  {
   "cell_type": "code",
   "execution_count": 4,
   "metadata": {},
   "outputs": [
    {
     "name": "stdout",
     "output_type": "stream",
     "text": [
      "Nodes: 11573\n",
      "Edges: 9061049\n"
     ]
    }
   ],
   "source": [
    "graph_name = \"../../graphs/region_to_company_directed/region_to_company_directed_folded.graph\"\n",
    "FIn = snap.TFIn(graph_name)\n",
    "companies_folded_by_region = snap.TUNGraph.Load(FIn)\n",
    "\n",
    "# Sanity check\n",
    "print \"Nodes: \" + str(companies_folded_by_region.GetNodes())\n",
    "print \"Edges: \" + str(companies_folded_by_region.GetEdges())"
   ]
  },
  {
   "cell_type": "code",
   "execution_count": 5,
   "metadata": {},
   "outputs": [
    {
     "name": "stdout",
     "output_type": "stream",
     "text": [
      "Nodes: 11318\n",
      "Edges: 4329444\n"
     ]
    }
   ],
   "source": [
    "graph_name = \"../../graphs/categories_to_companies_directed/categories_to_companies_directed_folded.graph\"\n",
    "FIn = snap.TFIn(graph_name)\n",
    "companies_folded_by_industry = snap.TUNGraph.Load(FIn)\n",
    "\n",
    "# Sanity check\n",
    "print \"Nodes: \" + str(companies_folded_by_industry.GetNodes())\n",
    "print \"Edges: \" + str(companies_folded_by_industry.GetEdges())"
   ]
  },
  {
   "cell_type": "markdown",
   "metadata": {},
   "source": [
    "We now address the clique issue mentioned above by creating the following graph:\n",
    "\n",
    "(1) A graph of companies wherein there's an edge between two companies if they are in the same region or industry\n",
    "(2) A graph of companies wherein there's an edge between two companies if they share an investor or are in the same region\n",
    "(3) A graph of companies wherein there's an edge between two companies if they share an investor or are in the same industry\n",
    "(4) A graph of companies wherein there's an edge between two companies if they are in the same region or industry or share a common investor"
   ]
  },
  {
   "cell_type": "code",
   "execution_count": 10,
   "metadata": {},
   "outputs": [
    {
     "name": "stdout",
     "output_type": "stream",
     "text": [
      "herre\n",
      "Nodes: 12080\n",
      "Edges: 12858171\n"
     ]
    }
   ],
   "source": [
    "# Graph of companies wherein there's an edge between two companies if they are in the same region or industry \n",
    "common_region_or_industry = snap.TUNGraph.New()\n",
    "\n",
    "for NI in companies_folded_by_region.Nodes():\n",
    "    common_region_or_industry.AddNode(NI.GetId())\n",
    "\n",
    "for NI in companies_folded_by_industry.Nodes():\n",
    "    if not common_region_or_industry.IsNode(NI.GetId()):\n",
    "        common_region_or_industry.AddNode(NI.GetId())\n",
    "\n",
    "for EI in companies_folded_by_region.Edges():\n",
    "    src = EI.GetSrcNId()\n",
    "    dest = EI.GetDstNId()\n",
    "    \n",
    "    if not common_region_or_industry.IsNode(src):\n",
    "        common_region_or_industry.AddNode(src)\n",
    "        \n",
    "    if not common_region_or_industry.IsNode(dest):\n",
    "        common_region_or_industry.AddNode(dest)\n",
    "        \n",
    "    if not common_region_or_industry.IsEdge(src, dest):\n",
    "        common_region_or_industry.AddEdge(src, dest)\n",
    "        \n",
    "for EI in companies_folded_by_industry.Edges():\n",
    "    src = EI.GetSrcNId()\n",
    "    dest = EI.GetDstNId()\n",
    "    \n",
    "    if not common_region_or_industry.IsNode(src):\n",
    "        common_region_or_industry.AddNode(src)\n",
    "        \n",
    "    if not common_region_or_industry.IsNode(dest):\n",
    "        common_region_or_industry.AddNode(dest)\n",
    "        \n",
    "    if not common_region_or_industry.IsEdge(src, dest):\n",
    "        common_region_or_industry.AddEdge(src, dest)\n",
    "            \n",
    "# Sanity check\n",
    "print \"Nodes: \" + str(common_region_or_industry.GetNodes())\n",
    "print \"Edges: \" + str(common_region_or_industry.GetEdges())"
   ]
  },
  {
   "cell_type": "code",
   "execution_count": null,
   "metadata": {},
   "outputs": [],
   "source": [
    "# Graph of companies wherein there's an edge between two companies if they are in the same region or have a common investor \n",
    "common_region_or_investor = snap.TUNGraph.New()\n",
    "\n",
    "for NI in companies_folded_by_region.Nodes():\n",
    "    common_region_or_industry.AddNode(NI.GetId())\n",
    "\n",
    "for NI in companies_folded_by_industry.Nodes():\n",
    "    if not common_region_or_industry.IsNode(NI.GetId()):\n",
    "        common_region_or_industry.AddNode(NI.GetId())\n",
    "\n",
    "for EI in companies_folded_by_region.Edges():\n",
    "    src = EI.GetSrcNId()\n",
    "    dest = EI.GetDstNId()\n",
    "    \n",
    "    if not common_region_or_industry.IsNode(src):\n",
    "        common_region_or_industry.AddNode(src)\n",
    "        \n",
    "    if not common_region_or_industry.IsNode(dest):\n",
    "        common_region_or_industry.AddNode(dest)\n",
    "        \n",
    "    if not common_region_or_industry.IsEdge(src, dest):\n",
    "        common_region_or_industry.AddEdge(src, dest)\n",
    "        \n",
    "print \"herre\"\n",
    "        \n",
    "for EI in companies_folded_by_industry.Edges():\n",
    "    src = EI.GetSrcNId()\n",
    "    dest = EI.GetDstNId()\n",
    "    \n",
    "    if not common_region_or_industry.IsNode(src):\n",
    "        common_region_or_industry.AddNode(src)\n",
    "        \n",
    "    if not common_region_or_industry.IsNode(dest):\n",
    "        common_region_or_industry.AddNode(dest)\n",
    "        \n",
    "    if not common_region_or_industry.IsEdge(src, dest):\n",
    "        common_region_or_industry.AddEdge(src, dest)\n",
    "            \n",
    "# Sanity check\n",
    "print \"Nodes: \" + str(common_region_or_industry.GetNodes())\n",
    "print \"Edges: \" + str(common_region_or_industry.GetEdges())"
   ]
  },
  {
   "cell_type": "code",
   "execution_count": null,
   "metadata": {},
   "outputs": [],
   "source": [
    "common_region_or_industry = snap.TUNGraph.New()"
   ]
  },
  {
   "cell_type": "code",
   "execution_count": null,
   "metadata": {},
   "outputs": [],
   "source": [
    "common_region_or_industry = snap.TUNGraph.New()"
   ]
  },
  {
   "cell_type": "code",
   "execution_count": null,
   "metadata": {},
   "outputs": [],
   "source": []
  }
 ],
 "metadata": {
  "kernelspec": {
   "display_name": "Python 2",
   "language": "python",
   "name": "python2"
  },
  "language_info": {
   "codemirror_mode": {
    "name": "ipython",
    "version": 2
   },
   "file_extension": ".py",
   "mimetype": "text/x-python",
   "name": "python",
   "nbconvert_exporter": "python",
   "pygments_lexer": "ipython2",
   "version": "2.7.14"
  }
 },
 "nbformat": 4,
 "nbformat_minor": 2
}
