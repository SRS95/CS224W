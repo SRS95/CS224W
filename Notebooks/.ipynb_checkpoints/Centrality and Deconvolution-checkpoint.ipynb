{
 "cells": [
  {
   "cell_type": "code",
   "execution_count": 97,
   "metadata": {},
   "outputs": [],
   "source": [
    "import numpy as np\n",
    "import snap\n",
    "import networkx as nx"
   ]
  },
  {
   "cell_type": "markdown",
   "metadata": {},
   "source": [
    "We begin by loading in 4 folded graphs:\n",
    "\n",
    "(1) A graph of companies where in edges exist for common investors\n",
    "(2) A graph of investors where in edges exist for common companies/investments\n",
    "(3) A graph of companies where in edges exist for common region\n",
    "(4) A graph of companies where in edges exist for common industry\n",
    "\n",
    "Since a company can only belong to one region and one industry, we recognize that (3) and (4) just consist of giant cliques"
   ]
  },
  {
   "cell_type": "code",
   "execution_count": 2,
   "metadata": {},
   "outputs": [
    {
     "name": "stdout",
     "output_type": "stream",
     "text": [
      "Nodes: 11572\n",
      "Edges: 768063\n"
     ]
    }
   ],
   "source": [
    "graph_name = \"../../graphs/investors_to_companies_directed/investors_to_companies_directed_folded.graph\"\n",
    "FIn = snap.TFIn(graph_name)\n",
    "companies_folded_by_investor = snap.TUNGraph.Load(FIn)\n",
    "\n",
    "# Sanity check\n",
    "print \"Nodes: \" + str(companies_folded_by_investor.GetNodes())\n",
    "print \"Edges: \" + str(companies_folded_by_investor.GetEdges())"
   ]
  },
  {
   "cell_type": "code",
   "execution_count": 3,
   "metadata": {},
   "outputs": [
    {
     "name": "stdout",
     "output_type": "stream",
     "text": [
      "Nodes: 10465\n",
      "Edges: 33053\n"
     ]
    }
   ],
   "source": [
    "graph_name = \"../../graphs/investors_to_companies_directed/investors_to_companies_directed_folded_reverse_order.graph\"\n",
    "FIn = snap.TFIn(graph_name)\n",
    "investors_folded_by_companies = snap.TUNGraph.Load(FIn)\n",
    "\n",
    "# Sanity check\n",
    "print \"Nodes: \" + str(investors_folded_by_companies.GetNodes())\n",
    "print \"Edges: \" + str(investors_folded_by_companies.GetEdges())"
   ]
  },
  {
   "cell_type": "code",
   "execution_count": 4,
   "metadata": {},
   "outputs": [
    {
     "name": "stdout",
     "output_type": "stream",
     "text": [
      "Nodes: 11573\n",
      "Edges: 9061049\n"
     ]
    }
   ],
   "source": [
    "graph_name = \"../../graphs/region_to_company_directed/region_to_company_directed_folded.graph\"\n",
    "FIn = snap.TFIn(graph_name)\n",
    "companies_folded_by_region = snap.TUNGraph.Load(FIn)\n",
    "\n",
    "# Sanity check\n",
    "print \"Nodes: \" + str(companies_folded_by_region.GetNodes())\n",
    "print \"Edges: \" + str(companies_folded_by_region.GetEdges())"
   ]
  },
  {
   "cell_type": "code",
   "execution_count": 5,
   "metadata": {},
   "outputs": [
    {
     "name": "stdout",
     "output_type": "stream",
     "text": [
      "Nodes: 11318\n",
      "Edges: 4329444\n"
     ]
    }
   ],
   "source": [
    "graph_name = \"../../graphs/categories_to_companies_directed/categories_to_companies_directed_folded.graph\"\n",
    "FIn = snap.TFIn(graph_name)\n",
    "companies_folded_by_industry = snap.TUNGraph.Load(FIn)\n",
    "\n",
    "# Sanity check\n",
    "print \"Nodes: \" + str(companies_folded_by_industry.GetNodes())\n",
    "print \"Edges: \" + str(companies_folded_by_industry.GetEdges())"
   ]
  },
  {
   "cell_type": "markdown",
   "metadata": {},
   "source": [
    "We now address the clique issue mentioned above by creating the following graph:\n",
    "\n",
    "(1) A graph of companies wherein there's an edge between two companies if they are in the same region or industry\n",
    "(2) A graph of companies wherein there's an edge between two companies if they share an investor or are in the same region\n",
    "(3) A graph of companies wherein there's an edge between two companies if they share an investor or are in the same industry\n",
    "(4) A graph of companies wherein there's an edge between two companies if they are in the same region or industry or share a common investor"
   ]
  },
  {
   "cell_type": "code",
   "execution_count": 6,
   "metadata": {},
   "outputs": [
    {
     "name": "stdout",
     "output_type": "stream",
     "text": [
      "Nodes: 12080\n",
      "Edges: 12858171\n"
     ]
    }
   ],
   "source": [
    "# Graph of companies wherein there's an edge between two companies if they are in the same region or industry \n",
    "common_region_or_industry = snap.TUNGraph.New()\n",
    "\n",
    "for NI in companies_folded_by_region.Nodes():\n",
    "    common_region_or_industry.AddNode(NI.GetId())\n",
    "\n",
    "for NI in companies_folded_by_industry.Nodes():\n",
    "    if not common_region_or_industry.IsNode(NI.GetId()):\n",
    "        common_region_or_industry.AddNode(NI.GetId())\n",
    "\n",
    "for EI in companies_folded_by_region.Edges():\n",
    "    src = EI.GetSrcNId()\n",
    "    dest = EI.GetDstNId()\n",
    "        \n",
    "    if not common_region_or_industry.IsEdge(src, dest):\n",
    "        common_region_or_industry.AddEdge(src, dest)\n",
    "        \n",
    "for EI in companies_folded_by_industry.Edges():\n",
    "    src = EI.GetSrcNId()\n",
    "    dest = EI.GetDstNId()\n",
    "        \n",
    "    if not common_region_or_industry.IsEdge(src, dest):\n",
    "        common_region_or_industry.AddEdge(src, dest)\n",
    "            \n",
    "# Sanity check\n",
    "print \"Nodes: \" + str(common_region_or_industry.GetNodes())\n",
    "print \"Edges: \" + str(common_region_or_industry.GetEdges())"
   ]
  },
  {
   "cell_type": "code",
   "execution_count": 7,
   "metadata": {},
   "outputs": [
    {
     "name": "stdout",
     "output_type": "stream",
     "text": [
      "Nodes: 14967\n",
      "Edges: 9741872\n"
     ]
    }
   ],
   "source": [
    "# Graph of companies wherein there's an edge between two companies if they are in the same region or \n",
    "# have a common investor \n",
    "common_region_or_investor = snap.TUNGraph.New()\n",
    "\n",
    "for NI in companies_folded_by_region.Nodes():\n",
    "    common_region_or_investor.AddNode(NI.GetId())\n",
    "\n",
    "for NI in companies_folded_by_investor.Nodes():\n",
    "    if not common_region_or_investor.IsNode(NI.GetId()):\n",
    "        common_region_or_investor.AddNode(NI.GetId())\n",
    "\n",
    "for EI in companies_folded_by_region.Edges():\n",
    "    src = EI.GetSrcNId()\n",
    "    dest = EI.GetDstNId()\n",
    "        \n",
    "    if not common_region_or_investor.IsEdge(src, dest):\n",
    "        common_region_or_investor.AddEdge(src, dest)\n",
    "        \n",
    "for EI in companies_folded_by_investor.Edges():\n",
    "    src = EI.GetSrcNId()\n",
    "    dest = EI.GetDstNId()\n",
    "        \n",
    "    if not common_region_or_investor.IsEdge(src, dest):\n",
    "        common_region_or_investor.AddEdge(src, dest)\n",
    "            \n",
    "# Sanity check\n",
    "print \"Nodes: \" + str(common_region_or_investor.GetNodes())\n",
    "print \"Edges: \" + str(common_region_or_investor.GetEdges())"
   ]
  },
  {
   "cell_type": "code",
   "execution_count": 8,
   "metadata": {},
   "outputs": [
    {
     "name": "stdout",
     "output_type": "stream",
     "text": [
      "Nodes: 14821\n",
      "Edges: 5056891\n"
     ]
    }
   ],
   "source": [
    "# Graph of companies wherein there's an edge between two companies if they are in the same industry or \n",
    "# have a common investor \n",
    "common_industry_or_investor = snap.TUNGraph.New()\n",
    "\n",
    "for NI in companies_folded_by_industry.Nodes():\n",
    "    common_industry_or_investor.AddNode(NI.GetId())\n",
    "\n",
    "for NI in companies_folded_by_investor.Nodes():\n",
    "    if not common_industry_or_investor.IsNode(NI.GetId()):\n",
    "        common_industry_or_investor.AddNode(NI.GetId())\n",
    "\n",
    "for EI in companies_folded_by_industry.Edges():\n",
    "    src = EI.GetSrcNId()\n",
    "    dest = EI.GetDstNId()\n",
    "        \n",
    "    if not common_industry_or_investor.IsEdge(src, dest):\n",
    "        common_industry_or_investor.AddEdge(src, dest)\n",
    "        \n",
    "for EI in companies_folded_by_investor.Edges():\n",
    "    src = EI.GetSrcNId()\n",
    "    dest = EI.GetDstNId()\n",
    "        \n",
    "    if not common_industry_or_investor.IsEdge(src, dest):\n",
    "        common_industry_or_investor.AddEdge(src, dest)\n",
    "            \n",
    "# Sanity check\n",
    "print \"Nodes: \" + str(common_industry_or_investor.GetNodes())\n",
    "print \"Edges: \" + str(common_industry_or_investor.GetEdges())"
   ]
  },
  {
   "cell_type": "code",
   "execution_count": 9,
   "metadata": {},
   "outputs": [
    {
     "name": "stdout",
     "output_type": "stream",
     "text": [
      "Nodes: 15114\n",
      "Edges: 13504003\n"
     ]
    }
   ],
   "source": [
    "# Graph of companies wherein there's an edge between two companies if they are in the same region, same industry, \n",
    "# or have a common investor \n",
    "common_region_or_industry_or_investor = snap.TUNGraph.New()\n",
    "\n",
    "for NI in companies_folded_by_region.Nodes():\n",
    "    common_region_or_industry_or_investor.AddNode(NI.GetId())\n",
    "\n",
    "for NI in companies_folded_by_investor.Nodes():\n",
    "    if not common_region_or_industry_or_investor.IsNode(NI.GetId()):\n",
    "        common_region_or_industry_or_investor.AddNode(NI.GetId())\n",
    "        \n",
    "for NI in companies_folded_by_industry.Nodes():\n",
    "    if not common_region_or_industry_or_investor.IsNode(NI.GetId()):\n",
    "        common_region_or_industry_or_investor.AddNode(NI.GetId())\n",
    "\n",
    "for EI in companies_folded_by_region.Edges():\n",
    "    src = EI.GetSrcNId()\n",
    "    dest = EI.GetDstNId()\n",
    "        \n",
    "    if not common_region_or_industry_or_investor.IsEdge(src, dest):\n",
    "         common_region_or_industry_or_investor.AddEdge(src, dest)\n",
    "        \n",
    "for EI in companies_folded_by_investor.Edges():\n",
    "    src = EI.GetSrcNId()\n",
    "    dest = EI.GetDstNId()\n",
    "        \n",
    "    if not  common_region_or_industry_or_investor.IsEdge(src, dest):\n",
    "         common_region_or_industry_or_investor.AddEdge(src, dest)\n",
    "            \n",
    "for EI in companies_folded_by_industry.Edges():\n",
    "    src = EI.GetSrcNId()\n",
    "    dest = EI.GetDstNId()\n",
    "        \n",
    "    if not common_region_or_industry_or_investor.IsEdge(src, dest):\n",
    "         common_region_or_industry_or_investor.AddEdge(src, dest)\n",
    "            \n",
    "# Sanity check\n",
    "print \"Nodes: \" + str(common_region_or_industry_or_investor.GetNodes())\n",
    "print \"Edges: \" + str(common_region_or_industry_or_investor.GetEdges())"
   ]
  },
  {
   "cell_type": "markdown",
   "metadata": {},
   "source": [
    "Now that we have 6 useful graphs, we will perform centrality analysis on each"
   ]
  },
  {
   "cell_type": "code",
   "execution_count": null,
   "metadata": {},
   "outputs": [],
   "source": [
    "# Get betweenness centrality measures\n",
    "Nodes_1 = snap.TIntFltH()\n",
    "Edges_1 = snap.TIntPrFltH()\n",
    "snap.GetBetweennessCentr(companies_folded_by_investor, Nodes_1, Edges_1, 1.0)\n",
    "\n",
    "for node in Nodes_1:\n",
    "    print \"node: %d centrality: %f\" % (node, Nodes[node])\n",
    "for edge in Edges_1:\n",
    "    print \"edge: (%d, %d) centrality: %f\" % (edge.GetVal1(), edge.GetVal2(), Edges[edge])\n",
    "\n",
    "Nodes_2 = snap.TIntFltH()\n",
    "Edges_2 = snap.TIntPrFltH()\n",
    "snap.GetBetweennessCentr(common_region_or_industry, Nodes_2, Edges_2, 1.0)\n",
    "\n",
    "for node in Nodes_2:\n",
    "    print \"node: %d centrality: %f\" % (node, Nodes[node])\n",
    "for edge in Edges_2:\n",
    "    print \"edge: (%d, %d) centrality: %f\" % (edge.GetVal1(), edge.GetVal2(), Edges[edge])\n",
    "\n",
    "Nodes_3 = snap.TIntFltH()\n",
    "Edges_3 = snap.TIntPrFltH()\n",
    "snap.GetBetweennessCentr(common_region_or_investor, Nodes_3, Edges_3, 1.0)\n",
    "\n",
    "for node in Nodes_3:\n",
    "    print \"node: %d centrality: %f\" % (node, Nodes[node])\n",
    "for edge in Edges_3:\n",
    "    print \"edge: (%d, %d) centrality: %f\" % (edge.GetVal1(), edge.GetVal2(), Edges[edge])\n",
    "\n",
    "Nodes_2 = snap.TIntFltH()\n",
    "Edges_2 = snap.TIntPrFltH()\n",
    "snap.GetBetweennessCentr(common_industry_or_investor, Nodes_4, Edges_4, 1.0)\n",
    "\n",
    "for node in Nodes_4:\n",
    "    print \"node: %d centrality: %f\" % (node, Nodes[node])\n",
    "for edge in Edges_4:\n",
    "    print \"edge: (%d, %d) centrality: %f\" % (edge.GetVal1(), edge.GetVal2(), Edges[edge])\n",
    "\n",
    "Nodes_2 = snap.TIntFltH()\n",
    "Edges_2 = snap.TIntPrFltH()\n",
    "snap.GetBetweennessCentr(common_region_or_industry_or_investor, Nodes_5, Edges_5, 1.0)\n",
    "\n",
    "for node in Nodes_5:\n",
    "    print \"node: %d centrality: %f\" % (node, Nodes[node])\n",
    "for edge in Edges_5:\n",
    "    print \"edge: (%d, %d) centrality: %f\" % (edge.GetVal1(), edge.GetVal2(), Edges[edge])\n",
    "\n",
    "\n",
    "# This is the only graph we are considering where\n",
    "# the nodes correspond to investors\n",
    "Nodes_6 = snap.TIntFltH()\n",
    "Edges_6 = snap.TIntPrFltH()\n",
    "snap.GetBetweennessCentr(investors_folded_by_companies, Nodes_6, Edges_6, 1.0)\n",
    "\n",
    "for node in Nodes_6:\n",
    "    print \"node: %d centrality: %f\" % (node, Nodes[node])\n",
    "for edge in Edges_6:\n",
    "    print \"edge: (%d, %d) centrality: %f\" % (edge.GetVal1(), edge.GetVal2(), Edges[edge])"
   ]
  },
  {
   "cell_type": "code",
   "execution_count": 102,
   "metadata": {},
   "outputs": [
    {
     "name": "stdout",
     "output_type": "stream",
     "text": [
      "done\n"
     ]
    },
    {
     "data": {
      "text/plain": [
       "'\\nfor item in NIdEigenH_6:\\n    print \"%node: d centrality: %f\" % (item, NIdEigenH[item])\\n'"
      ]
     },
     "execution_count": 102,
     "metadata": {},
     "output_type": "execute_result"
    }
   ],
   "source": [
    "# Get eigenvector centrality measures\n",
    "\n",
    "NIdEigenH_1 = snap.TIntFltH()\n",
    "snap.GetEigenVectorCentr(companies_folded_by_investor, NIdEigenH_1)\n",
    "\n",
    "'''\n",
    "for item in NIdEigenH_1:\n",
    "    print \"%node: d centrality: %f\" % (item, NIdEigenH[item])\n",
    "'''\n",
    "\n",
    "NIdEigenH_2 = snap.TIntFltH()\n",
    "snap.GetEigenVectorCentr(common_region_or_industry, NIdEigenH_2)\n",
    "\n",
    "'''\n",
    "for item in NIdEigenH_2:\n",
    "    print \"%node: d centrality: %f\" % (item, NIdEigenH[item])\n",
    "'''\n",
    "\n",
    "NIdEigenH_3 = snap.TIntFltH()\n",
    "snap.GetEigenVectorCentr(common_region_or_investor, NIdEigenH_3)\n",
    "\n",
    "'''\n",
    "for item in NIdEigenH_3:\n",
    "    print \"%node: d centrality: %f\" % (item, NIdEigenH[item])\n",
    "'''\n",
    "\n",
    "NIdEigenH_4 = snap.TIntFltH()\n",
    "snap.GetEigenVectorCentr(common_industry_or_investor, NIdEigenH_4)\n",
    "\n",
    "'''\n",
    "for item in NIdEigenH_4:\n",
    "    print \"%node: d centrality: %f\" % (item, NIdEigenH[item])\n",
    "'''\n",
    "\n",
    "NIdEigenH_5 = snap.TIntFltH()\n",
    "snap.GetEigenVectorCentr(common_region_or_industry_or_investor, NIdEigenH_5)\n",
    "\n",
    "'''\n",
    "for item in NIdEigenH_5:\n",
    "    print \"%node: d centrality: %f\" % (item, NIdEigenH[item])\n",
    "'''\n",
    "\n",
    "# This is the only graph we are considering where\n",
    "# the nodes correspond to investors\n",
    "NIdEigenH_6 = snap.TIntFltH()\n",
    "snap.GetEigenVectorCentr(investors_folded_by_companies, NIdEigenH_6)\n",
    "'''\n",
    "for item in NIdEigenH_6:\n",
    "    print \"%node: d centrality: %f\" % (item, NIdEigenH[item])\n",
    "'''"
   ]
  },
  {
   "cell_type": "markdown",
   "metadata": {},
   "source": [
    "Next, we recognize that our graphs contain highly correlated information, especially the ones that we created by taking the union of egdge sets across graphs. In order to address thiss issue, we will perorm a graph deconvolution on all of our graphs"
   ]
  },
  {
   "cell_type": "code",
   "execution_count": 71,
   "metadata": {},
   "outputs": [],
   "source": [
    "def deconvolution(A_obs):\n",
    "    # We know A_obs is symmetric so we use the\n",
    "    # numpy eigh function\n",
    "    evals_obs, V = np.linalg.eigh(A_obs)\n",
    "    \n",
    "    # Display eigenvalues and eigenvectors\n",
    "    print \"Array of observed eigenvalues\"\n",
    "    print evals_obs\n",
    "    print\"\"\n",
    "    print \"Matrix with observed evecs as cols\"\n",
    "    print V\n",
    "    print \"\"\n",
    "    \n",
    "    # Use the observed evals to get the direct evals\n",
    "    evals_dir = np.zeros(evals_obs.shape)\n",
    "    for idx in range(evals_dir.shape[0]):\n",
    "        evals_dir[idx] = evals_obs[idx] / (1.0 + evals_obs[idx])\n",
    "    \n",
    "    print \"shape of evals:\"\n",
    "    print evals_dir.shape\n",
    "    print \"Diagonal matrix of direct eigenvalues:\"\n",
    "    print np.diag(evals_dir)\n",
    "    \n",
    "    #print the three matrices we multiply from L to R\n",
    "    print V\n",
    "    print np.diag(evals_dir)\n",
    "    print np.transpose(V)\n",
    "        \n",
    "    return np.matmul(V, np.matmul(np.diag(evals_dir), np.transpose(V)))"
   ]
  },
  {
   "cell_type": "code",
   "execution_count": 81,
   "metadata": {},
   "outputs": [],
   "source": [
    "# Using this implementation of network deconvolution rather than the one above\n",
    "\n",
    "def ND(mat,beta=0.99,alpha=1,control=0):\n",
    "    '''\n",
    "    This is a python implementation/translation of network deconvolution by MIT-KELLIS LAB\n",
    "    \n",
    "    \n",
    "     LICENSE: MIT-KELLIS LAB\n",
    "    \n",
    "    \n",
    "     AUTHORS:\n",
    "        Algorithm was programmed by Soheil Feizi.\n",
    "        Paper authors are S. Feizi, D. Marbach,  M. M?©dard and M. Kellis\n",
    "    Python implementation: Gideon Rosenthal\n",
    "    \n",
    "    REFERENCES:\n",
    "       For more details, see the following paper:\n",
    "        Network Deconvolution as a General Method to Distinguish\n",
    "        Direct Dependencies over Networks\n",
    "        By: Soheil Feizi, Daniel Marbach,  Muriel Médard and Manolis Kellis\n",
    "        Nature Biotechnology\n",
    "    \n",
    "    --------------------------------------------------------------------------\n",
    "     ND.m: network deconvolution\n",
    "    --------------------------------------------------------------------------\n",
    "    \n",
    "    DESCRIPTION:\n",
    "    \n",
    "     USAGE:\n",
    "        mat_nd = ND(mat)\n",
    "        mat_nd = ND(mat,beta)\n",
    "        mat_nd = ND(mat,beta,alpha,control)\n",
    "    \n",
    "    \n",
    "     INPUT ARGUMENTS:\n",
    "     mat           Input matrix, if it is a square matrix, the program assumes\n",
    "                   it is a relevance matrix where mat(i,j) represents the similarity content\n",
    "                   between nodes i and j. Elements of matrix should be\n",
    "                   non-negative.\n",
    "     optional parameters:\n",
    "     beta          Scaling parameter, the program maps the largest absolute eigenvalue\n",
    "                   of the direct dependency matrix to beta. It should be\n",
    "                   between 0 and 1.\n",
    "     alpha         fraction of edges of the observed dependency matrix to be kept in\n",
    "                   deconvolution process.\n",
    "     control       if 0, displaying direct weights for observed\n",
    "                   interactions, if 1, displaying direct weights for both observed and\n",
    "                   non-observed interactions.\n",
    "    \n",
    "     OUTPUT ARGUMENTS:\n",
    "    \n",
    "     mat_nd        Output deconvolved matrix (direct dependency matrix). Its components\n",
    "                   represent direct edge weights of observed interactions.\n",
    "                   Choosing top direct interactions (a cut-off) depends on the application and\n",
    "                   is not implemented in this code.\n",
    "    \n",
    "     To apply ND on regulatory networks, follow steps explained in Supplementary notes\n",
    "     1.4.1 and 2.1 and 2.3 of the paper.\n",
    "     In this implementation, input matrices are made symmetric.\n",
    "    \n",
    "    **************************************************************************\n",
    "     loading scaling and thresholding parameters\n",
    "    '''\n",
    "    import scipy.stats.mstats as stat\n",
    "    from numpy import linalg as LA\n",
    "\n",
    "\n",
    "    if beta>=1 or beta<=0:\n",
    "        print 'error: beta should be in (0,1)'\n",
    "      \n",
    "    if alpha>1 or alpha<=0:\n",
    "            print 'error: alpha should be in (0,1)';\n",
    "     \n",
    "    \n",
    "    '''\n",
    "    ***********************************\n",
    "     Processing the inut matrix\n",
    "     diagonal values are filtered\n",
    "    '''\n",
    "    \n",
    "    n = mat.shape[0]\n",
    "    np.fill_diagonal(mat, 0)\n",
    "    \n",
    "    '''\n",
    "    Thresholding the input matrix\n",
    "    '''\n",
    "    y =stat.mquantiles(mat[:],prob=[1-alpha])\n",
    "    th = mat>=y\n",
    "    mat_th=mat*th;\n",
    "\n",
    "    '''\n",
    "    making the matrix symetric if already not\n",
    "    '''\n",
    "    mat_th = (mat_th+mat_th.T)/2\n",
    "\n",
    "    \n",
    "    '''\n",
    "    ***********************************\n",
    "    eigen decomposition\n",
    "    '''\n",
    "    print 'Decomposition and deconvolution...'\n",
    "\n",
    "    Dv,U = LA.eigh(mat_th) \n",
    "    D = np.diag((Dv))\n",
    "    lam_n=np.abs(np.min(np.min(np.diag(D)),0))\n",
    "    lam_p=np.abs(np.max(np.max(np.diag(D)),0))\n",
    "\n",
    "    \n",
    "    m1=lam_p*(1-beta)/beta\n",
    "    m2=lam_n*(1+beta)/beta\n",
    "    m=max(m1,m2)\n",
    "    \n",
    "    #network deconvolution\n",
    "    for i in range(D.shape[0]):\n",
    "        D[i,i] = (D[i,i])/(m+D[i,i])\n",
    "    \n",
    "    mat_new1 = np.dot(U,np.dot(D,LA.inv(U)))\n",
    "    \n",
    "                    \n",
    "    '''\n",
    "    \n",
    "    ***********************************\n",
    "     displying direct weights\n",
    "    '''\n",
    "    if control==0:\n",
    "        ind_edges = (mat_th>0)*1.0;\n",
    "        ind_nonedges = (mat_th==0)*1.0;\n",
    "        m1 = np.max(np.max(mat*ind_nonedges));\n",
    "        m2 = np.min(np.min(mat_new1));\n",
    "        mat_new2 = (mat_new1+np.max(m1-m2,0))*ind_edges+(mat*ind_nonedges);\n",
    "    else:\n",
    "        m2 = np.min(np.min(mat_new1));\n",
    "        mat_new2 = (mat_new1+np.max(-m2,0));\n",
    "    \n",
    "    \n",
    "    '''\n",
    "    ***********************************\n",
    "     linearly mapping the deconvolved matrix to be between 0 and 1\n",
    "    '''\n",
    "    m1 = np.min(np.min(mat_new2));\n",
    "    m2 = np.max(np.max(mat_new2));\n",
    "    mat_nd = (mat_new2-m1)/(m2-m1);\n",
    "\n",
    "\n",
    "    return mat_nd\n"
   ]
  },
  {
   "cell_type": "code",
   "execution_count": 11,
   "metadata": {},
   "outputs": [],
   "source": [
    "def form_adj_matrix(G):\n",
    "    num_nodes = G.GetNodes()\n",
    "    A = np.zeros((num_nodes, num_nodes))\n",
    "    \n",
    "    # snap gives the node IDs in ascending order\n",
    "    sorted_NIds = []\n",
    "    for NI in G.Nodes(): sorted_NIds.append(NI.GetId())\n",
    "\n",
    "    # Mapping from node ID to row index in matrix\n",
    "    matrix_idx_to_NId = {}\n",
    "    for idx in range(num_nodes): \n",
    "        matrix_idx_to_NId[sorted_NIds[idx]] = idx\n",
    "    \n",
    "    for EI in G.Edges():\n",
    "        src, dest = EI.GetSrcNId(), EI.GetDstNId()\n",
    "        A[matrix_idx_to_NId[src], matrix_idx_to_NId[dest]] = 1.0\n",
    "        A[matrix_idx_to_NId[dest], matrix_idx_to_NId[src]] = 1.0\n",
    "\n",
    "    assert(np.sum(A) == 2 * G.GetEdges())\n",
    "    return A"
   ]
  },
  {
   "cell_type": "code",
   "execution_count": 90,
   "metadata": {},
   "outputs": [
    {
     "name": "stdout",
     "output_type": "stream",
     "text": [
      "\n"
     ]
    }
   ],
   "source": [
    "def adj_matrix_to_graph(A, G):\n",
    "    # snap gives the node IDs in ascending order\n",
    "    sorted_NIds = []\n",
    "    for NI in G.Nodes(): sorted_NIds.append(NI.GetId())\n",
    "        \n",
    "    # Mapping from row index to node ID\n",
    "    matrix_idx_to_NId = {}\n",
    "    for idx in range(G.GetNodes()): \n",
    "        matrix_idx_to_NId[idx] = sorted_NIds[idx]\n",
    "    \n",
    "    # Create graph to return\n",
    "    G_result = snap.TUNGraph.New()\n",
    "    for idx in range(G.GetNodes()): G_result.AddNode(matrix_idx_to_NId[idx])\n",
    "    \n",
    "    for row in range(A.shape[0]):\n",
    "        for col in range(row, A.shape[1]):\n",
    "            if A[row, col] > 0.:\n",
    "                G_result.AddEdge(matrix_idx_to_NId[row], matrix_idx_to_NId[col])\n",
    "            \n",
    "    return G_result"
   ]
  },
  {
   "cell_type": "code",
   "execution_count": 22,
   "metadata": {},
   "outputs": [
    {
     "name": "stdout",
     "output_type": "stream",
     "text": [
      "[[ 0.  1.  0. ...,  0.  0.  0.]\n",
      " [ 1.  0.  0. ...,  0.  0.  0.]\n",
      " [ 0.  0.  0. ...,  0.  0.  0.]\n",
      " ..., \n",
      " [ 0.  0.  0. ...,  0.  0.  0.]\n",
      " [ 0.  0.  0. ...,  0.  0.  0.]\n",
      " [ 0.  0.  0. ...,  0.  0.  0.]]\n"
     ]
    }
   ],
   "source": [
    "# Form the adjacency matrix for the megagraph we created\n",
    "common_region_or_industry_or_investor_adj_matrix = form_adj_matrix(common_region_or_industry_or_investor)\n",
    "print common_region_or_industry_or_investor_adj_matrix"
   ]
  },
  {
   "cell_type": "code",
   "execution_count": 67,
   "metadata": {},
   "outputs": [
    {
     "name": "stdout",
     "output_type": "stream",
     "text": [
      "15114\n",
      "13504003\n"
     ]
    }
   ],
   "source": [
    "# Want to be sure this function actually recovers the graph from the adj matrix\n",
    "test = adj_matrix_to_graph(common_region_or_industry_or_investor_adj_matrix, common_region_or_industry_or_investor)\n",
    "print test.GetNodes()\n",
    "print test.GetEdges()"
   ]
  },
  {
   "cell_type": "code",
   "execution_count": 80,
   "metadata": {},
   "outputs": [
    {
     "name": "stdout",
     "output_type": "stream",
     "text": [
      "Decomposition and deconvolution...\n"
     ]
    }
   ],
   "source": [
    "# Run deconvolution using the adjacency matrix\n",
    "common_region_or_industry_or_investor_deconv = ND(common_region_or_industry_or_investor_adj_matrix)"
   ]
  },
  {
   "cell_type": "code",
   "execution_count": 87,
   "metadata": {},
   "outputs": [
    {
     "name": "stdout",
     "output_type": "stream",
     "text": [
      "(15114, 15114)\n",
      "[[ 0.          0.73733184  0.         ...,  0.          0.          0.        ]\n",
      " [ 0.73733184  0.          0.         ...,  0.          0.          0.        ]\n",
      " [ 0.          0.          0.         ...,  0.          0.          0.        ]\n",
      " ..., \n",
      " [ 0.          0.          0.         ...,  0.          0.          0.        ]\n",
      " [ 0.          0.          0.         ...,  0.          0.          0.        ]\n",
      " [ 0.          0.          0.         ...,  0.          0.          0.        ]]\n"
     ]
    }
   ],
   "source": [
    "print common_region_or_industry_or_investor_deconv.shape\n",
    "print common_region_or_industry_or_investor_deconv"
   ]
  },
  {
   "cell_type": "code",
   "execution_count": 91,
   "metadata": {},
   "outputs": [],
   "source": [
    "deconvolved_graph = adj_matrix_to_graph(common_region_or_industry_or_investor_deconv, common_region_or_industry_or_investor)"
   ]
  },
  {
   "cell_type": "code",
   "execution_count": 92,
   "metadata": {},
   "outputs": [
    {
     "name": "stdout",
     "output_type": "stream",
     "text": [
      "Number of nodes after deconvolving (should be the same): 15114\n",
      "Number of edges after deconvolving (should be the same): 13504003\n"
     ]
    }
   ],
   "source": [
    "# Number of nodes before convolution: 15,114\n",
    "print \"Number of nodes after deconvolving (should be the same): \" + str(deconvolved_graph.GetNodes())\n",
    "\n",
    "# Number of edges before deconvolution: 13,504,003\n",
    "print \"Number of edges after deconvolving (should be the same): \" + str(deconvolved_graph.GetEdges())"
   ]
  },
  {
   "cell_type": "code",
   "execution_count": 93,
   "metadata": {},
   "outputs": [],
   "source": [
    "def save_graph(G, graph_name):\n",
    "    FOut = snap.TFOut(\"../../graphs/deconv_notebook_graphs/\" + graph_name + \".graph\")\n",
    "    G.Save(FOut)\n",
    "    FOut.Flush()"
   ]
  },
  {
   "cell_type": "code",
   "execution_count": 94,
   "metadata": {},
   "outputs": [],
   "source": [
    "save_graph(deconvolved_graph, \"common_region_or_industry_or_investor_deconvolved\")"
   ]
  },
  {
   "cell_type": "code",
   "execution_count": 60,
   "metadata": {},
   "outputs": [],
   "source": [
    "save_graph(common_region_or_industry_or_investor, \"common_region_or_industry_or_investor\")\n",
    "save_graph(common_region_or_industry, \"common_region_or_industry\")\n",
    "save_graph(common_region_or_investor, \"common_region_or_investor\")\n",
    "save_graph(common_industry_or_investor, \"common_industry_or_investor\")"
   ]
  },
  {
   "cell_type": "code",
   "execution_count": 95,
   "metadata": {},
   "outputs": [],
   "source": [
    "def createAndSaveEdgeList(G, output_name):\n",
    "    # There will be one edge per row\n",
    "    result = np.zeros((G.GetEdges(), 2), dtype=int)\n",
    "    \n",
    "    index = 0\n",
    "    for EI in G.Edges():\n",
    "        result[index, 0] = EI.GetSrcNId()\n",
    "        result[index, 1] = EI.GetDstNId()\n",
    "        index += 1\n",
    "    \n",
    "    # Match node2vec edgelist format\n",
    "    np.savetxt(output_name, result, fmt='%i', delimiter=\"\\t\")"
   ]
  },
  {
   "cell_type": "code",
   "execution_count": 101,
   "metadata": {},
   "outputs": [
    {
     "name": "stdout",
     "output_type": "stream",
     "text": [
      "Number of nodes in deconvolved networkx graph: 14511\n",
      "Number of edges in deconvolved networkx graph: 13504003\n"
     ]
    }
   ],
   "source": [
    "# Need to do this for node2vec\n",
    "\n",
    "# Need a way to go from node ID to matrix index\n",
    "sorted_NIds = []\n",
    "for NI in deconvolved_graph.Nodes(): sorted_NIds.append(NI.GetId())\n",
    "\n",
    "# Mapping from row index to node ID\n",
    "NId_to_matrix_idx = {}\n",
    "for idx in range(deconvolved_graph.GetNodes()): \n",
    "    NId_to_matrix_idx[sorted_NIds[idx]] = idx\n",
    "\n",
    "# Create networkx graph\n",
    "deconvolved_graph_nx = nx.Graph()\n",
    "\n",
    "for EI in deconvolved_graph.Edges():\n",
    "    src = EI.GetSrcNId()\n",
    "    dst = EI.GetDstNId()\n",
    "    \n",
    "    if not deconvolved_graph_nx.has_node(src):\n",
    "        deconvolved_graph_nx.add_node(src)\n",
    "        \n",
    "    if not deconvolved_graph_nx.has_node(dst):\n",
    "        deconvolved_graph_nx.add_node(dst)\n",
    "     \n",
    "    # Look up the weight in the adjacency matrix\n",
    "    src_matrix_idx = NId_to_matrix_idx[src]\n",
    "    dst_matrix_idx = NId_to_matrix_idx[dst]\n",
    "    wt = common_region_or_industry_or_investor_deconv[src_matrix_idx, dst_matrix_idx]\n",
    "    \n",
    "    deconvolved_graph_nx.add_edge(src, dst, weight=wt)\n",
    "    \n",
    "print \"Number of nodes in deconvolved networkx graph: \" + str(deconvolved_graph_nx.number_of_nodes())\n",
    "print \"Number of edges in deconvolved networkx graph: \" + str(deconvolved_graph_nx.number_of_edges())\n",
    "    \n",
    "nx.write_weighted_edgelist(deconvolved_graph_nx, \"../../graphs/deconv_notebook_graphs/deconvolved_graph_nx.edgelist\")"
   ]
  }
 ],
 "metadata": {
  "kernelspec": {
   "display_name": "Python 2",
   "language": "python",
   "name": "python2"
  },
  "language_info": {
   "codemirror_mode": {
    "name": "ipython",
    "version": 2
   },
   "file_extension": ".py",
   "mimetype": "text/x-python",
   "name": "python",
   "nbconvert_exporter": "python",
   "pygments_lexer": "ipython2",
   "version": "2.7.14"
  }
 },
 "nbformat": 4,
 "nbformat_minor": 2
}
