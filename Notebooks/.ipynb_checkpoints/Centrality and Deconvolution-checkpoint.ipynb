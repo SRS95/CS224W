{
 "cells": [
  {
   "cell_type": "code",
   "execution_count": 1,
   "metadata": {},
   "outputs": [],
   "source": [
    "import numpy as np\n",
    "import snap\n",
    "import networkx as nx\n",
    "from matplotlib import pyplot as plt\n",
    "from python_louvain_master.community.community_louvain import modularity\n",
    "from python_louvain_master.community.community_louvain import best_partition"
   ]
  },
  {
   "cell_type": "markdown",
   "metadata": {},
   "source": [
    "We begin by loading in 4 folded graphs:\n",
    "\n",
    "(1) A graph of companies where in edges exist for common investors\n",
    "(2) A graph of investors where in edges exist for common companies/investments\n",
    "(3) A graph of companies where in edges exist for common region\n",
    "(4) A graph of companies where in edges exist for common industry\n",
    "\n",
    "Since a company can only belong to one region and one industry, we recognize that (3) and (4) just consist of giant cliques"
   ]
  },
  {
   "cell_type": "code",
   "execution_count": 2,
   "metadata": {},
   "outputs": [],
   "source": [
    "# We'll need mappings from node IDs to companies and investors\n",
    "investor_IDs = np.load(\"../../graphs/investors_to_companies_directed/bipartite_source_class.npy\")\n",
    "company_IDs = np.load(\"../../graphs/investors_to_companies_directed/bipartite_dest_class.npy\")\n",
    "node_ID_to_value = np.load(\"../../graphs/investors_to_companies_directed/node_id_to_value.npy\").item()\n",
    "\n",
    "NId_to_name_investors = {}\n",
    "for NId in investor_IDs:\n",
    "    NId_to_name_investors[NId] = node_ID_to_value[NId]\n",
    "    \n",
    "NId_to_name_companies = {}\n",
    "for NId in company_IDs:\n",
    "    NId_to_name_companies[NId] = node_ID_to_value[NId]"
   ]
  },
  {
   "cell_type": "code",
   "execution_count": 3,
   "metadata": {},
   "outputs": [
    {
     "name": "stdout",
     "output_type": "stream",
     "text": [
      "Nodes: 11572\n",
      "Edges: 768063\n"
     ]
    }
   ],
   "source": [
    "graph_name = \"../../graphs/investors_to_companies_directed/investors_to_companies_directed_folded.graph\"\n",
    "FIn = snap.TFIn(graph_name)\n",
    "companies_folded_by_investor = snap.TUNGraph.Load(FIn)\n",
    "\n",
    "# Sanity check\n",
    "print \"Nodes: \" + str(companies_folded_by_investor.GetNodes())\n",
    "print \"Edges: \" + str(companies_folded_by_investor.GetEdges())"
   ]
  },
  {
   "cell_type": "code",
   "execution_count": 4,
   "metadata": {},
   "outputs": [
    {
     "name": "stdout",
     "output_type": "stream",
     "text": [
      "Nodes: 10465\n",
      "Edges: 33053\n"
     ]
    }
   ],
   "source": [
    "graph_name = \"../../graphs/investors_to_companies_directed/investors_to_companies_directed_folded_reverse_order.graph\"\n",
    "FIn = snap.TFIn(graph_name)\n",
    "investors_folded_by_companies = snap.TUNGraph.Load(FIn)\n",
    "\n",
    "# Sanity check\n",
    "print \"Nodes: \" + str(investors_folded_by_companies.GetNodes())\n",
    "print \"Edges: \" + str(investors_folded_by_companies.GetEdges())"
   ]
  },
  {
   "cell_type": "code",
   "execution_count": 5,
   "metadata": {},
   "outputs": [
    {
     "name": "stdout",
     "output_type": "stream",
     "text": [
      "Nodes: 11573\n",
      "Edges: 9061049\n"
     ]
    }
   ],
   "source": [
    "graph_name = \"../../graphs/region_to_company_directed/region_to_company_directed_folded.graph\"\n",
    "FIn = snap.TFIn(graph_name)\n",
    "companies_folded_by_region = snap.TUNGraph.Load(FIn)\n",
    "\n",
    "# Sanity check\n",
    "print \"Nodes: \" + str(companies_folded_by_region.GetNodes())\n",
    "print \"Edges: \" + str(companies_folded_by_region.GetEdges())"
   ]
  },
  {
   "cell_type": "code",
   "execution_count": 6,
   "metadata": {},
   "outputs": [
    {
     "name": "stdout",
     "output_type": "stream",
     "text": [
      "Nodes: 11318\n",
      "Edges: 4329444\n"
     ]
    }
   ],
   "source": [
    "graph_name = \"../../graphs/categories_to_companies_directed/categories_to_companies_directed_folded.graph\"\n",
    "FIn = snap.TFIn(graph_name)\n",
    "companies_folded_by_industry = snap.TUNGraph.Load(FIn)\n",
    "\n",
    "# Sanity check\n",
    "print \"Nodes: \" + str(companies_folded_by_industry.GetNodes())\n",
    "print \"Edges: \" + str(companies_folded_by_industry.GetEdges())"
   ]
  },
  {
   "cell_type": "markdown",
   "metadata": {},
   "source": [
    "We now address the clique issue mentioned above by creating the following graph:\n",
    "\n",
    "(1) A graph of companies wherein there's an edge between two companies if they are in the same region or industry\n",
    "(2) A graph of companies wherein there's an edge between two companies if they share an investor or are in the same region\n",
    "(3) A graph of companies wherein there's an edge between two companies if they share an investor or are in the same industry\n",
    "(4) A graph of companies wherein there's an edge between two companies if they are in the same region or industry or share a common investor"
   ]
  },
  {
   "cell_type": "code",
   "execution_count": 7,
   "metadata": {},
   "outputs": [
    {
     "name": "stdout",
     "output_type": "stream",
     "text": [
      "Nodes: 12080\n",
      "Edges: 12858171\n"
     ]
    }
   ],
   "source": [
    "# Graph of companies wherein there's an edge between two companies if they are in the same region or industry \n",
    "common_region_or_industry = snap.TUNGraph.New()\n",
    "\n",
    "for NI in companies_folded_by_region.Nodes():\n",
    "    common_region_or_industry.AddNode(NI.GetId())\n",
    "\n",
    "for NI in companies_folded_by_industry.Nodes():\n",
    "    if not common_region_or_industry.IsNode(NI.GetId()):\n",
    "        common_region_or_industry.AddNode(NI.GetId())\n",
    "\n",
    "for EI in companies_folded_by_region.Edges():\n",
    "    src = EI.GetSrcNId()\n",
    "    dest = EI.GetDstNId()\n",
    "        \n",
    "    if not common_region_or_industry.IsEdge(src, dest):\n",
    "        common_region_or_industry.AddEdge(src, dest)\n",
    "        \n",
    "for EI in companies_folded_by_industry.Edges():\n",
    "    src = EI.GetSrcNId()\n",
    "    dest = EI.GetDstNId()\n",
    "        \n",
    "    if not common_region_or_industry.IsEdge(src, dest):\n",
    "        common_region_or_industry.AddEdge(src, dest)\n",
    "            \n",
    "# Sanity check\n",
    "print \"Nodes: \" + str(common_region_or_industry.GetNodes())\n",
    "print \"Edges: \" + str(common_region_or_industry.GetEdges())"
   ]
  },
  {
   "cell_type": "code",
   "execution_count": 8,
   "metadata": {},
   "outputs": [
    {
     "name": "stdout",
     "output_type": "stream",
     "text": [
      "Nodes: 14967\n",
      "Edges: 9741872\n"
     ]
    }
   ],
   "source": [
    "# Graph of companies wherein there's an edge between two companies if they are in the same region or \n",
    "# have a common investor \n",
    "common_region_or_investor = snap.TUNGraph.New()\n",
    "\n",
    "for NI in companies_folded_by_region.Nodes():\n",
    "    common_region_or_investor.AddNode(NI.GetId())\n",
    "\n",
    "for NI in companies_folded_by_investor.Nodes():\n",
    "    if not common_region_or_investor.IsNode(NI.GetId()):\n",
    "        common_region_or_investor.AddNode(NI.GetId())\n",
    "\n",
    "for EI in companies_folded_by_region.Edges():\n",
    "    src = EI.GetSrcNId()\n",
    "    dest = EI.GetDstNId()\n",
    "        \n",
    "    if not common_region_or_investor.IsEdge(src, dest):\n",
    "        common_region_or_investor.AddEdge(src, dest)\n",
    "        \n",
    "for EI in companies_folded_by_investor.Edges():\n",
    "    src = EI.GetSrcNId()\n",
    "    dest = EI.GetDstNId()\n",
    "        \n",
    "    if not common_region_or_investor.IsEdge(src, dest):\n",
    "        common_region_or_investor.AddEdge(src, dest)\n",
    "            \n",
    "# Sanity check\n",
    "print \"Nodes: \" + str(common_region_or_investor.GetNodes())\n",
    "print \"Edges: \" + str(common_region_or_investor.GetEdges())"
   ]
  },
  {
   "cell_type": "code",
   "execution_count": 9,
   "metadata": {},
   "outputs": [
    {
     "name": "stdout",
     "output_type": "stream",
     "text": [
      "Nodes: 14821\n",
      "Edges: 5056891\n"
     ]
    }
   ],
   "source": [
    "# Graph of companies wherein there's an edge between two companies if they are in the same industry or \n",
    "# have a common investor \n",
    "common_industry_or_investor = snap.TUNGraph.New()\n",
    "\n",
    "for NI in companies_folded_by_industry.Nodes():\n",
    "    common_industry_or_investor.AddNode(NI.GetId())\n",
    "\n",
    "for NI in companies_folded_by_investor.Nodes():\n",
    "    if not common_industry_or_investor.IsNode(NI.GetId()):\n",
    "        common_industry_or_investor.AddNode(NI.GetId())\n",
    "\n",
    "for EI in companies_folded_by_industry.Edges():\n",
    "    src = EI.GetSrcNId()\n",
    "    dest = EI.GetDstNId()\n",
    "        \n",
    "    if not common_industry_or_investor.IsEdge(src, dest):\n",
    "        common_industry_or_investor.AddEdge(src, dest)\n",
    "        \n",
    "for EI in companies_folded_by_investor.Edges():\n",
    "    src = EI.GetSrcNId()\n",
    "    dest = EI.GetDstNId()\n",
    "        \n",
    "    if not common_industry_or_investor.IsEdge(src, dest):\n",
    "        common_industry_or_investor.AddEdge(src, dest)\n",
    "            \n",
    "# Sanity check\n",
    "print \"Nodes: \" + str(common_industry_or_investor.GetNodes())\n",
    "print \"Edges: \" + str(common_industry_or_investor.GetEdges())"
   ]
  },
  {
   "cell_type": "code",
   "execution_count": 10,
   "metadata": {},
   "outputs": [
    {
     "name": "stdout",
     "output_type": "stream",
     "text": [
      "Nodes: 15114\n",
      "Edges: 13504003\n"
     ]
    }
   ],
   "source": [
    "# Graph of companies wherein there's an edge between two companies if they are in the same region, same industry, \n",
    "# or have a common investor \n",
    "common_region_or_industry_or_investor = snap.TUNGraph.New()\n",
    "\n",
    "for NI in companies_folded_by_region.Nodes():\n",
    "    common_region_or_industry_or_investor.AddNode(NI.GetId())\n",
    "\n",
    "for NI in companies_folded_by_investor.Nodes():\n",
    "    if not common_region_or_industry_or_investor.IsNode(NI.GetId()):\n",
    "        common_region_or_industry_or_investor.AddNode(NI.GetId())\n",
    "        \n",
    "for NI in companies_folded_by_industry.Nodes():\n",
    "    if not common_region_or_industry_or_investor.IsNode(NI.GetId()):\n",
    "        common_region_or_industry_or_investor.AddNode(NI.GetId())\n",
    "\n",
    "for EI in companies_folded_by_region.Edges():\n",
    "    src = EI.GetSrcNId()\n",
    "    dest = EI.GetDstNId()\n",
    "        \n",
    "    if not common_region_or_industry_or_investor.IsEdge(src, dest):\n",
    "         common_region_or_industry_or_investor.AddEdge(src, dest)\n",
    "        \n",
    "for EI in companies_folded_by_investor.Edges():\n",
    "    src = EI.GetSrcNId()\n",
    "    dest = EI.GetDstNId()\n",
    "        \n",
    "    if not  common_region_or_industry_or_investor.IsEdge(src, dest):\n",
    "         common_region_or_industry_or_investor.AddEdge(src, dest)\n",
    "            \n",
    "for EI in companies_folded_by_industry.Edges():\n",
    "    src = EI.GetSrcNId()\n",
    "    dest = EI.GetDstNId()\n",
    "        \n",
    "    if not common_region_or_industry_or_investor.IsEdge(src, dest):\n",
    "         common_region_or_industry_or_investor.AddEdge(src, dest)\n",
    "            \n",
    "# Sanity check\n",
    "print \"Nodes: \" + str(common_region_or_industry_or_investor.GetNodes())\n",
    "print \"Edges: \" + str(common_region_or_industry_or_investor.GetEdges())"
   ]
  },
  {
   "cell_type": "markdown",
   "metadata": {},
   "source": [
    "Now that we have 6 useful graphs, we will perform centrality analysis on each"
   ]
  },
  {
   "cell_type": "code",
   "execution_count": 100,
   "metadata": {},
   "outputs": [],
   "source": [
    "def sorted_centralities(nodes_to_centralities, NId_to_name, needs_sorting, plot_title):\n",
    "    fig = plt.figure(figsize=(12.5, 7.5))\n",
    "    \n",
    "    sorted_centralities = None\n",
    "    \n",
    "    if needs_sorting:\n",
    "        centralities = []\n",
    "        for item in nodes_to_centralities:\n",
    "            centralities.append((item, nodes_to_centralities[item]))\n",
    "        sorted_centralities = sorted(centralities, key=lambda x: x[1], reverse=True)\n",
    "    \n",
    "    # Already sorted\n",
    "    else:\n",
    "        sorted_centralities = nodes_to_centralities\n",
    "    \n",
    "    print \"Here are the top 50 most central nodes:\"  \n",
    "    for idx, item in enumerate(sorted_centralities):\n",
    "        if idx == 50: break\n",
    "        print NId_to_name[item[0]] + \": \" + str(item[1])\n",
    "    \n",
    "    if plot_title != None:\n",
    "        print \"Now plotting centralities\"\n",
    "        X = np.arange(len(nodes_to_centralities))\n",
    "        Y = [centrality_val[1] for centrality_val in sorted_centralities]\n",
    "        plt.scatter(X, Y)\n",
    "        plt.xlabel(\"Nodes sorted from highest to lowest centrality\")\n",
    "        plt.ylabel(\"Node centrality\")\n",
    "        plt.title(plot_title)\n",
    "\n",
    "        fig.savefig(\"/Users/samschwager 1/Desktop/\" + plot_title + \".png\", dpi=fig.dpi)"
   ]
  },
  {
   "cell_type": "code",
   "execution_count": null,
   "metadata": {},
   "outputs": [],
   "source": [
    "# Get betweenness centrality measures\n",
    "'''\n",
    "Nodes_1 = snap.TIntFltH()\n",
    "Edges_1 = snap.TIntPrFltH()\n",
    "snap.GetBetweennessCentr(companies_folded_by_investor, Nodes_1, Edges_1, 0.1)\n",
    "\n",
    "\n",
    "for node in Nodes_1:\n",
    "    print \"node: %d centrality: %f\" % (node, Nodes[node])\n",
    "for edge in Edges_1:\n",
    "    print \"edge: (%d, %d) centrality: %f\" % (edge.GetVal1(), edge.GetVal2(), Edges[edge])\n",
    "\n",
    "\n",
    "print \"Done with first\"\n",
    "\n",
    "Nodes_2 = snap.TIntFltH()\n",
    "Edges_2 = snap.TIntPrFltH()\n",
    "snap.GetBetweennessCentr(common_region_or_industry, Nodes_2, Edges_2, 0.1)\n",
    "\n",
    "\n",
    "for node in Nodes_2:\n",
    "    print \"node: %d centrality: %f\" % (node, Nodes[node])\n",
    "for edge in Edges_2:\n",
    "    print \"edge: (%d, %d) centrality: %f\" % (edge.GetVal1(), edge.GetVal2(), Edges[edge])\n",
    "\n",
    "\n",
    "Nodes_3 = snap.TIntFltH()\n",
    "Edges_3 = snap.TIntPrFltH()\n",
    "snap.GetBetweennessCentr(common_region_or_investor, Nodes_3, Edges_3, 0.1)\n",
    "\n",
    "\n",
    "for node in Nodes_3:\n",
    "    print \"node: %d centrality: %f\" % (node, Nodes[node])\n",
    "for edge in Edges_3:\n",
    "    print \"edge: (%d, %d) centrality: %f\" % (edge.GetVal1(), edge.GetVal2(), Edges[edge])\n",
    "\n",
    "\n",
    "Nodes_4 = snap.TIntFltH()\n",
    "Edges_4 = snap.TIntPrFltH()\n",
    "snap.GetBetweennessCentr(common_industry_or_investor, Nodes_4, Edges_4, 0.1)\n",
    "\n",
    "\n",
    "for node in Nodes_4:\n",
    "    print \"node: %d centrality: %f\" % (node, Nodes[node])\n",
    "for edge in Edges_4:\n",
    "    print \"edge: (%d, %d) centrality: %f\" % (edge.GetVal1(), edge.GetVal2(), Edges[edge])\n",
    "\n",
    "\n",
    "Nodes_5 = snap.TIntFltH()\n",
    "Edges_5 = snap.TIntPrFltH()\n",
    "snap.GetBetweennessCentr(common_region_or_industry_or_investor, Nodes_5, Edges_5, 0.1)\n",
    "\n",
    "\n",
    "for node in Nodes_5:\n",
    "    print \"node: %d centrality: %f\" % (node, Nodes[node])\n",
    "for edge in Edges_5:\n",
    "    print \"edge: (%d, %d) centrality: %f\" % (edge.GetVal1(), edge.GetVal2(), Edges[edge])\n",
    "\n",
    "\n",
    "\n",
    "# This is the only graph we are considering where\n",
    "# the nodes correspond to investors\n",
    "Nodes_6 = snap.TIntFltH()\n",
    "Edges_6 = snap.TIntPrFltH()\n",
    "snap.GetBetweennessCentr(investors_folded_by_companies, Nodes_6, Edges_6, 0.1)\n",
    "\n",
    "\n",
    "for node in Nodes_6:\n",
    "    print \"node: %d centrality: %f\" % (node, Nodes[node])\n",
    "for edge in Edges_6:\n",
    "    print \"edge: (%d, %d) centrality: %f\" % (edge.GetVal1(), edge.GetVal2(), Edges[edge])\n",
    "'''"
   ]
  },
  {
   "cell_type": "code",
   "execution_count": 43,
   "metadata": {},
   "outputs": [],
   "source": [
    "def get_degree_centrality(G):\n",
    "    result = []\n",
    "    for NI in G.Nodes():\n",
    "        NId = NI.GetId()\n",
    "        DegCentr = snap.GetDegreeCentr(G, NId)\n",
    "        result.append((NI.GetId(), DegCentr))\n",
    "    return sorted(result, key=lambda x: x[1], reverse=True)"
   ]
  },
  {
   "cell_type": "code",
   "execution_count": 47,
   "metadata": {},
   "outputs": [],
   "source": [
    "degree_centrality_1 = get_degree_centrality(companies_folded_by_investor)\n",
    "degree_centrality_2 = get_degree_centrality(common_region_or_industry)\n",
    "degree_centrality_3 = get_degree_centrality(common_region_or_investor)\n",
    "degree_centrality_4 = get_degree_centrality(common_industry_or_investor)\n",
    "degree_centrality_5 = get_degree_centrality(common_region_or_industry_or_investor)\n",
    "degree_centrality_6 = get_degree_centrality(investors_folded_by_companies)"
   ]
  },
  {
   "cell_type": "code",
   "execution_count": 98,
   "metadata": {},
   "outputs": [
    {
     "name": "stdout",
     "output_type": "stream",
     "text": [
      "Here are the top 50 most central nodes:\n",
      "Swiftype: 0.380136306491\n",
      "Upstart: 0.379143783498\n",
      "TrialPay: 0.378415933302\n",
      "Kno: 0.377158737511\n",
      "Zaarly: 0.372328458943\n",
      "Chartbeat: 0.372328458943\n",
      "XenSource: 0.371997617945\n",
      "Nextdoor: 0.370608085754\n",
      "Tello: 0.370211076557\n",
      "Rockmelt: 0.370211076557\n",
      "Cloudera: 0.366571825581\n",
      "Snapchat: 0.364520611394\n",
      "HubSpot: 0.363925097598\n",
      "Dispatch: 0.363528088401\n",
      "Honestly.com: 0.361079865017\n",
      "Plivo: 0.361013696817\n",
      "ag��mi Systems: 0.36061668762\n",
      "SuVolta: 0.36055051942\n",
      "Clinkle: 0.360285846622\n",
      "Thinkfuse: 0.360153510223\n",
      "Aquantia: 0.359756501026\n",
      "isocket: 0.359425660028\n",
      "Getable: 0.358962482631\n",
      "Loosecubes: 0.357903791438\n",
      "ThinkNear: 0.35750678224\n",
      "Shape Security: 0.357374445841\n",
      "Albumatic: 0.357242109442\n",
      "Location Labs: 0.356448091047\n",
      "Clustrix: 0.356183418249\n",
      "Branch: 0.35605108185\n",
      "Loyalty Lab: 0.35598491365\n",
      "SavingStar: 0.355190895256\n",
      "HomeAway: 0.355058558857\n",
      "Intacct: 0.354793886058\n",
      "VirtualLogix: 0.35459538146\n",
      "Fabric7 Systems: 0.354396876861\n",
      "Recurly: 0.354132204063\n",
      "SocialWire: 0.353536690267\n",
      "ReTel Technologies: 0.353272017468\n",
      "Piictu: 0.352610335473\n",
      "Acopia Networks: 0.352345662675\n",
      "Edition01: 0.352147158076\n",
      "Azul Systems: 0.352147158076\n",
      "LGC Wireless: 0.352014821677\n",
      "LifeSize Communications: 0.351220803282\n",
      "Enverv: 0.351022298683\n",
      "Next Big Sound: 0.350625289486\n",
      "Oscar: 0.35002977569\n",
      "GroupTalent: 0.349434261894\n",
      "Nimbula: 0.349434261894\n",
      "Now plotting centralities\n"
     ]
    },
    {
     "data": {
      "image/png": "[encoded data removed]",
      "text/plain": [
       "<matplotlib.figure.Figure at 0x15174be5d0>"
      ]
     },
     "metadata": {},
     "output_type": "display_data"
    }
   ],
   "source": [
    "sorted_centralities(degree_centrality_1, NId_to_name_companies, False, \"Degree Centrality in the Company-to-Company network\")\n",
    "sorted_centralities(degree_centrality_5, NId_to_name_companies, False, \"Degree Centrality in the Company-to-Company-Augmented network\") \n",
    "sorted_centralities(degree_centrality_6, NId_to_name_investors, False, \"Degree Centrality in the Investor-to-Investor network\")"
   ]
  },
  {
   "cell_type": "code",
   "execution_count": 102,
   "metadata": {},
   "outputs": [
    {
     "name": "stdout",
     "output_type": "stream",
     "text": [
      "Here are the top 50 most central nodes:\n",
      "Path: 0.113732607381\n",
      "Ark: 0.107164462881\n",
      "Dropbox: 0.10604096448\n",
      "Twilio: 0.10560884971\n",
      "The Climate Corporation: 0.103361852908\n",
      "YuMe: 0.102324777461\n",
      "Yammer: 0.101028433152\n",
      "Box: 0.100509895428\n",
      "Backplane: 0.0986085904416\n",
      "IFTTT: 0.0977443609023\n",
      "Twitter: 0.096707285455\n",
      "Swiftype: 0.0958430559157\n",
      "Fab.com: 0.0941145968369\n",
      "Optimizely: 0.0936824820672\n",
      "Pulse: 0.0933367902515\n",
      "CrowdMed: 0.0932503672976\n",
      "RethinkDB: 0.0918676000346\n",
      "TrialPay: 0.0914354852649\n",
      "PandoDaily: 0.0907441016334\n",
      "Kno: 0.0904848327716\n",
      "Upstart: 0.0902255639098\n",
      "Airbnb: 0.0901391409558\n",
      "42Floors: 0.0896206032322\n",
      "Romotive: 0.0895341802783\n",
      "Zynga: 0.088583527785\n",
      "Uber: 0.0880649900614\n",
      "TalentBin: 0.0875464523377\n",
      "Practice Fusion: 0.0864229539366\n",
      "Grubwithus: 0.0861636850748\n",
      "MemSQL: 0.0857315703051\n",
      "Inporia: 0.0853858784893\n",
      "Okta: 0.0852994555354\n",
      "BuzzFeed: 0.0846080719039\n",
      "Domo: 0.0840895341803\n",
      "Clipboard: 0.0838302653185\n",
      "Xobni: 0.083052458733\n",
      "Mint.com: 0.0827067669173\n",
      "Comprehend Systems: 0.0821018062397\n",
      "HotelTonight: 0.0820153832858\n",
      "RockYou: 0.0819289603319\n",
      "DailyBooth: 0.0818425373779\n",
      "Jawbone: 0.081756114424\n",
      "Gumroad: 0.0816696914701\n",
      "Clever: 0.0815832685161\n",
      "AdMob: 0.0813239996543\n",
      "GroupMe: 0.0810647307925\n",
      "Posterous: 0.0809783078386\n",
      "MessageMe: 0.0804597701149\n",
      "Game Closure: 0.0802869242071\n",
      "Chartbeat: 0.0802869242071\n",
      "\n",
      "Here are the top 50 most central nodes:\n",
      "Swiftype: 0.380136306491\n",
      "Upstart: 0.379143783498\n",
      "TrialPay: 0.378415933302\n",
      "Kno: 0.377158737511\n",
      "Zaarly: 0.372328458943\n",
      "Chartbeat: 0.372328458943\n",
      "XenSource: 0.371997617945\n",
      "Nextdoor: 0.370608085754\n",
      "Tello: 0.370211076557\n",
      "Rockmelt: 0.370211076557\n",
      "Cloudera: 0.366571825581\n",
      "Snapchat: 0.364520611394\n",
      "HubSpot: 0.363925097598\n",
      "Dispatch: 0.363528088401\n",
      "Honestly.com: 0.361079865017\n",
      "Plivo: 0.361013696817\n",
      "ag��mi Systems: 0.36061668762\n",
      "SuVolta: 0.36055051942\n",
      "Clinkle: 0.360285846622\n",
      "Thinkfuse: 0.360153510223\n",
      "Aquantia: 0.359756501026\n",
      "isocket: 0.359425660028\n",
      "Getable: 0.358962482631\n",
      "Loosecubes: 0.357903791438\n",
      "ThinkNear: 0.35750678224\n",
      "Shape Security: 0.357374445841\n",
      "Albumatic: 0.357242109442\n",
      "Location Labs: 0.356448091047\n",
      "Clustrix: 0.356183418249\n",
      "Branch: 0.35605108185\n",
      "Loyalty Lab: 0.35598491365\n",
      "SavingStar: 0.355190895256\n",
      "HomeAway: 0.355058558857\n",
      "Intacct: 0.354793886058\n",
      "VirtualLogix: 0.35459538146\n",
      "Fabric7 Systems: 0.354396876861\n",
      "Recurly: 0.354132204063\n",
      "SocialWire: 0.353536690267\n",
      "ReTel Technologies: 0.353272017468\n",
      "Piictu: 0.352610335473\n",
      "Acopia Networks: 0.352345662675\n",
      "Edition01: 0.352147158076\n",
      "Azul Systems: 0.352147158076\n",
      "LGC Wireless: 0.352014821677\n",
      "LifeSize Communications: 0.351220803282\n",
      "Enverv: 0.351022298683\n",
      "Next Big Sound: 0.350625289486\n",
      "Oscar: 0.35002977569\n",
      "GroupTalent: 0.349434261894\n",
      "Nimbula: 0.349434261894\n",
      "\n",
      "Here are the top 50 most central nodes:\n",
      "SV Angel: 0.0477828746177\n",
      "New Enterprise Associates: 0.0246559633028\n",
      "Intel Capital: 0.0221712538226\n",
      "First Round Capital: 0.0220756880734\n",
      "Kleiner Perkins Caufield & Byers: 0.0207377675841\n",
      "Draper Fisher Jurvetson (DFJ): 0.0186353211009\n",
      "Founder Collective: 0.0183486238532\n",
      "Lerer Ventures: 0.0181574923547\n",
      "Sequoia Capital: 0.0180619266055\n",
      "Greylock Partners: 0.017870795107\n",
      "Ron Conway: 0.01624617737\n",
      "Andreessen Horowitz: 0.0160550458716\n",
      "Naval Ravikant: 0.0155772171254\n",
      "CrunchFund: 0.0152905198777\n",
      "Google Ventures: 0.0152905198777\n",
      "Khosla Ventures: 0.0152905198777\n",
      "500 Startups: 0.0151949541284\n",
      "David Tisch: 0.0147171253823\n",
      "Crosslink Capital: 0.014621559633\n",
      "Menlo Ventures: 0.0136659021407\n",
      "Redpoint Ventures: 0.0132836391437\n",
      "Paul Buchheit: 0.0132836391437\n",
      "Felicis Ventures: 0.0130925076453\n",
      "David Cohen: 0.0130925076453\n",
      "SoftTech VC: 0.0123279816514\n",
      "Start Fund: 0.0121368501529\n",
      "Ashton Kutcher: 0.0120412844037\n",
      "Charles River Ventures: 0.0119457186544\n",
      "Alexis Ohanian: 0.011754587156\n",
      "Keith Rabois: 0.011754587156\n",
      "General Catalyst Partners: 0.0114678899083\n",
      "Mayfield Fund: 0.0112767584098\n",
      "FLOODGATE: 0.0110856269113\n",
      "Founders Fund: 0.0110856269113\n",
      "Joshua Schachter: 0.0110856269113\n",
      "Silicon Valley Bank: 0.0109900611621\n",
      "RRE Ventures: 0.0108944954128\n",
      "Ben Ling: 0.0108944954128\n",
      "Index Ventures: 0.0105122324159\n",
      "Scott Banister: 0.0104166666667\n",
      "True Ventures: 0.0103211009174\n",
      "Polaris Venture Partners: 0.0102255351682\n",
      "US Venture Partners: 0.0100344036697\n",
      "Spark Capital: 0.00974770642202\n",
      "Goldman Sachs: 0.00946100917431\n",
      "Mohr Davidow Ventures: 0.00946100917431\n",
      "DAG Ventures: 0.00936544342508\n",
      "Greycroft Partners: 0.00926987767584\n",
      "Venrock: 0.00926987767584\n",
      "Bessemer Venture Partners: 0.00917431192661\n"
     ]
    },
    {
     "data": {
      "text/plain": [
       "<matplotlib.figure.Figure at 0x1516dc8790>"
      ]
     },
     "metadata": {},
     "output_type": "display_data"
    },
    {
     "data": {
      "text/plain": [
       "<matplotlib.figure.Figure at 0x151689bcd0>"
      ]
     },
     "metadata": {},
     "output_type": "display_data"
    },
    {
     "data": {
      "text/plain": [
       "<matplotlib.figure.Figure at 0x1516579410>"
      ]
     },
     "metadata": {},
     "output_type": "display_data"
    }
   ],
   "source": [
    "# without plotting\n",
    "sorted_centralities(degree_centrality_1, NId_to_name_companies, False, None)\n",
    "print \"\"\n",
    "sorted_centralities(degree_centrality_5, NId_to_name_companies, False, None) \n",
    "print \"\"\n",
    "sorted_centralities(degree_centrality_6, NId_to_name_investors, False, None)"
   ]
  },
  {
   "cell_type": "code",
   "execution_count": 83,
   "metadata": {},
   "outputs": [],
   "source": [
    "# Get eigenvector centrality measures\n",
    "\n",
    "NIdEigenH_1 = snap.TIntFltH()\n",
    "snap.GetEigenVectorCentr(companies_folded_by_investor, NIdEigenH_1)\n",
    "\n",
    "NIdEigenH_2 = snap.TIntFltH()\n",
    "snap.GetEigenVectorCentr(common_region_or_industry, NIdEigenH_2)\n",
    "\n",
    "NIdEigenH_3 = snap.TIntFltH()\n",
    "snap.GetEigenVectorCentr(common_region_or_investor, NIdEigenH_3)\n",
    "\n",
    "NIdEigenH_4 = snap.TIntFltH()\n",
    "snap.GetEigenVectorCentr(common_industry_or_investor, NIdEigenH_4)\n",
    "\n",
    "NIdEigenH_5 = snap.TIntFltH()\n",
    "snap.GetEigenVectorCentr(common_region_or_industry_or_investor, NIdEigenH_5)\n",
    "\n",
    "# This is the only graph we are considering where\n",
    "# the nodes correspond to investors\n",
    "NIdEigenH_6 = snap.TIntFltH()\n",
    "snap.GetEigenVectorCentr(investors_folded_by_companies, NIdEigenH_6)"
   ]
  },
  {
   "cell_type": "code",
   "execution_count": 99,
   "metadata": {},
   "outputs": [
    {
     "name": "stdout",
     "output_type": "stream",
     "text": [
      "Here are the top 50 most central nodes:\n",
      "TrialPay: 0.0170583544962\n",
      "Swiftype: 0.0170570978451\n",
      "Kno: 0.0170431220526\n",
      "Upstart: 0.0170357066575\n",
      "Chartbeat: 0.0170207910854\n",
      "Nextdoor: 0.017013972505\n",
      "Rockmelt: 0.0170089460665\n",
      "Tello: 0.0170087974827\n",
      "Zaarly: 0.0170063818253\n",
      "Cloudera: 0.0169877502302\n",
      "XenSource: 0.0169836088705\n",
      "Snapchat: 0.0169741020483\n",
      "Dispatch: 0.0169730644678\n",
      "Honestly.com: 0.0169652702629\n",
      "Plivo: 0.0169585068809\n",
      "Thinkfuse: 0.0169561230666\n",
      "Getable: 0.016952060537\n",
      "HubSpot: 0.0169420270746\n",
      "Clinkle: 0.0169369474224\n",
      "Albumatic: 0.0169323575709\n",
      "Branch: 0.0169289651936\n",
      "ag��mi Systems: 0.0169283452475\n",
      "SuVolta: 0.0169262163556\n",
      "Loyalty Lab: 0.0169246636248\n",
      "SavingStar: 0.0169220241473\n",
      "isocket: 0.0169216582763\n",
      "Aquantia: 0.0169202429971\n",
      "Loosecubes: 0.0169180896579\n",
      "ThinkNear: 0.0169179770652\n",
      "SocialWire: 0.0169125032148\n",
      "Edition01: 0.0169066571276\n",
      "Location Labs: 0.016905645542\n",
      "Shape Security: 0.0169023313677\n",
      "Recurly: 0.0169013097829\n",
      "ReTel Technologies: 0.0169012621261\n",
      "HomeAway: 0.0169002173416\n",
      "VirtualLogix: 0.0168953958298\n",
      "Acopia Networks: 0.0168949986555\n",
      "Clustrix: 0.0168948698162\n",
      "Fabric7 Systems: 0.0168901085002\n",
      "Azul Systems: 0.0168878979481\n",
      "Piictu: 0.0168858731934\n",
      "Next Big Sound: 0.0168827312403\n",
      "Intacct: 0.0168821036416\n",
      "Plated: 0.0168792836314\n",
      "Oscar: 0.01687745041\n",
      "Yesware: 0.0168761409257\n",
      "OtherInbox: 0.0168752560981\n",
      "LGC Wireless: 0.0168749159272\n",
      "Enverv: 0.0168741326598\n",
      "Now plotting centralities\n"
     ]
    },
    {
     "data": {
      "image/png": "[encoded data removed]",
      "text/plain": [
       "<matplotlib.figure.Figure at 0x15168a5fd0>"
      ]
     },
     "metadata": {},
     "output_type": "display_data"
    }
   ],
   "source": [
    "sorted_centralities(NIdEigenH_1, NId_to_name_companies, True, \"Eigenvector Centrality in the Company-to-Company network\")\n",
    "sorted_centralities(NIdEigenH_5, NId_to_name_companies, True, \"Eigenvector Centrality in the Company-to-Company-Augmented network\")\n",
    "sorted_centralities(NIdEigenH_6, NId_to_name_investors, True, \"Eigenvector Centrality in the Investor-to-Investor network\")"
   ]
  },
  {
   "cell_type": "code",
   "execution_count": 104,
   "metadata": {},
   "outputs": [
    {
     "name": "stdout",
     "output_type": "stream",
     "text": [
      "Here are the top 50 most central nodes:\n",
      "Path: 0.0574985068175\n",
      "IFTTT: 0.0562259303456\n",
      "The Climate Corporation: 0.0562139378914\n",
      "Swiftype: 0.0555236164455\n",
      "CrowdMed: 0.054117736081\n",
      "Dropbox: 0.0540242320062\n",
      "MemSQL: 0.0534127278616\n",
      "Grubwithus: 0.0533687443836\n",
      "Ark: 0.0532566765112\n",
      "42Floors: 0.0523759661767\n",
      "Airbnb: 0.0522803944797\n",
      "Twilio: 0.0520382467522\n",
      "TalentBin: 0.0518040802033\n",
      "Twitter: 0.0514491726963\n",
      "Backplane: 0.0513902351454\n",
      "Fab.com: 0.0511413637039\n",
      "YuMe: 0.0510681185728\n",
      "Kno: 0.0507397594611\n",
      "Gumroad: 0.0507126439233\n",
      "Pulse: 0.0505315047952\n",
      "MessageMe: 0.0504636954505\n",
      "BuzzFeed: 0.0504355755408\n",
      "Okta: 0.0503193767495\n",
      "Hearsay Social: 0.0500661003123\n",
      "Inporia: 0.0500577258267\n",
      "Yammer: 0.0500350768506\n",
      "Rockmelt: 0.0500312341349\n",
      "PandoDaily: 0.0498349993999\n",
      "Mint.com: 0.0497727431629\n",
      "DailyBooth: 0.0497497288198\n",
      "Clipboard: 0.0496838449632\n",
      "Jawbone: 0.0495815232598\n",
      "Bump Technologies: 0.0494731908252\n",
      "RethinkDB: 0.0493073140096\n",
      "GroupMe: 0.0492644081323\n",
      "Zynga: 0.0492288047064\n",
      "Xobni: 0.0491441939\n",
      "Romotive: 0.049143845116\n",
      "Clever: 0.0488199288629\n",
      "Milk: 0.0487929828288\n",
      "Zencoder: 0.0487300429033\n",
      "Weebly: 0.0486683057348\n",
      "Domo: 0.0485038458301\n",
      "TrialPay: 0.0484767703875\n",
      "StumbleUpon: 0.048231933811\n",
      "Simple Finance Technology Corp: 0.0481280639803\n",
      "UberMedia: 0.0480662931059\n",
      "Stripe: 0.047964125221\n",
      "Nicira Networks: 0.047889286372\n",
      "Ze Frank Games: 0.0478356275163\n",
      "\n",
      "Here are the top 50 most central nodes:\n",
      "TrialPay: 0.0170583544962\n",
      "Swiftype: 0.0170570978451\n",
      "Kno: 0.0170431220526\n",
      "Upstart: 0.0170357066575\n",
      "Chartbeat: 0.0170207910854\n",
      "Nextdoor: 0.017013972505\n",
      "Rockmelt: 0.0170089460665\n",
      "Tello: 0.0170087974827\n",
      "Zaarly: 0.0170063818253\n",
      "Cloudera: 0.0169877502302\n",
      "XenSource: 0.0169836088705\n",
      "Snapchat: 0.0169741020483\n",
      "Dispatch: 0.0169730644678\n",
      "Honestly.com: 0.0169652702629\n",
      "Plivo: 0.0169585068809\n",
      "Thinkfuse: 0.0169561230666\n",
      "Getable: 0.016952060537\n",
      "HubSpot: 0.0169420270746\n",
      "Clinkle: 0.0169369474224\n",
      "Albumatic: 0.0169323575709\n",
      "Branch: 0.0169289651936\n",
      "ag��mi Systems: 0.0169283452475\n",
      "SuVolta: 0.0169262163556\n",
      "Loyalty Lab: 0.0169246636248\n",
      "SavingStar: 0.0169220241473\n",
      "isocket: 0.0169216582763\n",
      "Aquantia: 0.0169202429971\n",
      "Loosecubes: 0.0169180896579\n",
      "ThinkNear: 0.0169179770652\n",
      "SocialWire: 0.0169125032148\n",
      "Edition01: 0.0169066571276\n",
      "Location Labs: 0.016905645542\n",
      "Shape Security: 0.0169023313677\n",
      "Recurly: 0.0169013097829\n",
      "ReTel Technologies: 0.0169012621261\n",
      "HomeAway: 0.0169002173416\n",
      "VirtualLogix: 0.0168953958298\n",
      "Acopia Networks: 0.0168949986555\n",
      "Clustrix: 0.0168948698162\n",
      "Fabric7 Systems: 0.0168901085002\n",
      "Azul Systems: 0.0168878979481\n",
      "Piictu: 0.0168858731934\n",
      "Next Big Sound: 0.0168827312403\n",
      "Intacct: 0.0168821036416\n",
      "Plated: 0.0168792836314\n",
      "Oscar: 0.01687745041\n",
      "Yesware: 0.0168761409257\n",
      "OtherInbox: 0.0168752560981\n",
      "LGC Wireless: 0.0168749159272\n",
      "Enverv: 0.0168741326598\n",
      "\n",
      "Here are the top 50 most central nodes:\n",
      "SV Angel: 0.282454590574\n",
      "First Round Capital: 0.148550612952\n",
      "Andreessen Horowitz: 0.143688834128\n",
      "New Enterprise Associates: 0.138102827329\n",
      "Ron Conway: 0.126040886248\n",
      "Founder Collective: 0.125381181576\n",
      "Lerer Ventures: 0.125248620492\n",
      "CrunchFund: 0.119255797788\n",
      "Kleiner Perkins Caufield & Byers: 0.118670952293\n",
      "Paul Buchheit: 0.118577970571\n",
      "Naval Ravikant: 0.117499462757\n",
      "Greylock Partners: 0.11619848393\n",
      "Google Ventures: 0.110646898151\n",
      "Sequoia Capital: 0.109411452066\n",
      "Ashton Kutcher: 0.10661508559\n",
      "Felicis Ventures: 0.105059222737\n",
      "Redpoint Ventures: 0.104692317388\n",
      "Start Fund: 0.103992631602\n",
      "Keith Rabois: 0.103943482969\n",
      "Khosla Ventures: 0.103925418562\n",
      "Founders Fund: 0.101132746291\n",
      "Menlo Ventures: 0.0997305077603\n",
      "Joshua Schachter: 0.0976521790354\n",
      "Intel Capital: 0.0967632270757\n",
      "FLOODGATE: 0.0943901000804\n",
      "Index Ventures: 0.0915431017734\n",
      "Alexis Ohanian: 0.0908265811624\n",
      "Kevin Rose: 0.0857314320501\n",
      "SoftTech VC: 0.0853315280506\n",
      "General Catalyst Partners: 0.0835179370911\n",
      "Chris Sacca: 0.0818937367975\n",
      "Ben Ling: 0.081681927549\n",
      "Mayfield Fund: 0.0810512143575\n",
      "Crosslink Capital: 0.0790951318256\n",
      "RRE Ventures: 0.0766573627966\n",
      "Draper Fisher Jurvetson (DFJ): 0.0765304792752\n",
      "Scott Banister: 0.0760036279347\n",
      "David Tisch: 0.0759816295933\n",
      "Charles River Ventures: 0.0750281815746\n",
      "Institutional Venture Partners: 0.074629051228\n",
      "Shervin Pishevar: 0.0744943520427\n",
      "500 Startups: 0.0730110076028\n",
      "Thrive Capital: 0.0729974066265\n",
      "Garry Tan: 0.072987698892\n",
      "True Ventures: 0.0697682023446\n",
      "Spark Capital: 0.0694172279748\n",
      "Karl Jacob: 0.068377905004\n",
      "Matt Mullenweg: 0.0676427235243\n",
      "Lowercase Capital: 0.0675486054299\n",
      "Bessemer Venture Partners: 0.0673670336703\n"
     ]
    },
    {
     "data": {
      "text/plain": [
       "<matplotlib.figure.Figure at 0x15167bccd0>"
      ]
     },
     "metadata": {},
     "output_type": "display_data"
    },
    {
     "data": {
      "text/plain": [
       "<matplotlib.figure.Figure at 0x15167bc1d0>"
      ]
     },
     "metadata": {},
     "output_type": "display_data"
    },
    {
     "data": {
      "text/plain": [
       "<matplotlib.figure.Figure at 0x15174f2a50>"
      ]
     },
     "metadata": {},
     "output_type": "display_data"
    }
   ],
   "source": [
    "# Without plotting\n",
    "sorted_centralities(NIdEigenH_1, NId_to_name_companies, True, None)\n",
    "print \"\"\n",
    "sorted_centralities(NIdEigenH_5, NId_to_name_companies, True, None)\n",
    "print \"\"\n",
    "sorted_centralities(NIdEigenH_6, NId_to_name_investors, True, None)"
   ]
  },
  {
   "cell_type": "markdown",
   "metadata": {},
   "source": [
    "Next, we recognize that our graphs contain highly correlated information, especially the ones that we created by taking the union of egdge sets across graphs. In order to address thiss issue, we will perorm a graph deconvolution on all of our graphs"
   ]
  },
  {
   "cell_type": "code",
   "execution_count": 71,
   "metadata": {},
   "outputs": [],
   "source": [
    "def deconvolution(A_obs):\n",
    "    # We know A_obs is symmetric so we use the\n",
    "    # numpy eigh function\n",
    "    evals_obs, V = np.linalg.eigh(A_obs)\n",
    "    \n",
    "    # Display eigenvalues and eigenvectors\n",
    "    print \"Array of observed eigenvalues\"\n",
    "    print evals_obs\n",
    "    print\"\"\n",
    "    print \"Matrix with observed evecs as cols\"\n",
    "    print V\n",
    "    print \"\"\n",
    "    \n",
    "    # Use the observed evals to get the direct evals\n",
    "    evals_dir = np.zeros(evals_obs.shape)\n",
    "    for idx in range(evals_dir.shape[0]):\n",
    "        evals_dir[idx] = evals_obs[idx] / (1.0 + evals_obs[idx])\n",
    "    \n",
    "    print \"shape of evals:\"\n",
    "    print evals_dir.shape\n",
    "    print \"Diagonal matrix of direct eigenvalues:\"\n",
    "    print np.diag(evals_dir)\n",
    "    \n",
    "    #print the three matrices we multiply from L to R\n",
    "    print V\n",
    "    print np.diag(evals_dir)\n",
    "    print np.transpose(V)\n",
    "        \n",
    "    return np.matmul(V, np.matmul(np.diag(evals_dir), np.transpose(V)))"
   ]
  },
  {
   "cell_type": "code",
   "execution_count": 81,
   "metadata": {},
   "outputs": [],
   "source": [
    "# Using this implementation of network deconvolution rather than the one above\n",
    "\n",
    "def ND(mat,beta=0.99,alpha=1,control=0):\n",
    "    '''\n",
    "    This is a python implementation/translation of network deconvolution by MIT-KELLIS LAB\n",
    "    \n",
    "    \n",
    "     LICENSE: MIT-KELLIS LAB\n",
    "    \n",
    "    \n",
    "     AUTHORS:\n",
    "        Algorithm was programmed by Soheil Feizi.\n",
    "        Paper authors are S. Feizi, D. Marbach,  M. M?©dard and M. Kellis\n",
    "    Python implementation: Gideon Rosenthal\n",
    "    \n",
    "    REFERENCES:\n",
    "       For more details, see the following paper:\n",
    "        Network Deconvolution as a General Method to Distinguish\n",
    "        Direct Dependencies over Networks\n",
    "        By: Soheil Feizi, Daniel Marbach,  Muriel Médard and Manolis Kellis\n",
    "        Nature Biotechnology\n",
    "    \n",
    "    --------------------------------------------------------------------------\n",
    "     ND.m: network deconvolution\n",
    "    --------------------------------------------------------------------------\n",
    "    \n",
    "    DESCRIPTION:\n",
    "    \n",
    "     USAGE:\n",
    "        mat_nd = ND(mat)\n",
    "        mat_nd = ND(mat,beta)\n",
    "        mat_nd = ND(mat,beta,alpha,control)\n",
    "    \n",
    "    \n",
    "     INPUT ARGUMENTS:\n",
    "     mat           Input matrix, if it is a square matrix, the program assumes\n",
    "                   it is a relevance matrix where mat(i,j) represents the similarity content\n",
    "                   between nodes i and j. Elements of matrix should be\n",
    "                   non-negative.\n",
    "     optional parameters:\n",
    "     beta          Scaling parameter, the program maps the largest absolute eigenvalue\n",
    "                   of the direct dependency matrix to beta. It should be\n",
    "                   between 0 and 1.\n",
    "     alpha         fraction of edges of the observed dependency matrix to be kept in\n",
    "                   deconvolution process.\n",
    "     control       if 0, displaying direct weights for observed\n",
    "                   interactions, if 1, displaying direct weights for both observed and\n",
    "                   non-observed interactions.\n",
    "    \n",
    "     OUTPUT ARGUMENTS:\n",
    "    \n",
    "     mat_nd        Output deconvolved matrix (direct dependency matrix). Its components\n",
    "                   represent direct edge weights of observed interactions.\n",
    "                   Choosing top direct interactions (a cut-off) depends on the application and\n",
    "                   is not implemented in this code.\n",
    "    \n",
    "     To apply ND on regulatory networks, follow steps explained in Supplementary notes\n",
    "     1.4.1 and 2.1 and 2.3 of the paper.\n",
    "     In this implementation, input matrices are made symmetric.\n",
    "    \n",
    "    **************************************************************************\n",
    "     loading scaling and thresholding parameters\n",
    "    '''\n",
    "    import scipy.stats.mstats as stat\n",
    "    from numpy import linalg as LA\n",
    "\n",
    "\n",
    "    if beta>=1 or beta<=0:\n",
    "        print 'error: beta should be in (0,1)'\n",
    "      \n",
    "    if alpha>1 or alpha<=0:\n",
    "            print 'error: alpha should be in (0,1)';\n",
    "     \n",
    "    \n",
    "    '''\n",
    "    ***********************************\n",
    "     Processing the inut matrix\n",
    "     diagonal values are filtered\n",
    "    '''\n",
    "    \n",
    "    n = mat.shape[0]\n",
    "    np.fill_diagonal(mat, 0)\n",
    "    \n",
    "    '''\n",
    "    Thresholding the input matrix\n",
    "    '''\n",
    "    y =stat.mquantiles(mat[:],prob=[1-alpha])\n",
    "    th = mat>=y\n",
    "    mat_th=mat*th;\n",
    "\n",
    "    '''\n",
    "    making the matrix symetric if already not\n",
    "    '''\n",
    "    mat_th = (mat_th+mat_th.T)/2\n",
    "\n",
    "    \n",
    "    '''\n",
    "    ***********************************\n",
    "    eigen decomposition\n",
    "    '''\n",
    "    print 'Decomposition and deconvolution...'\n",
    "\n",
    "    Dv,U = LA.eigh(mat_th) \n",
    "    D = np.diag((Dv))\n",
    "    lam_n=np.abs(np.min(np.min(np.diag(D)),0))\n",
    "    lam_p=np.abs(np.max(np.max(np.diag(D)),0))\n",
    "\n",
    "    \n",
    "    m1=lam_p*(1-beta)/beta\n",
    "    m2=lam_n*(1+beta)/beta\n",
    "    m=max(m1,m2)\n",
    "    \n",
    "    #network deconvolution\n",
    "    for i in range(D.shape[0]):\n",
    "        D[i,i] = (D[i,i])/(m+D[i,i])\n",
    "    \n",
    "    mat_new1 = np.dot(U,np.dot(D,LA.inv(U)))\n",
    "    \n",
    "                    \n",
    "    '''\n",
    "    \n",
    "    ***********************************\n",
    "     displying direct weights\n",
    "    '''\n",
    "    if control==0:\n",
    "        ind_edges = (mat_th>0)*1.0;\n",
    "        ind_nonedges = (mat_th==0)*1.0;\n",
    "        m1 = np.max(np.max(mat*ind_nonedges));\n",
    "        m2 = np.min(np.min(mat_new1));\n",
    "        mat_new2 = (mat_new1+np.max(m1-m2,0))*ind_edges+(mat*ind_nonedges);\n",
    "    else:\n",
    "        m2 = np.min(np.min(mat_new1));\n",
    "        mat_new2 = (mat_new1+np.max(-m2,0));\n",
    "    \n",
    "    \n",
    "    '''\n",
    "    ***********************************\n",
    "     linearly mapping the deconvolved matrix to be between 0 and 1\n",
    "    '''\n",
    "    m1 = np.min(np.min(mat_new2));\n",
    "    m2 = np.max(np.max(mat_new2));\n",
    "    mat_nd = (mat_new2-m1)/(m2-m1);\n",
    "\n",
    "\n",
    "    return mat_nd\n"
   ]
  },
  {
   "cell_type": "code",
   "execution_count": 11,
   "metadata": {},
   "outputs": [],
   "source": [
    "def form_adj_matrix(G):\n",
    "    num_nodes = G.GetNodes()\n",
    "    A = np.zeros((num_nodes, num_nodes))\n",
    "    \n",
    "    # snap gives the node IDs in ascending order\n",
    "    sorted_NIds = []\n",
    "    for NI in G.Nodes(): sorted_NIds.append(NI.GetId())\n",
    "\n",
    "    # Mapping from node ID to row index in matrix\n",
    "    matrix_idx_to_NId = {}\n",
    "    for idx in range(num_nodes): \n",
    "        matrix_idx_to_NId[sorted_NIds[idx]] = idx\n",
    "    \n",
    "    for EI in G.Edges():\n",
    "        src, dest = EI.GetSrcNId(), EI.GetDstNId()\n",
    "        A[matrix_idx_to_NId[src], matrix_idx_to_NId[dest]] = 1.0\n",
    "        A[matrix_idx_to_NId[dest], matrix_idx_to_NId[src]] = 1.0\n",
    "\n",
    "    assert(np.sum(A) == 2 * G.GetEdges())\n",
    "    return A"
   ]
  },
  {
   "cell_type": "code",
   "execution_count": 90,
   "metadata": {},
   "outputs": [
    {
     "name": "stdout",
     "output_type": "stream",
     "text": [
      "\n"
     ]
    }
   ],
   "source": [
    "def adj_matrix_to_graph(A, G):\n",
    "    # snap gives the node IDs in ascending order\n",
    "    sorted_NIds = []\n",
    "    for NI in G.Nodes(): sorted_NIds.append(NI.GetId())\n",
    "        \n",
    "    # Mapping from row index to node ID\n",
    "    matrix_idx_to_NId = {}\n",
    "    for idx in range(G.GetNodes()): \n",
    "        matrix_idx_to_NId[idx] = sorted_NIds[idx]\n",
    "    \n",
    "    # Create graph to return\n",
    "    G_result = snap.TUNGraph.New()\n",
    "    for idx in range(G.GetNodes()): G_result.AddNode(matrix_idx_to_NId[idx])\n",
    "    \n",
    "    for row in range(A.shape[0]):\n",
    "        for col in range(row, A.shape[1]):\n",
    "            if A[row, col] > 0.:\n",
    "                G_result.AddEdge(matrix_idx_to_NId[row], matrix_idx_to_NId[col])\n",
    "            \n",
    "    return G_result"
   ]
  },
  {
   "cell_type": "code",
   "execution_count": 22,
   "metadata": {},
   "outputs": [
    {
     "name": "stdout",
     "output_type": "stream",
     "text": [
      "[[ 0.  1.  0. ...,  0.  0.  0.]\n",
      " [ 1.  0.  0. ...,  0.  0.  0.]\n",
      " [ 0.  0.  0. ...,  0.  0.  0.]\n",
      " ..., \n",
      " [ 0.  0.  0. ...,  0.  0.  0.]\n",
      " [ 0.  0.  0. ...,  0.  0.  0.]\n",
      " [ 0.  0.  0. ...,  0.  0.  0.]]\n"
     ]
    }
   ],
   "source": [
    "# Form the adjacency matrix for the megagraph we created\n",
    "common_region_or_industry_or_investor_adj_matrix = form_adj_matrix(common_region_or_industry_or_investor)\n",
    "print common_region_or_industry_or_investor_adj_matrix"
   ]
  },
  {
   "cell_type": "code",
   "execution_count": 67,
   "metadata": {},
   "outputs": [
    {
     "name": "stdout",
     "output_type": "stream",
     "text": [
      "15114\n",
      "13504003\n"
     ]
    }
   ],
   "source": [
    "# Want to be sure this function actually recovers the graph from the adj matrix\n",
    "test = adj_matrix_to_graph(common_region_or_industry_or_investor_adj_matrix, common_region_or_industry_or_investor)\n",
    "print test.GetNodes()\n",
    "print test.GetEdges()"
   ]
  },
  {
   "cell_type": "code",
   "execution_count": 80,
   "metadata": {},
   "outputs": [
    {
     "name": "stdout",
     "output_type": "stream",
     "text": [
      "Decomposition and deconvolution...\n"
     ]
    }
   ],
   "source": [
    "# Run deconvolution using the adjacency matrix\n",
    "common_region_or_industry_or_investor_deconv = ND(common_region_or_industry_or_investor_adj_matrix)"
   ]
  },
  {
   "cell_type": "code",
   "execution_count": 87,
   "metadata": {},
   "outputs": [
    {
     "name": "stdout",
     "output_type": "stream",
     "text": [
      "(15114, 15114)\n",
      "[[ 0.          0.73733184  0.         ...,  0.          0.          0.        ]\n",
      " [ 0.73733184  0.          0.         ...,  0.          0.          0.        ]\n",
      " [ 0.          0.          0.         ...,  0.          0.          0.        ]\n",
      " ..., \n",
      " [ 0.          0.          0.         ...,  0.          0.          0.        ]\n",
      " [ 0.          0.          0.         ...,  0.          0.          0.        ]\n",
      " [ 0.          0.          0.         ...,  0.          0.          0.        ]]\n"
     ]
    }
   ],
   "source": [
    "print common_region_or_industry_or_investor_deconv.shape\n",
    "print common_region_or_industry_or_investor_deconv"
   ]
  },
  {
   "cell_type": "code",
   "execution_count": 91,
   "metadata": {},
   "outputs": [],
   "source": [
    "deconvolved_graph = adj_matrix_to_graph(common_region_or_industry_or_investor_deconv, common_region_or_industry_or_investor)"
   ]
  },
  {
   "cell_type": "code",
   "execution_count": 92,
   "metadata": {},
   "outputs": [
    {
     "name": "stdout",
     "output_type": "stream",
     "text": [
      "Number of nodes after deconvolving (should be the same): 15114\n",
      "Number of edges after deconvolving (should be the same): 13504003\n"
     ]
    }
   ],
   "source": [
    "# Number of nodes before convolution: 15,114\n",
    "print \"Number of nodes after deconvolving (should be the same): \" + str(deconvolved_graph.GetNodes())\n",
    "\n",
    "# Number of edges before deconvolution: 13,504,003\n",
    "print \"Number of edges after deconvolving (should be the same): \" + str(deconvolved_graph.GetEdges())"
   ]
  },
  {
   "cell_type": "code",
   "execution_count": null,
   "metadata": {},
   "outputs": [],
   "source": [
    "def save_graph(G, graph_name):\n",
    "    FOut = snap.TFOut(\"../../graphs/deconv_notebook_graphs/\" + graph_name + \".graph\")\n",
    "    G.Save(FOut)\n",
    "    FOut.Flush()"
   ]
  },
  {
   "cell_type": "code",
   "execution_count": 94,
   "metadata": {},
   "outputs": [],
   "source": [
    "save_graph(deconvolved_graph, \"common_region_or_industry_or_investor_deconvolved\")"
   ]
  },
  {
   "cell_type": "code",
   "execution_count": 60,
   "metadata": {},
   "outputs": [],
   "source": [
    "save_graph(common_region_or_industry_or_investor, \"common_region_or_industry_or_investor\")\n",
    "save_graph(common_region_or_industry, \"common_region_or_industry\")\n",
    "save_graph(common_region_or_investor, \"common_region_or_investor\")\n",
    "save_graph(common_industry_or_investor, \"common_industry_or_investor\")"
   ]
  },
  {
   "cell_type": "code",
   "execution_count": 95,
   "metadata": {},
   "outputs": [],
   "source": [
    "def createAndSaveEdgeList(G, output_name):\n",
    "    # There will be one edge per row\n",
    "    result = np.zeros((G.GetEdges(), 2), dtype=int)\n",
    "    \n",
    "    index = 0\n",
    "    for EI in G.Edges():\n",
    "        result[index, 0] = EI.GetSrcNId()\n",
    "        result[index, 1] = EI.GetDstNId()\n",
    "        index += 1\n",
    "    \n",
    "    # Match node2vec edgelist format\n",
    "    np.savetxt(output_name, result, fmt='%i', delimiter=\"\\t\")"
   ]
  },
  {
   "cell_type": "code",
   "execution_count": 101,
   "metadata": {},
   "outputs": [
    {
     "name": "stdout",
     "output_type": "stream",
     "text": [
      "Number of nodes in deconvolved networkx graph: 14511\n",
      "Number of edges in deconvolved networkx graph: 13504003\n"
     ]
    }
   ],
   "source": [
    "# Need to do this for node2vec\n",
    "\n",
    "# Need a way to go from node ID to matrix index\n",
    "sorted_NIds = []\n",
    "for NI in deconvolved_graph.Nodes(): sorted_NIds.append(NI.GetId())\n",
    "\n",
    "# Mapping from row index to node ID\n",
    "NId_to_matrix_idx = {}\n",
    "for idx in range(deconvolved_graph.GetNodes()): \n",
    "    NId_to_matrix_idx[sorted_NIds[idx]] = idx\n",
    "\n",
    "# Create networkx graph\n",
    "deconvolved_graph_nx = nx.Graph()\n",
    "\n",
    "for EI in deconvolved_graph.Edges():\n",
    "    src = EI.GetSrcNId()\n",
    "    dst = EI.GetDstNId()\n",
    "    \n",
    "    if not deconvolved_graph_nx.has_node(src):\n",
    "        deconvolved_graph_nx.add_node(src)\n",
    "        \n",
    "    if not deconvolved_graph_nx.has_node(dst):\n",
    "        deconvolved_graph_nx.add_node(dst)\n",
    "     \n",
    "    # Look up the weight in the adjacency matrix\n",
    "    src_matrix_idx = NId_to_matrix_idx[src]\n",
    "    dst_matrix_idx = NId_to_matrix_idx[dst]\n",
    "    wt = common_region_or_industry_or_investor_deconv[src_matrix_idx, dst_matrix_idx]\n",
    "    \n",
    "    deconvolved_graph_nx.add_edge(src, dst, weight=wt)\n",
    "    \n",
    "print \"Number of nodes in deconvolved networkx graph: \" + str(deconvolved_graph_nx.number_of_nodes())\n",
    "print \"Number of edges in deconvolved networkx graph: \" + str(deconvolved_graph_nx.number_of_edges())\n",
    "    \n",
    "nx.write_weighted_edgelist(deconvolved_graph_nx, \"../../graphs/deconv_notebook_graphs/deconvolved_graph_nx.edgelist\")"
   ]
  },
  {
   "cell_type": "markdown",
   "metadata": {},
   "source": [
    "Now we further analyze the deconvoloved network:"
   ]
  },
  {
   "cell_type": "code",
   "execution_count": null,
   "metadata": {},
   "outputs": [],
   "source": [
    "# Load weighted networkx graph\n",
    "deconv_nx = nx.read_edgelist( \"../../graphs/deconv_notebook_graphs/deconvolved_graph_nx.edgelist\", nodetype=int, data=(('weight',float),))\n",
    "\n",
    "\n"
   ]
  },
  {
   "cell_type": "code",
   "execution_count": null,
   "metadata": {},
   "outputs": [],
   "source": [
    "# Plot edge weights\n",
    "deconv_weights = []\n",
    "edges_with_weights = list(deconv_nx.edges_iter(data='weight'))\n",
    "for edge in edges_with_weights:\n",
    "    deconv_weights.append(edge[2])"
   ]
  },
  {
   "cell_type": "code",
   "execution_count": null,
   "metadata": {},
   "outputs": [],
   "source": [
    "deconv_weights_sorted = sorted(deconv_weights, reverse=True)"
   ]
  },
  {
   "cell_type": "code",
   "execution_count": null,
   "metadata": {},
   "outputs": [],
   "source": [
    "fig = plt.figure(figsize=(12.5, 7.5))\n",
    "X = np.arange(len(deconv_weights_sorted))\n",
    "plt.scatter(X, deconv_weights_sorted, s=1)\n",
    "plt.xlabel('Edges sorted from highest to lowest weight')\n",
    "plt.ylabel('Edge weight')\n",
    "plt.title('Edge weights after deconvolution')\n",
    "plt.show()\n",
    "fig.savefig(\"/Users/samschwager 1/Desktop/weights_after_deconv.png\", dpi=fig.dpi)"
   ]
  },
  {
   "cell_type": "code",
   "execution_count": 43,
   "metadata": {},
   "outputs": [],
   "source": [
    "def snap_to_networkx(G):\n",
    "    G_nx = nx.Graph()\n",
    "    \n",
    "    for NI in G.Nodes(): \n",
    "        G_nx.add_node(NI.GetId())\n",
    "        \n",
    "    for EI in G.Edges(): \n",
    "        G_nx.add_edge((EI.GetSrcNId()), EI.GetDstNId())\n",
    "    \n",
    "    return G_nx"
   ]
  },
  {
   "cell_type": "code",
   "execution_count": null,
   "metadata": {},
   "outputs": [],
   "source": [
    "# Let's run Louvain on the unweighted graph before convolution\n",
    "common_region_or_industry_or_investor_nx = snap_to_networkx(common_region_or_industry_or_investor)\n",
    "partition_original = best_partition(common_region_or_industry_or_investor_nx)\n",
    "print \"The modularity is: \" + str(modularity(partition_original, common_region_or_industry_or_investor_nx))"
   ]
  },
  {
   "cell_type": "code",
   "execution_count": null,
   "metadata": {},
   "outputs": [],
   "source": [
    "# Let's run Louvain on the deconvolved graph\n",
    "partition_deconv = best_partition(deconv_nx)\n",
    "print \"The modularity is: \" + str(modularity(partition_deconv, deconv_nx))"
   ]
  },
  {
   "cell_type": "code",
   "execution_count": null,
   "metadata": {},
   "outputs": [],
   "source": [
    "# Finally, let's run Louvain on the deconvolved graph after dropping edges\n",
    "\n",
    "# This is the threshold below which we remove edges\n",
    "# We determined this from the plot above\n",
    "weight_threshold = 0.7\n",
    "\n",
    "deconv_reduced_nx = nx.Graph()\n",
    "\n",
    "for node in deconv_nx.nodes()\n",
    "    deconv_reduced_nx.add_node(node)\n",
    "\n",
    "for edge in edges_with_weights:\n",
    "    wt = edge[2]\n",
    "    if wt > weight_threshold:\n",
    "        deconv_reduced_nx.add_edge(edge[0], edge[1], weight=wt)\n",
    "\n",
    "print \"Number of nodes in reduced graph: \" + str(deconv_reduced_nx.number_of_nodes)\n",
    "print \"Number of edges in reduced graph: \" + str(deconv_reduced_nx.number_of_edges)"
   ]
  },
  {
   "cell_type": "code",
   "execution_count": null,
   "metadata": {},
   "outputs": [],
   "source": [
    "partition_deconv_reduced = best_partition(deconv_reduced_nx)\n",
    "print \"The modularity is: \" + str(modularity(partition_deconv_reduced, deconv_reduced_nx))"
   ]
  },
  {
   "cell_type": "code",
   "execution_count": null,
   "metadata": {},
   "outputs": [],
   "source": [
    "# Save the reduced graph\n",
    "deconv_reduced_snap = snap.TUNGraph.New()\n",
    "for node in deconv_reduced_nx.nodes():\n",
    "    deconv_reduced_snap.AddNode(node)\n",
    "\n",
    "for edge in deconv_reduced_nx.edges():\n",
    "    deconv_reduced_snap.AddEdge(edge[0], edge[1])\n",
    "    \n",
    "print \"The final reduced snap graph has \" + str(deconv_reduced_snap.GetNodes()) + \" nodes\" + \" and \" + str(deconv_reduced_snap.GetNodes()) + \" edges\"\n",
    "\n",
    "# Save unweighted graph after removing edges below threshold\n",
    "save_graph(deconv_reduced_snap, \"deconv_reduced\")"
   ]
  }
 ],
 "metadata": {
  "kernelspec": {
   "display_name": "Python 2",
   "language": "python",
   "name": "python2"
  },
  "language_info": {
   "codemirror_mode": {
    "name": "ipython",
    "version": 2
   },
   "file_extension": ".py",
   "mimetype": "text/x-python",
   "name": "python",
   "nbconvert_exporter": "python",
   "pygments_lexer": "ipython2",
   "version": "2.7.14"
  }
 },
 "nbformat": 4,
 "nbformat_minor": 2
}
