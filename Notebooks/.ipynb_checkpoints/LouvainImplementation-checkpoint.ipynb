{
 "cells": [
  {
   "cell_type": "code",
   "execution_count": 7,
   "metadata": {},
   "outputs": [],
   "source": [
    "import snap\n",
    "import community\n",
    "import operator\n",
    "import numpy as np\n",
    "import pandas as pdd\n",
    "import networkx as nx\n",
    "import matplotlib.pyplot as plt\n",
    "import random as random"
   ]
  },
  {
   "cell_type": "code",
   "execution_count": 284,
   "metadata": {},
   "outputs": [],
   "source": [
    "FIn = snap.TFIn('../../graphs/investors_to_companies_directed/investors_to_companies_directed_folded.graph')\n",
    "companies_to_companies = snap.TUNGraph.Load(FIn)\n",
    "investors = np.load('../../graphs/investors_to_companies_directed/bipartite_source_class.npy')\n",
    "companies = np.load('../../graphs/investors_to_companies_directed/bipartite_dest_class.npy')\n",
    "node_values = np.load('../../graphs/investors_to_companies_directed/node_id_to_value.npy')\n",
    "\n",
    "# Load the bipartite graph\n",
    "bipartite_investors_companies = snap.LoadEdgeList(snap.PNGraph, '../../graphs/investors_to_companies_directed/investors_to_companies.txt', 0, 1)"
   ]
  },
  {
   "cell_type": "code",
   "execution_count": 343,
   "metadata": {},
   "outputs": [
    {
     "name": "stdout",
     "output_type": "stream",
     "text": [
      "3658 Reddit\n"
     ]
    }
   ],
   "source": [
    "nodeid_to_value = node_values.item()\n",
    "for key in nodeid_to_value:\n",
    "    if nodeid_to_value[key] == 'Reddit': print key, nodeid_to_value[key]"
   ]
  },
  {
   "cell_type": "code",
   "execution_count": 342,
   "metadata": {},
   "outputs": [
    {
     "name": "stdout",
     "output_type": "stream",
     "text": [
      "173\n"
     ]
    }
   ],
   "source": [
    "bfs_company = list(nx.bfs_tree(Gx, 3658 , depth_limit = 1))\n",
    "print len(bfs_company)\n",
    "sub_company = nx.subgraph(Gx, bfs_company )\n",
    "nx.write_edgelist(sub_company, 'sub_company', delimiter = ',')"
   ]
  },
  {
   "cell_type": "code",
   "execution_count": 272,
   "metadata": {},
   "outputs": [],
   "source": [
    "NodeItr = companies_to_companies.BegNI()\n",
    "node_id_to_deg = {}\n",
    "for node in range(companies_to_companies.GetNodes()):\n",
    "    node_id_to_deg[NodeItr.GetId()] = NodeItr.GetDeg()\n",
    "    NodeItr.Next()"
   ]
  },
  {
   "cell_type": "code",
   "execution_count": 273,
   "metadata": {},
   "outputs": [],
   "source": [
    "Gx = nx.Graph()\n",
    "for company in companies: Gx.add_node(company)\n",
    "\n",
    "EdgeItr = companies_to_companies.BegEI()\n",
    "for edge in range(companies_to_companies.GetEdges()):\n",
    "    Gx.add_edge(EdgeItr.GetSrcNId(), EdgeItr.GetDstNId())\n",
    "    EdgeItr.Next()"
   ]
  },
  {
   "cell_type": "code",
   "execution_count": 276,
   "metadata": {},
   "outputs": [],
   "source": [
    "partition_companies = community.best_partition(Gx)"
   ]
  },
  {
   "cell_type": "code",
   "execution_count": 277,
   "metadata": {},
   "outputs": [],
   "source": [
    "communities_companies = {}\n",
    "community_sizes_companies = []\n",
    "iteration = 0\n",
    "for com in set(partition_companies.values()):\n",
    "    list_nodes = [nodes for nodes in partition_companies.keys() if partition_companies[nodes] == com]\n",
    "    communities_companies[iteration] = list_nodes\n",
    "    community_sizes_companies.append(len(list_nodes))\n",
    "    iteration += 1"
   ]
  },
  {
   "cell_type": "code",
   "execution_count": 278,
   "metadata": {},
   "outputs": [
    {
     "data": {
      "image/png": "[encoded data removed]",
      "text/plain": [
       "<Figure size 432x288 with 1 Axes>"
      ]
     },
     "metadata": {},
     "output_type": "display_data"
    }
   ],
   "source": [
    "distribution = {}\n",
    "for cluster in community_sizes_companies:\n",
    "    if cluster in distribution: distribution[cluster] += 1\n",
    "    else: distribution[cluster] = 1\n",
    "\n",
    "X, Y = [], []\n",
    "y_norm = 0.0\n",
    "for key in distribution:\n",
    "    X.append(key)\n",
    "    Y.append(distribution[key]) \n",
    "    y_norm += distribution[key]\n",
    "for key in range(0, len(Y)): Y[key] = Y[key] / y_norm\n",
    "\n",
    "plt.scatter(X, Y, s = 5, color = 'g', label =  'Company Cluster Distribution', alpha = 1)\n",
    "\n",
    "plt.scatter([.01], [.01], s = 5, color = 'g', alpha = 1)   \n",
    "plt.xlim(1, 3000)\n",
    "plt.ylim(0.0001, 0.5)                            \n",
    "plt.yscale('log')\n",
    "plt.xscale('log')\n",
    "\n",
    "plt.xlabel(\"Cluster Size \\\"k\\\"\")\n",
    "plt.ylabel(\"Probability Cluster Size = \\\"k\\\"\")\n",
    "plt.legend()\n",
    "plt.savefig(\"Cluster Degree Distributions.pdf\")\n",
    "plt.show()"
   ]
  },
  {
   "cell_type": "code",
   "execution_count": 279,
   "metadata": {},
   "outputs": [
    {
     "name": "stdout",
     "output_type": "stream",
     "text": [
      "[2406, 1507, 1334, 1017, 830, 589, 586, 559, 386, 337]\n",
      "0.825354303491\n",
      "1405\n",
      "0.974377224199\n"
     ]
    }
   ],
   "source": [
    "big_community_sizes_companies = [comm for comm in community_sizes_companies if comm > 120]\n",
    "print sorted(big_community_sizes_companies, reverse = True)\n",
    "print float(sum(big_community_sizes_companies)) / sum(community_sizes_companies)\n",
    "print len(community_sizes_companies)\n",
    "small_community_size_companies = [comm for comm in community_sizes_companies if comm < 4]\n",
    "print len(small_community_size_companies) / float(len(community_sizes_companies))"
   ]
  },
  {
   "cell_type": "code",
   "execution_count": 280,
   "metadata": {},
   "outputs": [
    {
     "name": "stdout",
     "output_type": "stream",
     "text": [
      "Community Size:  2406\n",
      "nanosys (4788, 617)\n",
      "Cortina Systems (4923, 606)\n",
      "StreamBase Systems (4279, 573)\n",
      "Message Bus (917, 457)\n",
      "Intuity Medical (4445, 430)\n",
      "Tracelytics (443, 415)\n",
      "Newport Media (6711, 414)\n",
      "SynapDx (1880, 413)\n",
      "Appia (8944, 410)\n",
      "Marketo (6471, 407)\n",
      "Community Size:  830\n",
      "Virool (1350, 881)\n",
      "TaskRabbit (3977, 811)\n",
      "LE TOTE (3805, 747)\n",
      "drchrono (1365, 705)\n",
      "Viki (2822, 685)\n",
      "CatchFree (3979, 685)\n",
      "Amicus (3783, 676)\n",
      "Life360 (1463, 667)\n",
      "Goldbely (1357, 639)\n",
      "Kiwi Crate (877, 636)\n",
      "Community Size:  1507\n",
      "Box (2706, 1163)\n",
      "Storenvy (7921, 848)\n",
      "Expect Labs (1473, 751)\n",
      "Carrier IQ (2958, 728)\n",
      "Flurry (7170, 728)\n",
      "Staccato Communications (4806, 713)\n",
      "Apperian (6834, 701)\n",
      "Concept.io (5284, 697)\n",
      "Beceem Communications (2120, 659)\n",
      "Eons (7887, 656)\n",
      "Community Size:  1334\n",
      "Path (510, 1316)\n",
      "Ark (2712, 1240)\n",
      "Twilio (3957, 1222)\n",
      "The Climate Corporation (4836, 1196)\n",
      "YuMe (4243, 1184)\n",
      "Yammer (7625, 1169)\n",
      "Backplane (1612, 1141)\n",
      "IFTTT (517, 1131)\n",
      "Twitter (1077, 1119)\n",
      "Swiftype (3767, 1109)\n",
      "Community Size:  1017\n",
      "Dropbox (3662, 1227)\n",
      "Sosh (6482, 879)\n",
      "KAYAK (273, 753)\n",
      "Zendesk (6700, 712)\n",
      "BranchOut (2370, 704)\n",
      "Meebo (9235, 697)\n",
      "Instagram (5207, 690)\n",
      "TuneIn (10627, 678)\n",
      "LinkedIn (2019, 673)\n",
      "Clinkle (1732, 662)\n"
     ]
    }
   ],
   "source": [
    "nodeid_to_value = node_values.item(0)\n",
    "community_by_degree = {}\n",
    "for com in communities_companies:\n",
    "    if len(communities_companies[com]) > 800:\n",
    "        node_to_degree = {}\n",
    "        community = communities_companies[com]\n",
    "        for index in range(len(communities_companies[com])):\n",
    "            node = community[index]\n",
    "            node_to_degree[node] = node_id_to_deg[node] \n",
    "        community_by_degree[com] = node_to_degree\n",
    "        \n",
    "for com in community_by_degree:\n",
    "    community = community_by_degree[com]\n",
    "    sorted_community = sorted(community.items(), key=operator.itemgetter(1), reverse = True)\n",
    "    print \"Community Size: \", len(community)\n",
    "    iteration = 0\n",
    "    for key in sorted_community:\n",
    "        iteration += 1\n",
    "        print nodeid_to_value[key[0]], key\n",
    "        if iteration == 10: break"
   ]
  },
  {
   "cell_type": "code",
   "execution_count": 322,
   "metadata": {},
   "outputs": [
    {
     "name": "stdout",
     "output_type": "stream",
     "text": [
      "753\n"
     ]
    }
   ],
   "source": []
  },
  {
   "cell_type": "code",
   "execution_count": 234,
   "metadata": {},
   "outputs": [],
   "source": [
    "NodeItr = companies_to_companies.BegNI()\n",
    "node_id_to_deg = {}\n",
    "for node in range(companies_to_companies.GetNodes()):\n",
    "    node_id_to_deg[NodeItr.GetId()] = NodeItr.GetDeg()\n",
    "    NodeItr.Next()"
   ]
  },
  {
   "cell_type": "code",
   "execution_count": 235,
   "metadata": {},
   "outputs": [],
   "source": [
    "FIn = snap.TFIn('../../graphs/investors_to_companies_directed/investors_to_companies_directed_folded_reverse_order.graph')\n",
    "investors_to_investors = snap.TUNGraph.Load(FIn)\n",
    "Gx = nx.Graph()\n",
    "for investor in investors: Gx.add_node(investor)\n",
    "\n",
    "EdgeItr = investors_to_investors.BegEI()\n",
    "for edge in range(investors_to_investors.GetEdges()):\n",
    "    Gx.add_edge(EdgeItr.GetSrcNId(), EdgeItr.GetDstNId())\n",
    "    EdgeItr.Next()"
   ]
  },
  {
   "cell_type": "code",
   "execution_count": 236,
   "metadata": {},
   "outputs": [],
   "source": [
    "NodeItr = investors_to_investors.BegNI()\n",
    "node_id_to_deg = {}\n",
    "for node in range(investors_to_investors.GetNodes()):\n",
    "    node_id_to_deg[NodeItr.GetId()] = NodeItr.GetDeg()\n",
    "    NodeItr.Next()"
   ]
  },
  {
   "cell_type": "code",
   "execution_count": 250,
   "metadata": {},
   "outputs": [],
   "source": [
    "partition_investors = community.best_partition(Gx)"
   ]
  },
  {
   "cell_type": "code",
   "execution_count": 251,
   "metadata": {},
   "outputs": [],
   "source": [
    "communities_investors = {}\n",
    "community_sizes_investors = []\n",
    "for com in set(partition_investors.values()):\n",
    "    list_nodes = [nodes for nodes in partition_investors.keys() if partition_investors[nodes] == com]\n",
    "    communities_investors[com] = list_nodes\n",
    "    community_sizes_investors.append(len(list_nodes))"
   ]
  },
  {
   "cell_type": "code",
   "execution_count": 252,
   "metadata": {},
   "outputs": [
    {
     "name": "stdout",
     "output_type": "stream",
     "text": [
      "[978, 755, 268, 126, 151, 154, 204, 235, 235, 714, 169, 207, 133, 133, 132]\n",
      "0.438987099857\n",
      "3840\n",
      "0.960677083333\n"
     ]
    }
   ],
   "source": [
    "big_community_sizes_investors = [comm for comm in community_sizes_investors if comm > 115]\n",
    "print big_community_sizes_investors\n",
    "print float(sum(big_community_sizes_investors)) / sum(community_sizes_investors)\n",
    "print len(community_sizes_investors)\n",
    "small_community_size_investors = [comm for comm in community_sizes_investors if comm < 4]\n",
    "print len(small_community_size_investors) / float(len(community_sizes_investors))"
   ]
  },
  {
   "cell_type": "code",
   "execution_count": 240,
   "metadata": {},
   "outputs": [
    {
     "data": {
      "image/png": "[encoded data removed]",
      "text/plain": [
       "<Figure size 432x288 with 1 Axes>"
      ]
     },
     "metadata": {},
     "output_type": "display_data"
    }
   ],
   "source": [
    "distribution = {}\n",
    "for cluster in community_sizes_investors:\n",
    "    if cluster in distribution: distribution[cluster] += 1\n",
    "    else: distribution[cluster] = 1\n",
    "\n",
    "X, Y = [], []\n",
    "y_norm = 0.0\n",
    "for key in distribution:\n",
    "    X.append(key)\n",
    "    Y.append(distribution[key]) \n",
    "    y_norm += distribution[key]\n",
    "for key in range(0, len(Y)): Y[key] = Y[key] / y_norm\n",
    "\n",
    "plt.scatter(X, Y, s = 5, color = 'g', label =  'Investor Cluster Distribution', alpha = 1)\n",
    "\n",
    "plt.scatter([.01], [.01], s = 5, color = 'g', alpha = 1)   \n",
    "plt.xlim(1, 3000)\n",
    "plt.ylim(0.0001, 0.4)                            \n",
    "plt.yscale('log')\n",
    "plt.xscale('log')\n",
    "\n",
    "plt.xlabel(\"Cluster Size \\\"k\\\"\")\n",
    "plt.ylabel(\"Probability Cluster Size = \\\"k\\\"\")\n",
    "plt.legend()\n",
    "plt.savefig(\"Cluster Degree Distributions Investors.pdf\")\n",
    "plt.show()"
   ]
  },
  {
   "cell_type": "code",
   "execution_count": 253,
   "metadata": {},
   "outputs": [
    {
     "name": "stdout",
     "output_type": "stream",
     "text": [
      "Community Size:  235\n",
      "Dave McClure (18240, 90)\n",
      "Madrona Venture Group (12951, 50)\n",
      "IDG Ventures (11613, 46)\n",
      "Geoff Entress (18818, 42)\n",
      "Maneesh Arora (20024, 41)\n",
      "Community Size:  133\n",
      "Great Oaks Venture Capital (10958, 58)\n",
      "Jeff Fluhr (19258, 50)\n",
      "Bob Pittman (17707, 45)\n",
      "Hercules Technology Growth Capital (11341, 42)\n",
      "Clark Landry (18065, 40)\n",
      "Community Size:  978\n",
      "SV Angel (15932, 500)\n",
      "New Enterprise Associates (13702, 258)\n",
      "First Round Capital (10022, 231)\n",
      "Kleiner Perkins Caufield & Byers (12499, 217)\n",
      "Founder Collective (10317, 192)\n",
      "Community Size:  112\n",
      "Marc Andreessen (20032, 50)\n",
      "SVB Financial Group (15972, 35)\n",
      "Ben Horowitz (17577, 23)\n",
      "Kodiak Venture Partners (12548, 23)\n",
      "Constellation Ventures (8481, 22)\n",
      "Community Size:  755\n",
      "Intel Capital (11916, 232)\n",
      "Sequoia Capital (15309, 189)\n",
      "US Venture Partners (16613, 105)\n",
      "Goldman Sachs (10836, 99)\n",
      "Mohr Davidow Ventures (13436, 99)\n",
      "Community Size:  714\n",
      "Polaris Venture Partners (14550, 107)\n",
      "Venrock (16711, 97)\n",
      "Foundation Capital (10279, 88)\n",
      "InterWest Partners (11993, 84)\n",
      "VantagePoint Capital Partners (16664, 71)\n",
      "Community Size:  204\n",
      "Spark Capital (15656, 102)\n",
      "Accel Partners (4230, 94)\n",
      "Mitch Kapor (20458, 64)\n",
      "Maveron (13106, 47)\n",
      "Roy Rodenstein (21136, 36)\n",
      "Community Size:  101\n",
      "Timothy Ferriss (21630, 66)\n",
      "Siemer Ventures (15434, 60)\n",
      "Garrett Camp (18782, 44)\n",
      "Base Ventures (6353, 32)\n",
      "Noah Goodhart (20567, 30)\n",
      "Community Size:  169\n",
      "Charles River Ventures (7880, 125)\n",
      "Dharmesh Shah (18441, 94)\n",
      "Reid Hoffman (20916, 78)\n",
      "David Sacks (18358, 50)\n",
      "Atlas Venture (5818, 48)\n",
      "Community Size:  132\n",
      "Quotidian Ventures (14760, 67)\n",
      "Canaan Partners (7473, 65)\n",
      "Expansion Venture Capital (9839, 63)\n",
      "FirstMark Capital (10075, 43)\n",
      "ENIAC Ventures (9688, 41)\n",
      "Community Size:  268\n",
      "Menlo Ventures (13197, 143)\n",
      "Paul Buchheit (20661, 139)\n",
      "Start Fund (15781, 127)\n",
      "Ashton Kutcher (17512, 126)\n",
      "Alexis Ohanian (17288, 123)\n",
      "Community Size:  133\n",
      "500 Startups (3942, 159)\n",
      "Baseline Ventures (6357, 66)\n",
      "Transmedia Capital (16422, 42)\n",
      "Joshua Baer (19685, 40)\n",
      "Bill Boebel (17627, 38)\n",
      "Community Size:  114\n",
      "Crosslink Capital (8713, 153)\n",
      "Venture51 (16738, 84)\n",
      "Matt Coffin (20187, 83)\n",
      "Erik Moore (18667, 78)\n",
      "Dan Rose (18169, 67)\n",
      "Community Size:  151\n",
      "Greycroft Partners (11027, 97)\n",
      "Esther Dyson (18680, 66)\n",
      "Upfront Ventures (16604, 44)\n",
      "MESA+ (13278, 30)\n",
      "Mike Lazerow (20414, 26)\n",
      "Community Size:  108\n",
      "Northgate Capital (13927, 44)\n",
      "Comerica Bank (8353, 39)\n",
      "Vivi Nevo (21816, 35)\n",
      "Palo Alto Investors (14292, 19)\n",
      "Blue Chip Venture Company (7023, 19)\n",
      "Community Size:  207\n",
      "David Tisch (18376, 154)\n",
      "David Cohen (18271, 137)\n",
      "Silicon Valley Bank (15496, 115)\n",
      "IA Ventures (11566, 68)\n",
      "ff Venture Capital (9937, 64)\n",
      "Community Size:  235\n",
      "Draper Fisher Jurvetson (DFJ) (9233, 195)\n",
      "LaunchCapital (12634, 68)\n",
      "J.P. Morgan Securities Inc. (12140, 45)\n",
      "Lon Chow (19972, 33)\n",
      "I2A Fund (11553, 32)\n",
      "Community Size:  126\n",
      "Morgan Stanley (13493, 49)\n",
      "Insight Venture Partners (11871, 37)\n",
      "New Atlantic Ventures (13679, 35)\n",
      "EPIC Ventures (9736, 30)\n",
      "Novak Biddle Venture Partners (13981, 30)\n",
      "Community Size:  154\n",
      "The Social+Capital Partnership (16254, 69)\n",
      "XG Ventures (17051, 60)\n",
      "Plug & Play Ventures (14509, 47)\n",
      "Digital Garage (9128, 37)\n",
      "Tiger Global Management (16344, 29)\n"
     ]
    }
   ],
   "source": [
    "nodeid_to_value = node_values.item()\n",
    "investor_by_degree = {}\n",
    "for com in communities_investors:\n",
    "    if len(communities_investors[com]) > 100:\n",
    "        node_to_degree = {}\n",
    "        community = communities_investors[com]\n",
    "        for index in range(len(communities_investors[com])):\n",
    "            node = community[index]\n",
    "            node_to_degree[node] = node_id_to_deg[node] \n",
    "        investor_by_degree[com] = node_to_degree\n",
    "        \n",
    "for com in investor_by_degree:\n",
    "    community = investor_by_degree[com]\n",
    "    sorted_community = sorted(community.items(), key=operator.itemgetter(1), reverse = True)\n",
    "    print \"Community Size: \", len(community)\n",
    "    iteration = 0\n",
    "    for key in sorted_community:\n",
    "        iteration += 1\n",
    "        print nodeid_to_value[key[0]], key\n",
    "        if iteration == 5: break"
   ]
  },
  {
   "cell_type": "code",
   "execution_count": 271,
   "metadata": {},
   "outputs": [],
   "source": [
    "bfs_sequoia = list(nx.bfs_tree(Gx, 15309, depth_limit = 1))\n",
    "sub_sequoia = nx.subgraph(Gx, bfs_sequoia)\n",
    "nx.write_edgelist(sub_sequoia, 'sequoia_sub', delimiter = ',')"
   ]
  },
  {
   "cell_type": "code",
   "execution_count": 155,
   "metadata": {},
   "outputs": [],
   "source": [
    "def IoU(set1, set2):\n",
    "    return float(len(set1.intersection(set2))) / len(set1.union(set2))"
   ]
  },
  {
   "cell_type": "code",
   "execution_count": null,
   "metadata": {},
   "outputs": [],
   "source": []
  },
  {
   "cell_type": "markdown",
   "metadata": {},
   "source": [
    "Now we run Louvain on the weighted companies and investors folded graphs"
   ]
  },
  {
   "cell_type": "code",
   "execution_count": 156,
   "metadata": {},
   "outputs": [],
   "source": [
    "investors_to_companies = {}\n",
    "companies_to_investors = {}\n",
    "\n",
    "for NI in bipartite_investors_companies.Nodes():\n",
    "    NId = NI.GetId()\n",
    "    nbr_set = set([])\n",
    "\n",
    "    if NId in investors:\n",
    "        deg = NI.GetOutDeg()    \n",
    "        for nbr_idx in range(deg):\n",
    "            nbr_ID = NI.GetOutNId(nbr_idx)\n",
    "            nbr_set.add(nbr_ID)\n",
    "        investors_to_companies[NId] = nbr_set\n",
    "            \n",
    "    else:\n",
    "        deg = NI.GetInDeg()\n",
    "        for nbr_idx in range(deg):\n",
    "            nbr_ID = NI.GetInNId(nbr_idx)\n",
    "            nbr_set.add(nbr_ID)\n",
    "        companies_to_investors[NId] = nbr_set\n",
    "\n",
    "# Create weighted companies graph\n",
    "weighted_companies = nx.Graph()\n",
    "for EI in companies_to_companies.Edges():\n",
    "    src = EI.GetSrcNId()\n",
    "    dst = EI.GetDstNId()\n",
    "    \n",
    "    if not weighted_companies.has_node(src):\n",
    "        weighted_companies.add_node(src)\n",
    "        \n",
    "    if not weighted_companies.has_node(dst):\n",
    "        weighted_companies.add_node(dst)\n",
    "    \n",
    "    wt = IoU(companies_to_investors[src], companies_to_investors[dst])\n",
    "    weighted_companies.add_edge(src, dst, weight=wt)\n",
    "    \n",
    "# Create weighted investors graph\n",
    "weighted_investors = nx.Graph()\n",
    "for EI in investors_to_investors.Edges():\n",
    "    src = EI.GetSrcNId()\n",
    "    dst = EI.GetDstNId()\n",
    "    \n",
    "    if not weighted_investors.has_node(src):\n",
    "        weighted_investors.add_node(src)\n",
    "        \n",
    "    if not weighted_investors.has_node(dst):\n",
    "        weighted_investors.add_node(dst)\n",
    "    \n",
    "    wt = IoU(investors_to_companies[src], investors_to_companies[dst])\n",
    "    weighted_investors.add_edge(src, dst, weight=wt)"
   ]
  },
  {
   "cell_type": "code",
   "execution_count": 241,
   "metadata": {},
   "outputs": [],
   "source": [
    "partition_companies_weighted = community.best_partition(weighted_companies)\n",
    "partition_investors_weighted = community.best_partition(weighted_investors)"
   ]
  },
  {
   "cell_type": "code",
   "execution_count": 242,
   "metadata": {},
   "outputs": [
    {
     "name": "stdout",
     "output_type": "stream",
     "text": [
      "[1677, 547, 333, 385, 1319, 611, 877, 670, 393, 406]\n",
      "0.700912798602\n",
      "152\n",
      "0.513157894737\n"
     ]
    }
   ],
   "source": [
    "communities_companies = {}\n",
    "community_sizes_companies = []\n",
    "for com in set(partition_companies_weighted.values()):\n",
    "    list_nodes = [nodes for nodes in partition_companies_weighted.keys() if partition_companies_weighted[nodes] == com]\n",
    "    communities_companies[com] = list_nodes\n",
    "    community_sizes_companies.append(len(list_nodes))\n",
    "big_community_sizes_companies = [comm for comm in community_sizes_companies if comm > 330]\n",
    "print big_community_sizes_companies\n",
    "print float(sum(big_community_sizes_companies)) / sum(community_sizes_companies)\n",
    "print len(community_sizes_companies)\n",
    "small_community_size_companies = [comm for comm in community_sizes_companies if comm < 3]\n",
    "print len(small_community_size_companies) / float(len(community_sizes_companies))"
   ]
  },
  {
   "cell_type": "code",
   "execution_count": 243,
   "metadata": {},
   "outputs": [
    {
     "data": {
      "image/png": "[encoded data removed]",
      "text/plain": [
       "<Figure size 432x288 with 1 Axes>"
      ]
     },
     "metadata": {},
     "output_type": "display_data"
    }
   ],
   "source": [
    "distribution = {}\n",
    "for cluster in community_sizes_companies:\n",
    "    if cluster in distribution: distribution[cluster] += 1\n",
    "    else: distribution[cluster] = 1\n",
    "\n",
    "X, Y = [], []\n",
    "y_norm = 0.0\n",
    "for key in distribution:\n",
    "    X.append(key)\n",
    "    Y.append(distribution[key]) \n",
    "    y_norm += distribution[key]\n",
    "for key in range(0, len(Y)): Y[key] = Y[key] / y_norm\n",
    "\n",
    "plt.scatter(X, Y, s = 5, color = 'b', label =  'Weighted Company Cluster Distribution', alpha = 1)\n",
    "\n",
    "plt.scatter([.01], [.01], s = 5, color = 'g', alpha = 1)   \n",
    "plt.xlim(1, 3000)\n",
    "plt.ylim(0.0001, 0.5)                             \n",
    "plt.yscale('log')\n",
    "plt.xscale('log')\n",
    "\n",
    "plt.xlabel(\"Cluster Size \\\"k\\\"\")\n",
    "plt.ylabel(\"Probability Cluster Size = \\\"k\\\"\")\n",
    "plt.legend()\n",
    "plt.savefig(\"Cluster Degree Distributions Weighted Companies.pdf\")\n",
    "plt.show()"
   ]
  },
  {
   "cell_type": "code",
   "execution_count": 244,
   "metadata": {},
   "outputs": [
    {
     "name": "stdout",
     "output_type": "stream",
     "text": [
      "[1040, 97, 104, 113, 87, 500, 137, 95, 156, 89]\n",
      "0.336862635832\n",
      "700\n",
      "0.0\n"
     ]
    }
   ],
   "source": [
    "communities_investors = {}\n",
    "community_sizes_investors = []\n",
    "for com in set(partition_investors_weighted.values()):\n",
    "    list_nodes = [nodes for nodes in partition_investors_weighted.keys() if partition_investors_weighted[nodes] == com]\n",
    "    communities_investors[com] = list_nodes\n",
    "    community_sizes_investors.append(len(list_nodes))\n",
    "big_community_sizes_investors = [comm for comm in community_sizes_investors if comm > 85]\n",
    "print big_community_sizes_investors\n",
    "print float(sum(big_community_sizes_investors)) / sum(community_sizes_investors)\n",
    "print len(community_sizes_investors)\n",
    "small_community_size_investors = [comm for comm in community_sizes_investors if comm < 2]\n",
    "print len(small_community_size_investors) / float(len(community_sizes_investors))"
   ]
  },
  {
   "cell_type": "code",
   "execution_count": 245,
   "metadata": {},
   "outputs": [
    {
     "data": {
      "image/png": "[encoded data removed]",
      "text/plain": [
       "<Figure size 432x288 with 1 Axes>"
      ]
     },
     "metadata": {},
     "output_type": "display_data"
    }
   ],
   "source": [
    "distribution = {}\n",
    "for cluster in community_sizes_investors:\n",
    "    if cluster in distribution: distribution[cluster] += 1\n",
    "    else: distribution[cluster] = 1\n",
    "\n",
    "X, Y = [], []\n",
    "y_norm = 0.0\n",
    "for key in distribution:\n",
    "    X.append(key)\n",
    "    Y.append(distribution[key]) \n",
    "    y_norm += distribution[key]\n",
    "for key in range(0, len(Y)): Y[key] = Y[key] / y_norm\n",
    "\n",
    "plt.scatter(X, Y, s = 5, color = 'b', label =  'Weighted Investor Cluster Distribution', alpha = 1)\n",
    "\n",
    "plt.scatter([.01], [.01], s = 5, color = 'g', alpha = 1)   \n",
    "plt.xlim(1, 3000)\n",
    "plt.xlim(1, 3000)\n",
    "plt.ylim(0.0001, 0.8)                            \n",
    "plt.yscale('log')\n",
    "plt.xscale('log')\n",
    "\n",
    "plt.xlabel(\"Cluster Size \\\"k\\\"\")\n",
    "plt.ylabel(\"Probability Cluster Size = \\\"k\\\"\")\n",
    "plt.legend()\n",
    "plt.savefig(\"Cluster Degree Distributions Weighted Investors.pdf\")\n",
    "plt.show()"
   ]
  },
  {
   "cell_type": "code",
   "execution_count": 166,
   "metadata": {
    "scrolled": true
   },
   "outputs": [
    {
     "name": "stdout",
     "output_type": "stream",
     "text": [
      "Community Size:  1039\n",
      "SV Angel\n",
      "New Enterprise Associates\n",
      "Intel Capital\n",
      "First Round Capital\n",
      "Kleiner Perkins Caufield & Byers\n",
      "Draper Fisher Jurvetson (DFJ)\n",
      "Founder Collective\n",
      "Lerer Ventures\n",
      "Sequoia Capital\n",
      "Greylock Partners\n",
      "Community Size:  500\n",
      "Brookside Capital\n",
      "Integral Capital Partners\n",
      "Wellcome Trust\n",
      "Sofinnova Ventures\n",
      "TPG Growth\n",
      "Quaker BioVentures\n",
      "Johnson & Johnson Development Corporation\n",
      "Vulcan Capital\n",
      "Domain Associates\n",
      "Fidelity Ventures\n"
     ]
    }
   ],
   "source": [
    "nodeid_to_value = node_values.item()\n",
    "investor_by_degree = {}\n",
    "for com in communities_investors:\n",
    "    if len(communities_investors[com]) > 499:\n",
    "        node_to_degree = {}\n",
    "        community = communities_investors[com]\n",
    "        for index in range(len(communities_investors[com])):\n",
    "            node = community[index]\n",
    "            if node != 391: node_to_degree[node] = node_id_to_deg[node] \n",
    "        investor_by_degree[com] = node_to_degree\n",
    "        \n",
    "for com in investor_by_degree:\n",
    "    community = investor_by_degree[com]\n",
    "    sorted_community = sorted(community.items(), key=operator.itemgetter(1), reverse = True)\n",
    "    print \"Community Size: \", len(community)\n",
    "    iteration = 0\n",
    "    for key in sorted_community:\n",
    "        iteration += 1\n",
    "        print nodeid_to_value[key[0]]\n",
    "        if iteration == 10: break"
   ]
  },
  {
   "cell_type": "code",
   "execution_count": null,
   "metadata": {},
   "outputs": [],
   "source": []
  }
 ],
 "metadata": {
  "kernelspec": {
   "display_name": "Python 2",
   "language": "python",
   "name": "python2"
  },
  "language_info": {
   "codemirror_mode": {
    "name": "ipython",
    "version": 2
   },
   "file_extension": ".py",
   "mimetype": "text/x-python",
   "name": "python",
   "nbconvert_exporter": "python",
   "pygments_lexer": "ipython2",
   "version": "2.7.14"
  }
 },
 "nbformat": 4,
 "nbformat_minor": 2
}
