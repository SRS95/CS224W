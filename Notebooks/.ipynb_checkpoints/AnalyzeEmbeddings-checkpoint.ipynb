{
 "cells": [
  {
   "cell_type": "code",
   "execution_count": 6,
   "metadata": {},
   "outputs": [],
   "source": [
    "import numpy as np\n",
    "from gensim.models import Word2Vec\n",
    "import snap\n",
    "import operator\n",
    "import snap\n",
    "from scipy.stats import binom\n",
    "import matplotlib.pyplot as plt"
   ]
  },
  {
   "cell_type": "code",
   "execution_count": 130,
   "metadata": {},
   "outputs": [],
   "source": [
    "def getNumAcquired(sim_rankings, acquired_companies_in_graph_by_id, k):\n",
    "    top_rankings = sim_rankings[:k]\n",
    "    result = 0\n",
    "    \n",
    "    for tup in top_rankings:\n",
    "        company_id = int(tup[0])\n",
    "        if company_id in acquired_companies_in_graph_by_id: result += 1\n",
    "    \n",
    "    return result"
   ]
  },
  {
   "cell_type": "code",
   "execution_count": 129,
   "metadata": {},
   "outputs": [],
   "source": [
    "def getAcquiredToNumAcquired(k, node_to_sorted_L2_similarities, acquired_companies_in_graph_by_id):\n",
    "    acquired_to_num_acquired = {}\n",
    "\n",
    "    for company_id in acquired_companies_in_graph_by_id:\n",
    "        sim_rankings = node_to_sorted_L2_similarities[str(company_id)]\n",
    "        acquired_to_num_acquired[company_id] = getNumAcquired(sim_rankings, acquired_companies_in_graph_by_id, k)\n",
    "                                     \n",
    "    return acquired_to_num_acquired"
   ]
  },
  {
   "cell_type": "code",
   "execution_count": null,
   "metadata": {},
   "outputs": [],
   "source": [
    "def getNullProbs(acquired_to_num_acquired, n, p)\n",
    "    result = {}\n",
    "    \n",
    "    for key in acquired_to_num_acquired:\n",
    "        result[key] = binom.pmf(k=acquired_to_num_acquired[key], n, p)"
   ]
  },
  {
   "cell_type": "code",
   "execution_count": 7,
   "metadata": {},
   "outputs": [],
   "source": [
    "# Returns a list sorted from the node with the least l2 distance to \n",
    "# reference node to the node with the greatest l2 distance\n",
    "def calculateSortedL2Similarity(reference_node, model):\n",
    "    reference_embeddings = model[reference_node]\n",
    "    l2_similarities = {}\n",
    "\n",
    "    for key in model.vocab:\n",
    "        if key != reference_node:\n",
    "            curr_l2 = np.linalg.norm(reference_embeddings - model[key])\n",
    "            l2_similarities[key] = curr_l2\n",
    "\n",
    "    sorted_l2_similarities = sorted(l2_similarities.items(), key=operator.itemgetter(1))\n",
    "    return sorted_l2_similarities"
   ]
  },
  {
   "cell_type": "code",
   "execution_count": 8,
   "metadata": {},
   "outputs": [],
   "source": [
    "def createSortedSimilaritesMap(model):\n",
    "    result = {}\n",
    "    for key in model.vocab:\n",
    "        result[key] = calculateSortedL2Similarity(key, model)\n",
    "    return result"
   ]
  },
  {
   "cell_type": "code",
   "execution_count": 9,
   "metadata": {},
   "outputs": [],
   "source": [
    "# Load the embeddings from memory\n",
    "BFS_model = Word2Vec.load_word2vec_format(\"../node2vec_embeddings/company_embeddings_p1_q100.emd\")\n",
    "neutral_model = Word2Vec.load_word2vec_format(\"../node2vec_embeddings/company_embeddings_p1_q1.emd\")\n",
    "DFS_model = Word2Vec.load_word2vec_format(\"../node2vec_embeddings/company_embeddings_p1_q0_01.emd\")"
   ]
  },
  {
   "cell_type": "code",
   "execution_count": 10,
   "metadata": {},
   "outputs": [
    {
     "name": "stdout",
     "output_type": "stream",
     "text": [
      "Completed BFS model\n",
      "Completed neutral model\n",
      "Completed DFS model\n"
     ]
    }
   ],
   "source": [
    "BFS_nodeToSortedL2Similarities = createSortedSimilaritesMap(BFS_model)\n",
    "print \"Completed BFS model\"\n",
    "neutral_nodeToSortedL2Similarities = createSortedSimilaritesMap(neutral_model)\n",
    "print \"Completed neutral model\"\n",
    "DFS_nodeToSortedL2Similarities = createSortedSimilaritesMap(DFS_model)\n",
    "print \"Completed DFS model\""
   ]
  },
  {
   "cell_type": "code",
   "execution_count": 15,
   "metadata": {},
   "outputs": [],
   "source": [
    "'''\n",
    "DO NOT RUN THIS AGAIN!\n",
    "\n",
    "np.save(\"../node2vec_embeddings/nodeToSortedL2Similarities_p1_q100\", BFS_nodeToSortedL2Similarities)\n",
    "np.save(\"../node2vec_embeddings/nodeToSortedL2Similarities_p1_q1\", neutral_nodeToSortedL2Similarities)\n",
    "np.save(\"../node2vec_embeddings/nodeToSortedL2Similarities_p1_q0_01\", DFS_nodeToSortedL2Similarities)\n",
    "'''"
   ]
  },
  {
   "cell_type": "code",
   "execution_count": 35,
   "metadata": {},
   "outputs": [
    {
     "name": "stdout",
     "output_type": "stream",
     "text": [
      "4563\n"
     ]
    }
   ],
   "source": [
    "# These are all of the acquired companies we know about\n",
    "acquired_companies = set(np.load(\"../acquired_companies.npy\"))"
   ]
  },
  {
   "cell_type": "code",
   "execution_count": 114,
   "metadata": {},
   "outputs": [],
   "source": [
    "# Now we find the overlap between companies in our graph and the set of acquired companies\n",
    "node_id_to_value = np.load(\"../../graphs/investors_to_companies_directed/node_id_to_value.npy\").item()\n",
    "FIn = snap.TFIn(\"../../graphs/investors_to_companies_directed/investors_to_companies_directed_folded_reverse_order.graph\")\n",
    "G = snap.TUNGraph.Load(FIn)\n",
    "\n",
    "companies_in_graph = set()\n",
    "for EI in G.Edges(): \n",
    "    curr_src_id = EI.GetSrcNId()\n",
    "    curr_dst_id = EI.GetDstNId()\n",
    "    companies_in_graph.add(node_id_to_value[curr_src_id])\n",
    "    companies_in_graph.add(node_id_to_value[curr_dst_id])\n",
    "    \n",
    "# These are the acquired companies in our folded graph\n",
    "acquired_companies_in_graph = companies_in_graph.intersection(acquired_companies)\n",
    "\n",
    "acquired_companies_in_graph_by_id = []\n",
    "value_to_node_id = {v: k for k, v in node_id_to_value.iteritems()}\n",
    "for company in acquired_companies_in_graph:\n",
    "    acquired_companies_in_graph_by_id.append(value_to_node_id[company])"
   ]
  },
  {
   "cell_type": "code",
   "execution_count": 135,
   "metadata": {},
   "outputs": [
    {
     "name": "stdout",
     "output_type": "stream",
     "text": [
      "0.173781066211\n"
     ]
    }
   ],
   "source": [
    "k = 100\n",
    "acquired_to_num_acquired_BFS = getAcquiredToNumAcquired(k, BFS_nodeToSortedL2Similarities, acquired_companies_in_graph_by_id)\n",
    "acquired_to_num_acquired_neutral = getAcquiredToNumAcquired(k, neutral_nodeToSortedL2Similarities, acquired_companies_in_graph_by_id)\n",
    "acquired_to_num_acquired_DFS = getAcquiredToNumAcquired(k, DFS_nodeToSortedL2Similarities, acquired_companies_in_graph_by_id)\n",
    "\n",
    "# Make a plot for each of BFS, neutral, and DFS\n",
    "# x axis will be node id\n",
    "# y axis will be probability under null (binomial) model\n",
    "p = float(len(acquired_companies_in_graph_by_id)) / len(companies_in_graph)\n",
    "BFS_null_model_probabilities = getNullProbs(acquired_to_num_acquired_BFS, k, p)\n",
    "neutral_null_model_probabilities = getNullProbs(acquired_to_num_acquired_neutral, k, p)\n",
    "DFS_null_model_probabilities = getNullProbs(acquired_to_num_acquired_DFS, k, p)\n"
   ]
  },
  {
   "cell_type": "code",
   "execution_count": null,
   "metadata": {},
   "outputs": [],
   "source": []
  },
  {
   "cell_type": "code",
   "execution_count": null,
   "metadata": {},
   "outputs": [],
   "source": []
  }
 ],
 "metadata": {
  "kernelspec": {
   "display_name": "Python 2",
   "language": "python",
   "name": "python2"
  },
  "language_info": {
   "codemirror_mode": {
    "name": "ipython",
    "version": 2
   },
   "file_extension": ".py",
   "mimetype": "text/x-python",
   "name": "python",
   "nbconvert_exporter": "python",
   "pygments_lexer": "ipython2",
   "version": "2.7.14"
  }
 },
 "nbformat": 4,
 "nbformat_minor": 2
}
