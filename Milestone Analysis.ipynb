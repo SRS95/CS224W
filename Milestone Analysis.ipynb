{
 "cells": [
  {
   "cell_type": "code",
   "execution_count": 2,
   "metadata": {},
   "outputs": [],
   "source": [
    "import snap\n",
    "import numpy as np\n",
    "import pandas as pd\n",
    "import sys\n",
    "import os\n",
    "import argparse\n",
    "import matplotlib.pyplot as plt\n",
    "import random as random"
   ]
  },
  {
   "cell_type": "code",
   "execution_count": 3,
   "metadata": {},
   "outputs": [],
   "source": [
    "def ER_degree_distribution(N, E):\n",
    "\n",
    "    Graph = snap.TNEANet.New()\n",
    "    for index in range(1,N+1): Graph.AddNode(index)\n",
    "    while(Graph.GetEdges() < E):\n",
    "        SrcNId = random.randint(1,N)\n",
    "        DstNId = random.randint(1, N)\n",
    "        if Graph.IsEdge(SrcNId, DstNId) is False:\n",
    "            Graph.AddEdge(SrcNId, DstNId)\n",
    "    NodeItr = Graph.BegNI()\n",
    "    distribution = {}\n",
    "    for node in range(0, Graph.GetNodes()):\n",
    "        nodeId = NodeItr.GetId()\n",
    "        nodeDeg = NodeItr.GetDeg()\n",
    "        if nodeDeg in distribution: distribution[nodeDeg] += 1\n",
    "        else: distribution[nodeDeg] = 1\n",
    "        NodeItr.Next()\n",
    "        \n",
    "    X, Y= [], []\n",
    "    for key in distribution:\n",
    "        X.append(key)\n",
    "        Y.append(distribution[key])\n",
    "        \n",
    "    return X,Y"
   ]
  },
  {
   "cell_type": "code",
   "execution_count": 4,
   "metadata": {},
   "outputs": [],
   "source": [
    "def calculate_degree_distribution(name, G):\n",
    "    NodeItr = G.BegNI()\n",
    "    distribution = {}\n",
    "    for node in range(0, G.GetNodes()):\n",
    "        nodeId = NodeItr.GetId()\n",
    "        nodeDeg = NodeItr.GetDeg()\n",
    "        if nodeDeg in distribution: distribution[nodeDeg] += 1\n",
    "        else: distribution[nodeDeg] = 1\n",
    "        NodeItr.Next()\n",
    "\n",
    "    X, Y = [], []\n",
    "    for key in distribution:\n",
    "        X.append(key)\n",
    "        Y.append(set1_distribution[key])\n",
    "   # X_ER, Y_ER = ER_degree_distribution(G.GetNodes(), G.GetEdges())\n",
    "    \n",
    "    plt.scatter(X, Y, s = 5, color = 'g', label = set1_name + ' Distribution', alpha = 1)\n",
    "    #plt.scatter(X_ER, Y_ER, s = 5, color = 'black', label = 'Erdos-Renyi Distribution', alpha = 1)                                   \n",
    "    plt.xscale('log')\n",
    "    plt.yscale('log')\n",
    "   # plt.title(\"Degree Distribution for \" + graph_name)\n",
    "    plt.xlabel(\"Degree (Log Scale)\")\n",
    "    plt.ylabel(\"Number of Nodes (Log Scale)\")\n",
    "    plt.legend()\n",
    "    plt.savefig(name + \" Distribution.pdf\")\n",
    "    plt.show()"
   ]
  },
  {
   "cell_type": "code",
   "execution_count": 5,
   "metadata": {},
   "outputs": [],
   "source": [
    "def calculate_degree_distributions(G, set1, set2, set1_name, set2_name, graph_name):\n",
    "    NodeItr = G.BegNI()\n",
    "    set1_distribution, set2_distribution = {}, {}\n",
    "    for node in range(0, G.GetNodes()):\n",
    "        nodeId = NodeItr.GetId()\n",
    "        nodeDeg = NodeItr.GetDeg()\n",
    "        if nodeId in set1:\n",
    "            if nodeDeg in set1_distribution: set1_distribution[nodeDeg] += 1\n",
    "            else: set1_distribution[nodeDeg] = 1\n",
    "        else:\n",
    "            if nodeDeg in set2_distribution: set2_distribution[nodeDeg] += 1\n",
    "            else: set2_distribution[nodeDeg] = 1\n",
    "        NodeItr.Next()\n",
    "\n",
    "    X_set1, Y_set1, X_set2, Y_set2 = [], [], [], []\n",
    "    for key in set1_distribution:\n",
    "        X_set1.append(key)\n",
    "        Y_set1.append(set1_distribution[key])\n",
    "    for key in set2_distribution:\n",
    "        X_set2.append(key)\n",
    "        Y_set2.append(set2_distribution[key])\n",
    "    \n",
    "   # X_ER, Y_ER = ER_degree_distribution(G.GetNodes(), G.GetEdges())\n",
    "    \n",
    "    plt.scatter(X_set1, Y_set1, s = 5, color = 'r', label = set1_name + ' Distribution', alpha = 1)\n",
    "    plt.scatter(X_set2, Y_set2, s = 5, color = 'b', label = set2_name +' Distribution', alpha = 1)\n",
    "    #plt.scatter(X_ER, Y_ER, s = 5, color = 'black', label = 'Erdos-Renyi Distribution', alpha = 1)                                   \n",
    "    plt.xscale('log')\n",
    "    plt.yscale('log')\n",
    "   # plt.title(\"Degree Distribution for \" + graph_name)\n",
    "    plt.xlabel(\"Degree (Log Scale)\")\n",
    "    plt.ylabel(\"Number of Nodes (Log Scale)\")\n",
    "    plt.legend()\n",
    "    plt.savefig(graph_name + \" Distribution.pdf\")\n",
    "    plt.show()"
   ]
  },
  {
   "cell_type": "code",
   "execution_count": 6,
   "metadata": {},
   "outputs": [
    {
     "name": "stdout",
     "output_type": "stream",
     "text": [
      "Number of company nodes in the network:  11572\n",
      "Number of investor nodes in the network:  10465\n",
      "Number of company-investor nodes:  92\n",
      "Number of total nodes in the network:  21945\n",
      "Number of Edges in the network:  52868\n",
      "Graph Density:  0.000109784619637\n",
      "Cluster Coefficient:  0.000364636214497\n"
     ]
    },
    {
     "data": {
      "image/png": "[encoded data removed]",
      "text/plain": [
       "<Figure size 432x288 with 1 Axes>"
      ]
     },
     "metadata": {},
     "output_type": "display_data"
    }
   ],
   "source": [
    "FIn = snap.TFIn('../graphs/investments-to-companies_TNEANet/investments-to-companies.graph')\n",
    "investors = np.load('../graphs/investments-to-companies_TNEANet/bipartite_source_class.npy')\n",
    "companies = np.load('../graphs/investments-to-companies_TNEANet/bipartite_dest_class.npy')\n",
    "\n",
    "InvestToComp = snap.TNEANet.Load(FIn)\n",
    "nodeCount = InvestToComp.GetNodes()\n",
    "edgeCount = InvestToComp.GetEdges()\n",
    "print \"Number of company nodes in the network: \", len(companies)\n",
    "print \"Number of investor nodes in the network: \", len(investors)\n",
    "print \"Number of company-investor nodes: \", abs(nodeCount - len(companies) - len(investors))\n",
    "print \"Number of total nodes in the network: \", nodeCount\n",
    "print \"Number of Edges in the network: \", edgeCount\n",
    "print \"Graph Density: \", (1.0*edgeCount)/(nodeCount*(nodeCount-1))\n",
    "print \"Cluster Coefficient: \", snap.GetClustCf(InvestToComp)\n",
    "calculate_degree_distributions(InvestToComp, investors, companies, \"Investors\", \"Companies\", \"Investors-to-Companies\")"
   ]
  },
  {
   "cell_type": "code",
   "execution_count": 7,
   "metadata": {},
   "outputs": [
    {
     "name": "stdout",
     "output_type": "stream",
     "text": [
      "Number of company nodes in the network:  4563\n",
      "Number of acquirer nodes in the network:  2641\n",
      "Number of company-acquirer nodes:  278\n",
      "Number of total nodes in the network:  6926\n",
      "Number of Edges in the network:  4651\n",
      "Graph Density:  9.69714912989e-05\n",
      "Cluster Coefficient:  0.000364636214497\n"
     ]
    },
    {
     "data": {
      "image/png": "[encoded data removed]",
      "text/plain": [
       "<Figure size 432x288 with 1 Axes>"
      ]
     },
     "metadata": {},
     "output_type": "display_data"
    }
   ],
   "source": [
    "FIn = snap.TFIn('../graphs/companies-to-acqui_TNEANet/companies-to-acqui.graph')\n",
    "companies = np.load('../graphs/companies-to-acqui_TNEANet/bipartite_source_class.npy')\n",
    "acquirers = np.load('../graphs/companies-to-acqui_TNEANet/bipartite_dest_class.npy')\n",
    "\n",
    "CompToAqui = snap.TNEANet.Load(FIn)\n",
    "nodeCount = CompToAqui.GetNodes()\n",
    "edgeCount = CompToAqui.GetEdges()\n",
    "print \"Number of company nodes in the network: \", len(companies)\n",
    "print \"Number of acquirer nodes in the network: \", len(acquirers)\n",
    "print \"Number of company-acquirer nodes: \", abs(nodeCount - len(companies) - len(acquirers))\n",
    "print \"Number of total nodes in the network: \", nodeCount\n",
    "print \"Number of Edges in the network: \", edgeCount\n",
    "print \"Graph Density: \", (1.0*edgeCount)/(nodeCount*(nodeCount-1))\n",
    "print \"Cluster Coefficient: \", snap.GetClustCf(InvestToComp)\n",
    "calculate_degree_distributions(CompToAqui, acquirers, companies, \"Acquirers\", \"Companies\", \"Companies-to-Acquirers\")"
   ]
  },
  {
   "cell_type": "code",
   "execution_count": 3,
   "metadata": {},
   "outputs": [
    {
     "ename": "RuntimeError",
     "evalue": "Error reading file '../graphs/investments-to-companies_TNEANet/investments-to-companies_TNEANet_folded_reverse_order.graph'.",
     "output_type": "error",
     "traceback": [
      "\u001b[0;31m---------------------------------------------------------------------------\u001b[0m",
      "\u001b[0;31mRuntimeError\u001b[0m                              Traceback (most recent call last)",
      "\u001b[0;32m<ipython-input-3-a29eae270105>\u001b[0m in \u001b[0;36m<module>\u001b[0;34m()\u001b[0m\n\u001b[1;32m      1\u001b[0m \u001b[0mFIn\u001b[0m \u001b[0;34m=\u001b[0m \u001b[0msnap\u001b[0m\u001b[0;34m.\u001b[0m\u001b[0mTFIn\u001b[0m\u001b[0;34m(\u001b[0m\u001b[0;34m'../graphs/investments-to-companies_TNEANet/investments-to-companies_TNEANet_folded_reverse_order.graph'\u001b[0m\u001b[0;34m)\u001b[0m\u001b[0;34m\u001b[0m\u001b[0m\n\u001b[1;32m      2\u001b[0m \u001b[0;34m\u001b[0m\u001b[0m\n\u001b[0;32m----> 3\u001b[0;31m \u001b[0mInvestedComp\u001b[0m \u001b[0;34m=\u001b[0m \u001b[0msnap\u001b[0m\u001b[0;34m.\u001b[0m\u001b[0mTNEANet\u001b[0m\u001b[0;34m.\u001b[0m\u001b[0mLoad\u001b[0m\u001b[0;34m(\u001b[0m\u001b[0mFIn\u001b[0m\u001b[0;34m)\u001b[0m\u001b[0;34m\u001b[0m\u001b[0m\n\u001b[0m\u001b[1;32m      4\u001b[0m \u001b[0mnodeCount\u001b[0m \u001b[0;34m=\u001b[0m \u001b[0mInvestedComp\u001b[0m\u001b[0;34m.\u001b[0m\u001b[0mGetNodes\u001b[0m\u001b[0;34m(\u001b[0m\u001b[0;34m)\u001b[0m\u001b[0;34m\u001b[0m\u001b[0m\n\u001b[1;32m      5\u001b[0m \u001b[0medgeCount\u001b[0m \u001b[0;34m=\u001b[0m \u001b[0mInvestedComp\u001b[0m\u001b[0;34m.\u001b[0m\u001b[0mGetEdges\u001b[0m\u001b[0;34m(\u001b[0m\u001b[0;34m)\u001b[0m\u001b[0;34m\u001b[0m\u001b[0m\n",
      "\u001b[0;32m/anaconda2/lib/python2.7/site-packages/snap.pyc\u001b[0m in \u001b[0;36mLoad\u001b[0;34m(SIn)\u001b[0m\n\u001b[1;32m  18003\u001b[0m \u001b[0;34m\u001b[0m\u001b[0m\n\u001b[1;32m  18004\u001b[0m         \"\"\"\n\u001b[0;32m> 18005\u001b[0;31m         \u001b[0;32mreturn\u001b[0m \u001b[0m_snap\u001b[0m\u001b[0;34m.\u001b[0m\u001b[0mTNEANet_Load\u001b[0m\u001b[0;34m(\u001b[0m\u001b[0mSIn\u001b[0m\u001b[0;34m)\u001b[0m\u001b[0;34m\u001b[0m\u001b[0m\n\u001b[0m\u001b[1;32m  18006\u001b[0m \u001b[0;34m\u001b[0m\u001b[0m\n\u001b[1;32m  18007\u001b[0m     \u001b[0mLoad\u001b[0m \u001b[0;34m=\u001b[0m \u001b[0mstaticmethod\u001b[0m\u001b[0;34m(\u001b[0m\u001b[0mLoad\u001b[0m\u001b[0;34m)\u001b[0m\u001b[0;34m\u001b[0m\u001b[0m\n",
      "\u001b[0;31mRuntimeError\u001b[0m: Error reading file '../graphs/investments-to-companies_TNEANet/investments-to-companies_TNEANet_folded_reverse_order.graph'."
     ]
    }
   ],
   "source": [
    "FIn = snap.TFIn('../graphs/investments-to-companies_TNEANet/investments-to-companies_TNEANet_folded_reverse_order.graph')\n",
    "\n",
    "InvestedComp = snap.TNEANet.Load(FIn)\n",
    "nodeCount = InvestedComp.GetNodes()\n",
    "edgeCount = InvestedComp.GetEdges()\n",
    "print \"Number of total nodes in the network: \", nodeCount\n",
    "print \"Number of Edges in the network: \", edgeCount\n",
    "print \"Graph Density: \", (1.0*edgeCount)/(nodeCount*(nodeCount-1))\n",
    "print \"Cluster Coefficient: \", snap.GetClustCf(InvestedComp)\n",
    "calculate_ditribution(\"Invested-Companies\", InvestedComp)"
   ]
  },
  {
   "cell_type": "code",
   "execution_count": null,
   "metadata": {},
   "outputs": [],
   "source": [
    "# Build tripartite graph\n",
    "# Writeup implementation and nextsteps"
   ]
  }
 ],
 "metadata": {
  "kernelspec": {
   "display_name": "Python 2",
   "language": "python",
   "name": "python2"
  },
  "language_info": {
   "codemirror_mode": {
    "name": "ipython",
    "version": 2
   },
   "file_extension": ".py",
   "mimetype": "text/x-python",
   "name": "python",
   "nbconvert_exporter": "python",
   "pygments_lexer": "ipython2",
   "version": "2.7.15"
  }
 },
 "nbformat": 4,
 "nbformat_minor": 2
}
